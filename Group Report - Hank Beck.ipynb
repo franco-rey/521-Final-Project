{
 "cells": [
  {
   "cell_type": "markdown",
   "metadata": {},
   "source": [
    "# Machine Learning 521 Final Report\n",
    "## Predicting Quarterly Earnings per Share with Time Series Data\n",
    "#### Random Forest Regression - Bhavesh Kumar\n",
    "#### Gradient Boosted Regressor Trees - Hank Beck\n",
    "#### Support Vector Machine  - Bhavesh Kumar\n",
    "#### Kmean Regime Clustering and Markov Chain - Kevin Zhang\n",
    "#### Recurrent Neural Network - Franco Rey\n",
    "#### Vanilla Neural Network - Bhavesh Kumar"
   ]
  },
  {
   "cell_type": "markdown",
   "metadata": {},
   "source": [
    "# Introduction\n",
    "    - What is the problem?\n",
    "    - What are traditional methods for forecasting returns?\n",
    "    - What is the benefit of machine learning to this problem\n",
    "    - What models did we choose to explore"
   ]
  },
  {
   "cell_type": "markdown",
   "metadata": {},
   "source": [
    "\n",
    "# Data\n",
    "\n",
    "## Target\n",
    "    - Reported EPS\n",
    "    \n",
    "## Features\n",
    "    \n",
    "## Data Sources\n",
    "    - Yahoo finance\n",
    "    - Alpha Vantage\n",
    "    \n",
    "## Things that needed to be accounted for\n",
    "    - look ahead bias\n",
    "    - Information available when predictions are to be made\n",
    "    - Stationarity \n",
    "    - survivorship Bias\n",
    "    \n",
    "## Pros of the data set\n",
    "\n",
    "## Cons of dataset\n",
    "\n",
    "## Ways the dataset could be theorectically improved if more data available\n",
    "    - longer time period\n",
    "        "
   ]
  },
  {
   "cell_type": "markdown",
   "metadata": {},
   "source": [
    "# Data Fetching and Cleaning\n",
    "I will work here before merging with main so we have a backup in case someone messes up a merge with their independent branch"
   ]
  },
  {
   "cell_type": "code",
   "execution_count": 1,
   "metadata": {},
   "outputs": [],
   "source": [
    "# import modules\n",
    "import pandas as pd\n",
    "import pandas_datareader as pdr\n",
    "import csv\n",
    "# system related\n",
    "import warnings\n",
    "import os\n",
    "from dotenv import load_dotenv\n",
    "# math\n",
    "import numpy as np\n",
    "from scipy.stats import gmean\n",
    "# Modules for fetching data\n",
    "import yfinance as yf\n",
    "import requests"
   ]
  },
  {
   "cell_type": "code",
   "execution_count": 2,
   "metadata": {},
   "outputs": [],
   "source": [
    "# Suppress specific pandas warnings\n",
    "warnings.filterwarnings('ignore', category=pd.errors.PerformanceWarning)\n",
    "pd.options.mode.chained_assignment = None  # default='warn'\n",
    "\n",
    "load_dotenv()\n",
    "AV_api_key = os.getenv(\"ALPHA_VANTAGE_API_KEY\")"
   ]
  },
  {
   "cell_type": "code",
   "execution_count": 3,
   "metadata": {},
   "outputs": [],
   "source": [
    "START_DATE_yahoo =\"1990-01-01\"\n",
    "END_DATE_yahoo = \"2024-05-30\"\n",
    "\n",
    "# Larger Market trends \n",
    "\n",
    "# S&P 500\n",
    "sp500_ticker = '^GSPC'\n",
    "sp500_csv = '.\\data_files\\sp500_RawData.csv'\n",
    "START_DATE_sp500 = START_DATE_yahoo\n",
    "END_DATE_sp500 = END_DATE_yahoo\n",
    "\n",
    "# CBOE Volatility Index (VIX)\n",
    "vix_ticker = '^VIX'\n",
    "vix_csv = '.\\data_files\\VIX_RawData.csv'\n",
    "START_DATE_vix = START_DATE_yahoo\n",
    "END_DATE_vix = END_DATE_yahoo\n",
    "\n",
    "# Large Cap Stocks\n",
    "\n",
    "# Johnson and Johnson (JNJ)\n",
    "jj_ticker = 'JNJ'\n",
    "jj_csv = '.\\data_files\\JNJ_RawData.csv'\n",
    "jj_earnings_csv = '.\\data_files\\JNJquarterlyEarnings.csv'\n",
    "jj_balSht_csv = '.\\data_files\\JNJquarterlyBalSheet.csv'\n",
    "jj_dividend_csv = '.\\data_files\\JNJdividends.csv'\n",
    "START_DATE_jj = START_DATE_yahoo\n",
    "END_DATE_jj = END_DATE_yahoo\n"
   ]
  },
  {
   "cell_type": "markdown",
   "metadata": {},
   "source": [
    "## Helper Functions"
   ]
  },
  {
   "cell_type": "code",
   "execution_count": 4,
   "metadata": {},
   "outputs": [],
   "source": [
    "# Franco\n",
    "\n",
    "# Reshape data to fit the RNN input shape\n",
    "def create_sequences(data, n_steps):\n",
    "    X, y = [], []\n",
    "    for i in range(n_steps, len(data)):\n",
    "        X.append(data[i-n_steps:i, :])\n",
    "        y.append(data[i, 1])  # Assuming the first column is the target variable\n",
    "    return np.array(X), np.array(y)\n"
   ]
  },
  {
   "cell_type": "markdown",
   "metadata": {},
   "source": [
    "# FROM CSVs Create Collated Data Frame\n",
    "\n",
    "Features to Extract:\n",
    "\n",
    "    - reported Earnings Per Share\n",
    "    - Total Assets\n",
    "    - Accruals \n",
    "    - Equity Ratio \n",
    "    - Cash Dividends Paid Since last Quarter\n",
    "    - VIX Lagged By By several steps out\n",
    "        - Can achieve some granularity this way despite looking to make quarterly predictions for earnings\n",
    "    - S&P Lagged for several steps \n",
    "        - Can provide information on how it has moved over the last several weeks not just quarter to quarter snapshots "
   ]
  },
  {
   "cell_type": "code",
   "execution_count": 19,
   "metadata": {},
   "outputs": [
    {
     "data": {
      "text/html": [
       "<div>\n",
       "<style scoped>\n",
       "    .dataframe tbody tr th:only-of-type {\n",
       "        vertical-align: middle;\n",
       "    }\n",
       "\n",
       "    .dataframe tbody tr th {\n",
       "        vertical-align: top;\n",
       "    }\n",
       "\n",
       "    .dataframe thead th {\n",
       "        text-align: right;\n",
       "    }\n",
       "</style>\n",
       "<table border=\"1\" class=\"dataframe\">\n",
       "  <thead>\n",
       "    <tr style=\"text-align: right;\">\n",
       "      <th></th>\n",
       "      <th>Estimated EPS</th>\n",
       "      <th>Reported EPS</th>\n",
       "      <th>totalAssets</th>\n",
       "      <th>Equity Ratio</th>\n",
       "      <th>geo_mean_Daily_Return_percent_SP_prev_week</th>\n",
       "      <th>geo_mean_Daily_Return_percent_SP_prev_month</th>\n",
       "      <th>geo_mean_Daily_Return_percent_SP_prev_quarter</th>\n",
       "      <th>geo_mean_Daily_Return_percent_VIX_prev_week</th>\n",
       "      <th>geo_mean_Daily_Return_percent_VIX_prev_month</th>\n",
       "      <th>geo_mean_Daily_Return_percent_VIX_prev_quarter</th>\n",
       "      <th>geo_mean_Daily_Return_percent_prev_week</th>\n",
       "      <th>geo_mean_Daily_Return_percent_prev_month</th>\n",
       "      <th>geo_mean_Daily_Return_percent_prev_quarter</th>\n",
       "      <th>geo_mean_volume_prev_quarter</th>\n",
       "      <th>avg_dividend_prev_quarter</th>\n",
       "    </tr>\n",
       "    <tr>\n",
       "      <th>Date</th>\n",
       "      <th></th>\n",
       "      <th></th>\n",
       "      <th></th>\n",
       "      <th></th>\n",
       "      <th></th>\n",
       "      <th></th>\n",
       "      <th></th>\n",
       "      <th></th>\n",
       "      <th></th>\n",
       "      <th></th>\n",
       "      <th></th>\n",
       "      <th></th>\n",
       "      <th></th>\n",
       "      <th></th>\n",
       "      <th></th>\n",
       "    </tr>\n",
       "  </thead>\n",
       "  <tbody>\n",
       "    <tr>\n",
       "      <th>1996-03-31</th>\n",
       "      <td>0.29</td>\n",
       "      <td>0.30</td>\n",
       "      <td>NaN</td>\n",
       "      <td>NaN</td>\n",
       "      <td>-0.001579</td>\n",
       "      <td>0.000088</td>\n",
       "      <td>0.000774</td>\n",
       "      <td>0.020948</td>\n",
       "      <td>0.021654</td>\n",
       "      <td>0.016650</td>\n",
       "      <td>-0.007177</td>\n",
       "      <td>-0.003415</td>\n",
       "      <td>0.000342</td>\n",
       "      <td>5.896840e+06</td>\n",
       "      <td>0.0825</td>\n",
       "    </tr>\n",
       "    <tr>\n",
       "      <th>1996-06-30</th>\n",
       "      <td>0.29</td>\n",
       "      <td>0.30</td>\n",
       "      <td>NaN</td>\n",
       "      <td>NaN</td>\n",
       "      <td>0.001134</td>\n",
       "      <td>0.000113</td>\n",
       "      <td>0.000378</td>\n",
       "      <td>-0.016427</td>\n",
       "      <td>0.006058</td>\n",
       "      <td>0.009469</td>\n",
       "      <td>0.004607</td>\n",
       "      <td>-0.000624</td>\n",
       "      <td>-0.000425</td>\n",
       "      <td>4.564825e+06</td>\n",
       "      <td>0.0950</td>\n",
       "    </tr>\n",
       "    <tr>\n",
       "      <th>1996-09-30</th>\n",
       "      <td>0.28</td>\n",
       "      <td>0.28</td>\n",
       "      <td>NaN</td>\n",
       "      <td>NaN</td>\n",
       "      <td>0.000073</td>\n",
       "      <td>0.002643</td>\n",
       "      <td>0.000760</td>\n",
       "      <td>0.005274</td>\n",
       "      <td>-0.002601</td>\n",
       "      <td>0.001426</td>\n",
       "      <td>-0.001223</td>\n",
       "      <td>-0.000599</td>\n",
       "      <td>-0.000681</td>\n",
       "      <td>3.109551e+06</td>\n",
       "      <td>0.0950</td>\n",
       "    </tr>\n",
       "    <tr>\n",
       "      <th>1996-12-31</th>\n",
       "      <td>0.21</td>\n",
       "      <td>0.21</td>\n",
       "      <td>NaN</td>\n",
       "      <td>NaN</td>\n",
       "      <td>-0.001660</td>\n",
       "      <td>-0.001058</td>\n",
       "      <td>0.000864</td>\n",
       "      <td>0.010501</td>\n",
       "      <td>0.011478</td>\n",
       "      <td>0.007637</td>\n",
       "      <td>-0.000992</td>\n",
       "      <td>-0.002938</td>\n",
       "      <td>-0.001846</td>\n",
       "      <td>3.852278e+06</td>\n",
       "      <td>0.0950</td>\n",
       "    </tr>\n",
       "    <tr>\n",
       "      <th>1997-03-31</th>\n",
       "      <td>0.34</td>\n",
       "      <td>0.34</td>\n",
       "      <td>NaN</td>\n",
       "      <td>NaN</td>\n",
       "      <td>-0.006978</td>\n",
       "      <td>-0.002175</td>\n",
       "      <td>0.000203</td>\n",
       "      <td>0.031544</td>\n",
       "      <td>0.012011</td>\n",
       "      <td>0.004900</td>\n",
       "      <td>-0.015737</td>\n",
       "      <td>-0.006895</td>\n",
       "      <td>-0.001817</td>\n",
       "      <td>5.163951e+06</td>\n",
       "      <td>0.0950</td>\n",
       "    </tr>\n",
       "  </tbody>\n",
       "</table>\n",
       "</div>"
      ],
      "text/plain": [
       "            Estimated EPS  Reported EPS  totalAssets  Equity Ratio  \\\n",
       "Date                                                                 \n",
       "1996-03-31           0.29          0.30          NaN           NaN   \n",
       "1996-06-30           0.29          0.30          NaN           NaN   \n",
       "1996-09-30           0.28          0.28          NaN           NaN   \n",
       "1996-12-31           0.21          0.21          NaN           NaN   \n",
       "1997-03-31           0.34          0.34          NaN           NaN   \n",
       "\n",
       "            geo_mean_Daily_Return_percent_SP_prev_week  \\\n",
       "Date                                                     \n",
       "1996-03-31                                   -0.001579   \n",
       "1996-06-30                                    0.001134   \n",
       "1996-09-30                                    0.000073   \n",
       "1996-12-31                                   -0.001660   \n",
       "1997-03-31                                   -0.006978   \n",
       "\n",
       "            geo_mean_Daily_Return_percent_SP_prev_month  \\\n",
       "Date                                                      \n",
       "1996-03-31                                     0.000088   \n",
       "1996-06-30                                     0.000113   \n",
       "1996-09-30                                     0.002643   \n",
       "1996-12-31                                    -0.001058   \n",
       "1997-03-31                                    -0.002175   \n",
       "\n",
       "            geo_mean_Daily_Return_percent_SP_prev_quarter  \\\n",
       "Date                                                        \n",
       "1996-03-31                                       0.000774   \n",
       "1996-06-30                                       0.000378   \n",
       "1996-09-30                                       0.000760   \n",
       "1996-12-31                                       0.000864   \n",
       "1997-03-31                                       0.000203   \n",
       "\n",
       "            geo_mean_Daily_Return_percent_VIX_prev_week  \\\n",
       "Date                                                      \n",
       "1996-03-31                                     0.020948   \n",
       "1996-06-30                                    -0.016427   \n",
       "1996-09-30                                     0.005274   \n",
       "1996-12-31                                     0.010501   \n",
       "1997-03-31                                     0.031544   \n",
       "\n",
       "            geo_mean_Daily_Return_percent_VIX_prev_month  \\\n",
       "Date                                                       \n",
       "1996-03-31                                      0.021654   \n",
       "1996-06-30                                      0.006058   \n",
       "1996-09-30                                     -0.002601   \n",
       "1996-12-31                                      0.011478   \n",
       "1997-03-31                                      0.012011   \n",
       "\n",
       "            geo_mean_Daily_Return_percent_VIX_prev_quarter  \\\n",
       "Date                                                         \n",
       "1996-03-31                                        0.016650   \n",
       "1996-06-30                                        0.009469   \n",
       "1996-09-30                                        0.001426   \n",
       "1996-12-31                                        0.007637   \n",
       "1997-03-31                                        0.004900   \n",
       "\n",
       "            geo_mean_Daily_Return_percent_prev_week  \\\n",
       "Date                                                  \n",
       "1996-03-31                                -0.007177   \n",
       "1996-06-30                                 0.004607   \n",
       "1996-09-30                                -0.001223   \n",
       "1996-12-31                                -0.000992   \n",
       "1997-03-31                                -0.015737   \n",
       "\n",
       "            geo_mean_Daily_Return_percent_prev_month  \\\n",
       "Date                                                   \n",
       "1996-03-31                                 -0.003415   \n",
       "1996-06-30                                 -0.000624   \n",
       "1996-09-30                                 -0.000599   \n",
       "1996-12-31                                 -0.002938   \n",
       "1997-03-31                                 -0.006895   \n",
       "\n",
       "            geo_mean_Daily_Return_percent_prev_quarter  \\\n",
       "Date                                                     \n",
       "1996-03-31                                    0.000342   \n",
       "1996-06-30                                   -0.000425   \n",
       "1996-09-30                                   -0.000681   \n",
       "1996-12-31                                   -0.001846   \n",
       "1997-03-31                                   -0.001817   \n",
       "\n",
       "            geo_mean_volume_prev_quarter  avg_dividend_prev_quarter  \n",
       "Date                                                                 \n",
       "1996-03-31                  5.896840e+06                     0.0825  \n",
       "1996-06-30                  4.564825e+06                     0.0950  \n",
       "1996-09-30                  3.109551e+06                     0.0950  \n",
       "1996-12-31                  3.852278e+06                     0.0950  \n",
       "1997-03-31                  5.163951e+06                     0.0950  "
      ]
     },
     "execution_count": 19,
     "metadata": {},
     "output_type": "execute_result"
    }
   ],
   "source": [
    "Market_Features_to_drop = ['Volume','High','Low','Adj Close']\n",
    "Balance_sheet_features_to_keep = ['totalAssets','totalShareholderEquity']\n",
    "\n",
    "# Get Price Data\n",
    "SP500_raw_df = pd.read_csv(sp500_csv, index_col = 'Date')\n",
    "VIX_raw_df = pd.read_csv(vix_csv, index_col = 'Date')\n",
    "JJ_raw_price_df = pd.read_csv(jj_csv, index_col = 'Date')\n",
    "\n",
    "# Get Quarterly Data\n",
    "JJ_Earnings_df = pd.read_csv(jj_earnings_csv)\n",
    "JJ_Earnings_df['Date'] = pd.to_datetime(JJ_Earnings_df['Fiscal Date'])\n",
    "JJ_Earnings_df.drop(columns = ['Fiscal Date'], inplace = True)\n",
    "JJ_Earnings_df.set_index('Date', inplace = True)\n",
    "JJ_Earnings_df =  JJ_Earnings_df.iloc[::-1]\n",
    "\n",
    "JJ_BalSht_df = pd.read_csv(jj_balSht_csv)\n",
    "JJ_BalSht_df['Date'] = pd.to_datetime(JJ_BalSht_df['fiscalDateEnding'])\n",
    "JJ_BalSht_df.drop(columns = ['fiscalDateEnding'], inplace = True)\n",
    "JJ_BalSht_df.set_index('Date', inplace = True)\n",
    "JJ_BalSht_df =  JJ_BalSht_df.iloc[::-1]\n",
    "\n",
    "# get Dividend Data\n",
    "JJ_dividend_df = pd.read_csv(jj_dividend_csv)\n",
    "JJ_dividend_df['Date'] = JJ_dividend_df['Date'].str.split().str[0]\n",
    "JJ_dividend_df.set_index('Date', inplace = True)\n",
    "\n",
    "# drop market feature form S&P and VIX\n",
    "SP500_raw_df.drop(columns= Market_Features_to_drop, inplace= True)\n",
    "VIX_raw_df.drop(columns=Market_Features_to_drop, inplace= True)\n",
    "\n",
    "# drop high and low\n",
    "JJ_raw_price_df.drop(columns=['High','Adj Close', 'Low'], inplace=True)\n",
    "\n",
    "# Calculate daily return\n",
    "SP500_raw_df['Daily_Return_dollars'] = SP500_raw_df['Close'] - SP500_raw_df['Open']\n",
    "VIX_raw_df['Daily_Return_dollars'] = VIX_raw_df['Close'] - VIX_raw_df['Open']\n",
    "\n",
    "SP500_raw_df['Daily_Return_percent'] = SP500_raw_df['Daily_Return_dollars']/SP500_raw_df['Open']\n",
    "VIX_raw_df['Daily_Return_percent'] = VIX_raw_df['Daily_Return_dollars']/VIX_raw_df['Open']\n",
    "\n",
    "JJ_raw_price_df['Daily_Return_dollars'] = JJ_raw_price_df['Close'] - JJ_raw_price_df['Open']\n",
    "JJ_raw_price_df['Daily_Return_percent'] = JJ_raw_price_df['Daily_Return_dollars']/JJ_raw_price_df['Open']\n",
    "\n",
    "# drop open and close\n",
    "JJ_raw_price_df.drop(columns=['Open','Close','Daily_Return_dollars'], inplace = True)\n",
    "SP500_raw_df.drop(columns=['Open','Close','Daily_Return_dollars'], inplace = True)\n",
    "VIX_raw_df.drop(columns=['Open','Close','Daily_Return_dollars'], inplace = True)\n",
    "\n",
    "# Balance Sheet Features\n",
    "JJ_Bal_Sheet_reduced_df = JJ_BalSht_df.loc[:,Balance_sheet_features_to_keep]\n",
    "JJ_Bal_Sheet_reduced_df['Equity Ratio'] = JJ_Bal_Sheet_reduced_df['totalShareholderEquity'] /JJ_Bal_Sheet_reduced_df['totalAssets']\n",
    "JJ_Bal_Sheet_reduced_df.drop(columns=['totalShareholderEquity'], inplace = True)\n",
    "\n",
    "\n",
    "# JJ merge\n",
    "JJ_market_df = JJ_dividend_df.merge(JJ_raw_price_df, how = 'outer', left_index=True, right_index=True)\n",
    "JJ_market_df.index = pd.to_datetime(JJ_market_df.index)\n",
    "JJ_market_df = JJ_market_df['1995':]\n",
    "\n",
    "JJ_earnbal_df = JJ_Earnings_df.merge(JJ_Bal_Sheet_reduced_df, how = 'outer', left_index = True, right_index = True)\n",
    "JJ_merge_df = JJ_market_df.merge(JJ_earnbal_df,how = 'outer', left_index= True, right_index= True)\n",
    "\n",
    "# Merge Raw Data\n",
    "market_df = SP500_raw_df.merge(VIX_raw_df, left_index=True, right_index=True,suffixes=('_SP','_VIX'))\n",
    "market_df.index = pd.to_datetime(market_df.index)\n",
    "\n",
    "# drop prior to the start of 1995 So we have data for lagged features\n",
    "market_df = market_df['1995':]\n",
    "\n",
    "merged_df = market_df.merge(JJ_merge_df, how = 'outer', left_index= True, right_index= True)\n",
    "\n",
    "merged_df.sort_index(inplace=True)\n",
    "                            \n",
    "# Display Data Frame Head\n",
    "#merged_df.head()\n",
    "\n",
    "# Create features for avergage daily returns for the prior quarter\n",
    "monthly_return_feats = ['Daily_Return_percent_SP','Daily_Return_percent_VIX','Daily_Return_percent']\n",
    "\n",
    "\n",
    "for feat in monthly_return_feats:\n",
    "    # Create a column to store the geometric mean\n",
    "    new_week_feat_name = 'geo_mean_' + feat + '_prev_week'\n",
    "    new_month_feat_name = 'geo_mean_' + feat + '_prev_month'\n",
    "    new_quarter_feat_name = 'geo_mean_' + feat + '_prev_quarter'\n",
    "    merged_df[new_week_feat_name] = np.nan\n",
    "    merged_df[new_month_feat_name] = np.nan\n",
    "    merged_df[new_quarter_feat_name] = np.nan\n",
    "    # Iterate over rows where 'target' is not NaN\n",
    "    for idx, row in merged_df[merged_df['Estimated EPS'].notna()].iterrows():\n",
    "        # Identify the week ending at the current row's index\n",
    "        end_date = idx\n",
    "        start_date_week  = end_date - pd.Timedelta(days=7)\n",
    "        start_date_month = end_date - pd.Timedelta(weeks=4)\n",
    "        start_date_quarter = end_date - pd.Timedelta(weeks=12)\n",
    "        # Get the week prior data\n",
    "        prior_week_data = merged_df.loc[start_date_week:end_date][feat]\n",
    "        prior_week_data.dropna(inplace= True)\n",
    "        # month\n",
    "        prior_month_data = merged_df.loc[start_date_month:end_date][feat]\n",
    "        prior_month_data.dropna(inplace= True)\n",
    "        # quarter\n",
    "        prior_quarter_data = merged_df.loc[start_date_quarter:end_date][feat]\n",
    "        prior_quarter_data.dropna(inplace= True)\n",
    "        if feat == 'Daily_Return_percent_SP':\n",
    "            check_df = prior_week_data\n",
    "        # Calculate the geometric mean\n",
    "        if len(prior_week_data) > 0:\n",
    "            geo_mean = gmean(1+prior_week_data)\n",
    "            merged_df.at[idx, new_week_feat_name] = (geo_mean - 1)\n",
    "        if len(prior_month_data) > 0:\n",
    "            geo_mean = gmean(1+prior_month_data)\n",
    "            merged_df.at[idx, new_month_feat_name] = (geo_mean - 1)\n",
    "        if len(prior_quarter_data) > 0:\n",
    "            geo_mean = gmean(1+prior_quarter_data)\n",
    "            merged_df.at[idx, new_quarter_feat_name] = (geo_mean - 1)\n",
    "    merged_df.drop(columns = feat, inplace=True)\n",
    "\n",
    "\n",
    "# Create avergage daily volume\n",
    "new_feat_name = 'geo_mean_volume_prev_quarter'\n",
    "merged_df[new_feat_name] = np.nan\n",
    "# Iterate over rows where 'target' is not NaN\n",
    "for idx, row in merged_df[merged_df['Estimated EPS'].notna()].iterrows():\n",
    "    # Identify the week ending at the current row's index\n",
    "    end_date = idx\n",
    "    #start_date_week  = end_date - pd.Timedelta(days=7)\n",
    "    #start_date_month = end_date - pd.Timedelta(weeks=4)\n",
    "    start_date_quarter = end_date - pd.Timedelta(weeks=12)\n",
    "    # quarter\n",
    "    prior_quarter_data = merged_df.loc[start_date_quarter:end_date]['Volume']\n",
    "    prior_quarter_data.dropna(inplace= True)\n",
    "    # Calculate the geometric mean\n",
    "    if len(prior_quarter_data) > 0:\n",
    "        geo_mean = gmean(prior_quarter_data)\n",
    "        merged_df.at[idx, new_feat_name] = (geo_mean)\n",
    "\n",
    "# Create avergage dividend in previous quarter\n",
    "new_feat_name = 'avg_dividend_prev_quarter'\n",
    "merged_df[new_feat_name] = np.nan\n",
    "# Iterate over rows where 'target' is not NaN\n",
    "for idx, row in merged_df[merged_df['Estimated EPS'].notna()].iterrows():\n",
    "    # Identify the week ending at the current row's index\n",
    "    end_date = idx\n",
    "    start_date_quarter = end_date - pd.Timedelta(weeks=12)\n",
    "    # quarter\n",
    "    prior_quarter_data = merged_df.loc[start_date_quarter:end_date]['Dividends']\n",
    "    prior_quarter_data.dropna(inplace= True)\n",
    "    # Calculate the geometric mean\n",
    "    if len(prior_quarter_data) > 0:\n",
    "        mean = np.mean(prior_quarter_data)\n",
    "        merged_df.at[idx, new_feat_name] = (mean)\n",
    "    else:\n",
    "        merged_df.at[idx, new_feat_name] = 0\n",
    "\n",
    "\n",
    "# drop original dividend and volume\n",
    "merged_df.drop(columns = ['Volume', 'Dividends'], inplace=True)\n",
    "#check_df.values\n",
    "#gmean(1+check_df)\n",
    "\n",
    "Features_And_Target_df = merged_df[merged_df['Estimated EPS'].notna()]\n",
    "Features_And_Target_df.head()\n",
    "\n",
    "#merged_df = Features_And_Target_df\n",
    "#merged_df.head()"
   ]
  },
  {
   "cell_type": "markdown",
   "metadata": {},
   "source": [
    "# XGBoost (Hank)"
   ]
  },
  {
   "cell_type": "code",
   "execution_count": 20,
   "metadata": {},
   "outputs": [],
   "source": [
    "# import modules\n",
    "#import xgboost as xgb\n",
    "from sklearn.metrics import mean_squared_error\n",
    "from sklearn.model_selection import TimeSeriesSplit, GridSearchCV\n",
    "from sklearn.pipeline import Pipeline\n",
    "from sklearn.preprocessing import StandardScaler\n",
    "from sklearn.ensemble import GradientBoostingRegressor\n",
    "\n",
    "import matplotlib.pyplot as plt"
   ]
  },
  {
   "cell_type": "code",
   "execution_count": 21,
   "metadata": {},
   "outputs": [],
   "source": [
    "np.random.seed(42)"
   ]
  },
  {
   "cell_type": "markdown",
   "metadata": {},
   "source": [
    "## Feature extraction for our model\n",
    "\n",
    "Since our data was accrued from several sources, the history of some metrics is significantly lesser than the others. Most significant is the Equity Ratio which was calculated from Alpha Vantage's Balance Sheet data for Johnson and Johnson. Before training the model I think it is best to make a value judgement on wether attempting to impute such a value is realistic, or if it would be more likely to inject noise\n"
   ]
  },
  {
   "cell_type": "code",
   "execution_count": 22,
   "metadata": {},
   "outputs": [
    {
     "name": "stdout",
     "output_type": "stream",
     "text": [
      "Number of Equity Ratio Points Missing:  53\n",
      "Number Present : 60\n"
     ]
    }
   ],
   "source": [
    "Number_ER = Features_And_Target_df[Features_And_Target_df['Equity Ratio'].notna()].shape[0]\n",
    "Number_ER_missing = Features_And_Target_df.shape[0]-Number_ER\n",
    "print(\"Number of Equity Ratio Points Missing: \", Number_ER_missing)\n",
    "print(\"Number Present :\", Number_ER)"
   ]
  },
  {
   "cell_type": "markdown",
   "metadata": {},
   "source": [
    "With a limited data set and the number of missing data points being roughly equivalent to number present I think it is best to simply omit these features from the model. I do however believe that adding a year's worth of feature's representing our target is worthwhile as it allows our ensemble of predictiors to include how earnings have changed over the prior year, allowing us to better model the data's nature as time series."
   ]
  },
  {
   "cell_type": "code",
   "execution_count": 23,
   "metadata": {},
   "outputs": [
    {
     "data": {
      "text/html": [
       "<div>\n",
       "<style scoped>\n",
       "    .dataframe tbody tr th:only-of-type {\n",
       "        vertical-align: middle;\n",
       "    }\n",
       "\n",
       "    .dataframe tbody tr th {\n",
       "        vertical-align: top;\n",
       "    }\n",
       "\n",
       "    .dataframe thead th {\n",
       "        text-align: right;\n",
       "    }\n",
       "</style>\n",
       "<table border=\"1\" class=\"dataframe\">\n",
       "  <thead>\n",
       "    <tr style=\"text-align: right;\">\n",
       "      <th></th>\n",
       "      <th>Estimated EPS</th>\n",
       "      <th>Reported EPS</th>\n",
       "      <th>geo_mean_Daily_Return_percent_SP_prev_week</th>\n",
       "      <th>geo_mean_Daily_Return_percent_SP_prev_month</th>\n",
       "      <th>geo_mean_Daily_Return_percent_SP_prev_quarter</th>\n",
       "      <th>geo_mean_Daily_Return_percent_VIX_prev_week</th>\n",
       "      <th>geo_mean_Daily_Return_percent_VIX_prev_month</th>\n",
       "      <th>geo_mean_Daily_Return_percent_VIX_prev_quarter</th>\n",
       "      <th>geo_mean_Daily_Return_percent_prev_week</th>\n",
       "      <th>geo_mean_Daily_Return_percent_prev_month</th>\n",
       "      <th>geo_mean_Daily_Return_percent_prev_quarter</th>\n",
       "      <th>geo_mean_volume_prev_quarter</th>\n",
       "      <th>avg_dividend_prev_quarter</th>\n",
       "      <th>Reported_EPS_lag1</th>\n",
       "      <th>Reported_EPS_lag2</th>\n",
       "      <th>Reported_EPS_lag3</th>\n",
       "      <th>Reported_EPS_lag4</th>\n",
       "    </tr>\n",
       "    <tr>\n",
       "      <th>Date</th>\n",
       "      <th></th>\n",
       "      <th></th>\n",
       "      <th></th>\n",
       "      <th></th>\n",
       "      <th></th>\n",
       "      <th></th>\n",
       "      <th></th>\n",
       "      <th></th>\n",
       "      <th></th>\n",
       "      <th></th>\n",
       "      <th></th>\n",
       "      <th></th>\n",
       "      <th></th>\n",
       "      <th></th>\n",
       "      <th></th>\n",
       "      <th></th>\n",
       "      <th></th>\n",
       "    </tr>\n",
       "  </thead>\n",
       "  <tbody>\n",
       "    <tr>\n",
       "      <th>1997-03-31</th>\n",
       "      <td>0.34</td>\n",
       "      <td>0.34</td>\n",
       "      <td>-0.006978</td>\n",
       "      <td>-0.002175</td>\n",
       "      <td>0.000203</td>\n",
       "      <td>0.031544</td>\n",
       "      <td>0.012011</td>\n",
       "      <td>0.004900</td>\n",
       "      <td>-0.015737</td>\n",
       "      <td>-0.006895</td>\n",
       "      <td>-0.001817</td>\n",
       "      <td>5.163951e+06</td>\n",
       "      <td>0.095</td>\n",
       "      <td>0.21</td>\n",
       "      <td>0.28</td>\n",
       "      <td>0.30</td>\n",
       "      <td>0.30</td>\n",
       "    </tr>\n",
       "    <tr>\n",
       "      <th>1997-06-30</th>\n",
       "      <td>0.34</td>\n",
       "      <td>0.34</td>\n",
       "      <td>-0.002531</td>\n",
       "      <td>0.002026</td>\n",
       "      <td>0.002591</td>\n",
       "      <td>0.008545</td>\n",
       "      <td>-0.001616</td>\n",
       "      <td>-0.004182</td>\n",
       "      <td>-0.006602</td>\n",
       "      <td>0.001573</td>\n",
       "      <td>0.001716</td>\n",
       "      <td>4.431570e+06</td>\n",
       "      <td>0.110</td>\n",
       "      <td>0.34</td>\n",
       "      <td>0.21</td>\n",
       "      <td>0.28</td>\n",
       "      <td>0.30</td>\n",
       "    </tr>\n",
       "    <tr>\n",
       "      <th>1997-09-30</th>\n",
       "      <td>0.32</td>\n",
       "      <td>0.32</td>\n",
       "      <td>-0.001427</td>\n",
       "      <td>0.002469</td>\n",
       "      <td>0.000629</td>\n",
       "      <td>0.004503</td>\n",
       "      <td>-0.003728</td>\n",
       "      <td>-0.000217</td>\n",
       "      <td>-0.008322</td>\n",
       "      <td>-0.001618</td>\n",
       "      <td>-0.004798</td>\n",
       "      <td>5.598138e+06</td>\n",
       "      <td>0.110</td>\n",
       "      <td>0.34</td>\n",
       "      <td>0.34</td>\n",
       "      <td>0.21</td>\n",
       "      <td>0.28</td>\n",
       "    </tr>\n",
       "    <tr>\n",
       "      <th>1997-12-31</th>\n",
       "      <td>0.23</td>\n",
       "      <td>0.24</td>\n",
       "      <td>0.006579</td>\n",
       "      <td>-0.000064</td>\n",
       "      <td>-0.000220</td>\n",
       "      <td>-0.028643</td>\n",
       "      <td>0.004153</td>\n",
       "      <td>0.000736</td>\n",
       "      <td>-0.003061</td>\n",
       "      <td>0.000244</td>\n",
       "      <td>0.000135</td>\n",
       "      <td>4.612048e+06</td>\n",
       "      <td>0.110</td>\n",
       "      <td>0.32</td>\n",
       "      <td>0.34</td>\n",
       "      <td>0.34</td>\n",
       "      <td>0.21</td>\n",
       "    </tr>\n",
       "    <tr>\n",
       "      <th>1998-03-31</th>\n",
       "      <td>0.37</td>\n",
       "      <td>0.37</td>\n",
       "      <td>0.000949</td>\n",
       "      <td>0.002400</td>\n",
       "      <td>0.002038</td>\n",
       "      <td>0.026917</td>\n",
       "      <td>0.005382</td>\n",
       "      <td>-0.002972</td>\n",
       "      <td>-0.007959</td>\n",
       "      <td>-0.003035</td>\n",
       "      <td>0.001384</td>\n",
       "      <td>4.256888e+06</td>\n",
       "      <td>0.110</td>\n",
       "      <td>0.24</td>\n",
       "      <td>0.32</td>\n",
       "      <td>0.34</td>\n",
       "      <td>0.34</td>\n",
       "    </tr>\n",
       "  </tbody>\n",
       "</table>\n",
       "</div>"
      ],
      "text/plain": [
       "            Estimated EPS  Reported EPS  \\\n",
       "Date                                      \n",
       "1997-03-31           0.34          0.34   \n",
       "1997-06-30           0.34          0.34   \n",
       "1997-09-30           0.32          0.32   \n",
       "1997-12-31           0.23          0.24   \n",
       "1998-03-31           0.37          0.37   \n",
       "\n",
       "            geo_mean_Daily_Return_percent_SP_prev_week  \\\n",
       "Date                                                     \n",
       "1997-03-31                                   -0.006978   \n",
       "1997-06-30                                   -0.002531   \n",
       "1997-09-30                                   -0.001427   \n",
       "1997-12-31                                    0.006579   \n",
       "1998-03-31                                    0.000949   \n",
       "\n",
       "            geo_mean_Daily_Return_percent_SP_prev_month  \\\n",
       "Date                                                      \n",
       "1997-03-31                                    -0.002175   \n",
       "1997-06-30                                     0.002026   \n",
       "1997-09-30                                     0.002469   \n",
       "1997-12-31                                    -0.000064   \n",
       "1998-03-31                                     0.002400   \n",
       "\n",
       "            geo_mean_Daily_Return_percent_SP_prev_quarter  \\\n",
       "Date                                                        \n",
       "1997-03-31                                       0.000203   \n",
       "1997-06-30                                       0.002591   \n",
       "1997-09-30                                       0.000629   \n",
       "1997-12-31                                      -0.000220   \n",
       "1998-03-31                                       0.002038   \n",
       "\n",
       "            geo_mean_Daily_Return_percent_VIX_prev_week  \\\n",
       "Date                                                      \n",
       "1997-03-31                                     0.031544   \n",
       "1997-06-30                                     0.008545   \n",
       "1997-09-30                                     0.004503   \n",
       "1997-12-31                                    -0.028643   \n",
       "1998-03-31                                     0.026917   \n",
       "\n",
       "            geo_mean_Daily_Return_percent_VIX_prev_month  \\\n",
       "Date                                                       \n",
       "1997-03-31                                      0.012011   \n",
       "1997-06-30                                     -0.001616   \n",
       "1997-09-30                                     -0.003728   \n",
       "1997-12-31                                      0.004153   \n",
       "1998-03-31                                      0.005382   \n",
       "\n",
       "            geo_mean_Daily_Return_percent_VIX_prev_quarter  \\\n",
       "Date                                                         \n",
       "1997-03-31                                        0.004900   \n",
       "1997-06-30                                       -0.004182   \n",
       "1997-09-30                                       -0.000217   \n",
       "1997-12-31                                        0.000736   \n",
       "1998-03-31                                       -0.002972   \n",
       "\n",
       "            geo_mean_Daily_Return_percent_prev_week  \\\n",
       "Date                                                  \n",
       "1997-03-31                                -0.015737   \n",
       "1997-06-30                                -0.006602   \n",
       "1997-09-30                                -0.008322   \n",
       "1997-12-31                                -0.003061   \n",
       "1998-03-31                                -0.007959   \n",
       "\n",
       "            geo_mean_Daily_Return_percent_prev_month  \\\n",
       "Date                                                   \n",
       "1997-03-31                                 -0.006895   \n",
       "1997-06-30                                  0.001573   \n",
       "1997-09-30                                 -0.001618   \n",
       "1997-12-31                                  0.000244   \n",
       "1998-03-31                                 -0.003035   \n",
       "\n",
       "            geo_mean_Daily_Return_percent_prev_quarter  \\\n",
       "Date                                                     \n",
       "1997-03-31                                   -0.001817   \n",
       "1997-06-30                                    0.001716   \n",
       "1997-09-30                                   -0.004798   \n",
       "1997-12-31                                    0.000135   \n",
       "1998-03-31                                    0.001384   \n",
       "\n",
       "            geo_mean_volume_prev_quarter  avg_dividend_prev_quarter  \\\n",
       "Date                                                                  \n",
       "1997-03-31                  5.163951e+06                      0.095   \n",
       "1997-06-30                  4.431570e+06                      0.110   \n",
       "1997-09-30                  5.598138e+06                      0.110   \n",
       "1997-12-31                  4.612048e+06                      0.110   \n",
       "1998-03-31                  4.256888e+06                      0.110   \n",
       "\n",
       "            Reported_EPS_lag1  Reported_EPS_lag2  Reported_EPS_lag3  \\\n",
       "Date                                                                  \n",
       "1997-03-31               0.21               0.28               0.30   \n",
       "1997-06-30               0.34               0.21               0.28   \n",
       "1997-09-30               0.34               0.34               0.21   \n",
       "1997-12-31               0.32               0.34               0.34   \n",
       "1998-03-31               0.24               0.32               0.34   \n",
       "\n",
       "            Reported_EPS_lag4  \n",
       "Date                           \n",
       "1997-03-31               0.30  \n",
       "1997-06-30               0.30  \n",
       "1997-09-30               0.28  \n",
       "1997-12-31               0.21  \n",
       "1998-03-31               0.34  "
      ]
     },
     "execution_count": 23,
     "metadata": {},
     "output_type": "execute_result"
    }
   ],
   "source": [
    "# Drop unimputable Features\n",
    "Hank_FT_df = Features_And_Target_df.drop(columns = ['totalAssets', 'Equity Ratio'])\n",
    "# add lagged target as features \n",
    "Hank_FT_df['Reported_EPS_lag1'] = Hank_FT_df['Reported EPS'].shift(1)\n",
    "Hank_FT_df['Reported_EPS_lag2'] = Hank_FT_df['Reported EPS'].shift(2)\n",
    "Hank_FT_df['Reported_EPS_lag3'] = Hank_FT_df['Reported EPS'].shift(3)\n",
    "Hank_FT_df['Reported_EPS_lag4'] = Hank_FT_df['Reported EPS'].shift(4)\n",
    "\n",
    "# Confirm that only lagged columns have missing values\n",
    "rows_with_missing_values = Hank_FT_df.isnull().any(axis=1).sum()\n",
    "if rows_with_missing_values != 4:\n",
    "    print(\"Unanticipated missing Data Detected\")\n",
    "else:\n",
    "    Hank_FT_df.dropna(inplace = True)\n",
    "Hank_FT_df.head()"
   ]
  },
  {
   "cell_type": "markdown",
   "metadata": {},
   "source": [
    "## Preprocessing \n",
    "While PCA is often desirable for decsion tree regressors as a way to reduce the number of features and overall size of the data set, in our case we have a pretty limited history of earnings to actually target. I have elected not to apply PCA in this case, but if I were applying this model to a more data set that had a longer history available I likely would. While we had to drop these features already do to their sparse nature, one way we could reduce the number of featurers is simply by removing total assets and retaining only the equity ratio, as by definition the equity ratio partially encodes this information and is ofter the more useful metric for financial analysis anyway.\n",
    "\n",
    "I will however be applying a standard scaler to our features as we have a broad range of values ranging from 1e-5 with some of our average returns over the quarter being close to 0 (as you would expect for a stationary process), up to 1e7 for the volume oh shares being traded. In order for our gradient boosting to be effective, and our regressors to not exhibit a strong bias toward one feature it is best that we have them all in a similar range.\n",
    "\n",
    "We also remove the Expected Earnings  per Share from our features, as we are going to use this to judge the performance of our model compared to traditional methods, and it wouldn't be \"Machine learning\" if we were training our model on human predictions. In reality, there is an argument to be made that incorporating the predictions of a firm's traditional analysis may have value to that firm, but for the sake of this project it is much better used as performance benchmark."
   ]
  },
  {
   "cell_type": "code",
   "execution_count": 24,
   "metadata": {},
   "outputs": [],
   "source": [
    "# isolate target\n",
    "y_hb = Hank_FT_df['Reported EPS']\n",
    "y_hb = pd.DataFrame(y_hb.values, columns=[y_hb.name], index = y_hb.index)\n",
    "\n",
    "# save analyst predictions \n",
    "analyst_pred_EPS = Hank_FT_df['Estimated EPS']\n",
    "# isolate features \n",
    "X_hb = Hank_FT_df.drop(columns = ['Reported EPS','Estimated EPS'])\n",
    "\n",
    "SS_hb = StandardScaler()\n",
    "\n",
    "SS_pred_hb = StandardScaler()\n",
    "\n",
    "X_hb_std_df = pd.DataFrame(SS_hb.fit_transform(X_hb),\n",
    "                         columns=X_hb.columns, index=X_hb.index)\n",
    "\n",
    "y_hb_std_df = pd.DataFrame(SS_pred_hb.fit_transform(y_hb),\n",
    "                         columns=y_hb.columns, index=y_hb.index)\n",
    "\n",
    "## Basic 80/20 split repeated recursively to get a test set and validation set\n",
    "\n",
    "# Split dataset up\n",
    "tst_split_indx = int(X_hb.shape[0]*0.8)\n",
    "trn_val_split_indx = int(tst_split_indx *0.8)\n",
    "\n",
    "# get test set\n",
    "X_hb_test = X_hb_std_df.iloc[tst_split_indx:]\n",
    "y_hb_test = y_hb_std_df.iloc[tst_split_indx:]\n",
    "\n",
    "X_hb_lessTst = X_hb_std_df.iloc[:tst_split_indx]\n",
    "y_hb_lessTst = y_hb_std_df.iloc[:tst_split_indx]\n",
    "\n",
    "# get val set\n",
    "X_hb_val = X_hb_lessTst.iloc[trn_val_split_indx:]\n",
    "y_hb_val = y_hb_lessTst.iloc[trn_val_split_indx:]\n",
    "\n",
    "# get train set\n",
    "X_hb_train = X_hb_lessTst.iloc[:trn_val_split_indx]\n",
    "y_hb_train = y_hb_lessTst.iloc[:trn_val_split_indx]\n"
   ]
  },
  {
   "cell_type": "markdown",
   "metadata": {},
   "source": [
    "## Fit Model"
   ]
  },
  {
   "cell_type": "code",
   "execution_count": 25,
   "metadata": {},
   "outputs": [
    {
     "data": {
      "text/plain": [
       "(109, 1)"
      ]
     },
     "execution_count": 25,
     "metadata": {},
     "output_type": "execute_result"
    }
   ],
   "source": [
    "y_hb_std_df.values.shape"
   ]
  },
  {
   "cell_type": "markdown",
   "metadata": {},
   "source": [
    "## using grid search to get some good starting parameters\n",
    "In order\n",
    "\n"
   ]
  },
  {
   "cell_type": "code",
   "execution_count": 26,
   "metadata": {},
   "outputs": [],
   "source": [
    "X_hb_arr = X_hb_std_df.values\n",
    "y_hb_arr = y_hb_std_df.values.ravel()\n",
    "\n",
    "tscv_hb = TimeSeriesSplit(n_splits=3)\n",
    "\n",
    "param_grid_hb = {\n",
    "    'n_estimators': [50, 100, 150, 200], # boosting stages\n",
    "    'learning_rate': [ 0.001, 0.01, 0.1, 1], # Rate at which tree's contribution diminishes\n",
    "    'max_depth': [2, 3, 5, 10],  # number of nodes in tree\n",
    "    'subsample': [0.8, 1.0],\n",
    "    'min_samples_split': [2, 3, 4, 6] # minimum number of samples require to split a node\n",
    "    \n",
    "}\n",
    "\n",
    "# Grid Search\n",
    "model_hb = GradientBoostingRegressor(warm_start=False, random_state= 42)\n",
    "grid_search_hb = GridSearchCV(estimator=model_hb, param_grid=param_grid_hb, cv=tscv_hb, scoring='neg_mean_squared_error', n_jobs=-1)\n",
    "grid_search_hb.fit(X_hb_arr, y_hb_arr)\n",
    "\n",
    "best_init_params_hb = grid_search_hb.best_params_"
   ]
  },
  {
   "cell_type": "code",
   "execution_count": 27,
   "metadata": {},
   "outputs": [
    {
     "name": "stdout",
     "output_type": "stream",
     "text": [
      "Best Parameters found by grid search : {'learning_rate': 1, 'max_depth': 3, 'min_samples_split': 6, 'n_estimators': 100, 'subsample': 1.0}\n",
      " \n",
      "The Tuned Model's MSE on the validation data is :  0.2024854203009841\n",
      "The Tuned Model's MSE on the Training data is :  2.048228459411634e-16\n"
     ]
    }
   ],
   "source": [
    "print(\"Best Parameters found by grid search :\", best_init_params_hb)\n",
    "# save best model from grid search\n",
    "best_GBRT_hb = grid_search_hb.best_estimator_\n",
    "print(\" \")\n",
    "\n",
    "# Train Model on training set\n",
    "best_GBRT_hb.fit(X_hb_train.values, y_hb_train.values.ravel())\n",
    "\n",
    "y_val_hb_pred = best_GBRT_hb.predict(X_hb_val.values)\n",
    "\n",
    "best_GBRT_hb_MSE = mean_squared_error(y_pred=y_val_hb_pred, y_true=y_hb_val.values.ravel() )\n",
    "\n",
    "print(\"The Tuned Model's MSE on the validation data is : \", best_GBRT_hb_MSE)\n",
    "#best_GBRT_hb.score(X_hb_val.values,y_hb_val.values.ravel())\n",
    "\n",
    "y_train_hb_pred = best_GBRT_hb.predict(X_hb_train.values)\n",
    "best_GBRT_hb_MSE_inSamp = mean_squared_error(y_pred=y_train_hb_pred, y_true= y_hb_train.values.ravel() )\n",
    "print(\"The Tuned Model's MSE on the Training data is : \", best_GBRT_hb_MSE_inSamp)"
   ]
  },
  {
   "cell_type": "markdown",
   "metadata": {},
   "source": [
    "Clearly this model is over tuned, which is expected for a Gradient Boosted Regressor. We can use the staged predicts to iterate over our 100 estimators to we if we can find a number of trees which is less likely to overfit"
   ]
  },
  {
   "cell_type": "code",
   "execution_count": 28,
   "metadata": {},
   "outputs": [
    {
     "name": "stderr",
     "output_type": "stream",
     "text": [
      "S:\\Documents\\Coursework\\521-Final-Project\\env\\lib\\site-packages\\sklearn\\base.py:486: UserWarning: X has feature names, but GradientBoostingRegressor was fitted without feature names\n",
      "  warnings.warn(\n"
     ]
    },
    {
     "data": {
      "text/plain": [
       "[0.25217010938584244,\n",
       " 0.1796457432879121,\n",
       " 0.22524998430277002,\n",
       " 0.22144432517572965,\n",
       " 0.2283235097221331,\n",
       " 0.21785526137643332,\n",
       " 0.21714288001699045,\n",
       " 0.1968422479988887,\n",
       " 0.19849391447634324,\n",
       " 0.19788087239413546]"
      ]
     },
     "execution_count": 28,
     "metadata": {},
     "output_type": "execute_result"
    }
   ],
   "source": [
    "errors_hb = [mean_squared_error(y_hb_val.values.ravel(), y_pred)\n",
    "          for y_pred in best_GBRT_hb.staged_predict(X_hb_val)]\n",
    "errors_hb[:10]"
   ]
  },
  {
   "cell_type": "markdown",
   "metadata": {},
   "source": [
    "Already we can see that even two estimators outperforms our overfitted model on the validation data. We can take the minimum error and use this to select the proper number of trees."
   ]
  },
  {
   "cell_type": "code",
   "execution_count": 29,
   "metadata": {},
   "outputs": [
    {
     "name": "stdout",
     "output_type": "stream",
     "text": [
      "min MSE: 0.1796, number of trees: 2\n"
     ]
    }
   ],
   "source": [
    "best_MSE_hb = np.min(errors_hb)\n",
    "best_n_estimators_hb = np.argmin(errors_hb)+1\n",
    "print(\"min MSE: {:.4f}, number of trees: {}\"\n",
    "      .format(best_MSE_hb, best_n_estimators_hb))"
   ]
  },
  {
   "cell_type": "markdown",
   "metadata": {},
   "source": [
    "We find that the number of trees that best work for minimizing performance on data set is acutally only 2 estimators. However is still has MSE that is orders of magnitude than our earlier model. We should train a model using our tuned parameters and these estimators to test this."
   ]
  },
  {
   "cell_type": "code",
   "execution_count": 30,
   "metadata": {},
   "outputs": [
    {
     "name": "stdout",
     "output_type": "stream",
     "text": [
      "The final Model's MSE on the validation data is :  0.1796457432879121\n",
      "The final Model's MSE on the Training data is :  2.048228459411634e-16\n"
     ]
    }
   ],
   "source": [
    "# update param dict\n",
    "tuned_estimator_params_hb = best_init_params_hb\n",
    "tuned_estimator_params_hb['n_estimators'] = best_n_estimators_hb\n",
    "# create new model and use tuned params\n",
    "tuned_GBRT_hb = GradientBoostingRegressor(warm_start=False, random_state= 42)\n",
    "tuned_GBRT_hb.set_params(**tuned_estimator_params_hb)\n",
    "# fit tuned model\n",
    "tuned_GBRT_hb.fit(X_hb_train.values, y_hb_train.values.ravel())\n",
    "\n",
    "#\n",
    "y_val_hb_pred = tuned_GBRT_hb.predict(X_hb_val.values)\n",
    "\n",
    "tuned_GBRT_hb_MSEoutSamp = mean_squared_error(y_pred=y_val_hb_pred, y_true=y_hb_val.values.ravel() )\n",
    "\n",
    "print(\"The final Model's MSE on the validation data is : \", tuned_GBRT_hb_MSEoutSamp)\n",
    "#best_GBRT_hb.score(X_hb_val.values,y_hb_val.values.ravel())\n",
    "\n",
    "y_train_hb_pred = tuned_GBRT_hb.predict(X_hb_train.values)\n",
    "\n",
    "tuned_GBRT_hb_MSE_inSamp = mean_squared_error(y_pred=y_train_hb_pred, y_true= y_hb_train.values.ravel() )\n",
    "print(\"The final Model's MSE on the Training data is : \", best_GBRT_hb_MSE_inSamp)\n",
    "#tuned_model_hb.get_params()"
   ]
  },
  {
   "cell_type": "code",
   "execution_count": 31,
   "metadata": {},
   "outputs": [
    {
     "data": {
      "image/png": "[encoded data removed]",
      "text/plain": [
       "<Figure size 1200x800 with 1 Axes>"
      ]
     },
     "metadata": {},
     "output_type": "display_data"
    }
   ],
   "source": [
    "plt.figure(figsize=(12,8))\n",
    "\n",
    "y_val_hb_pred_df = pd.Series(y_val_hb_pred, index= y_hb_val.index)\n",
    "y_train_hb_pred_df = pd.Series(y_train_hb_pred, index= y_hb_train.index)\n",
    "y_test_hb_pred = tuned_GBRT_hb.predict(X_hb_test.values)\n",
    "y_test_hb_pred_df = pd.Series(y_test_hb_pred, index= y_hb_test.index)\n",
    "\n",
    "\n",
    "plt.plot( y_hb_train, \"b.\", label=\"Training set\")\n",
    "plt.plot(y_train_hb_pred_df, \"r-\", linewidth=2, label=\"GBRT prediction\")\n",
    "\n",
    "plt.plot( y_hb_val, \"g.\", label=\"Validation set\")\n",
    "plt.plot(y_val_hb_pred_df, \"r-\", linewidth=2, )\n",
    "\n",
    "plt.plot( y_hb_test, \"m.\", label=\"test set\")\n",
    "plt.legend(loc=\"upper center\", fontsize=16)\n",
    "plt.plot(y_test_hb_pred_df, \"r-\", linewidth=2,)\n",
    "plt.show()"
   ]
  },
  {
   "cell_type": "code",
   "execution_count": 32,
   "metadata": {},
   "outputs": [
    {
     "data": {
      "image/png": "[encoded data removed]",
      "text/plain": [
       "<Figure size 1000x600 with 1 Axes>"
      ]
     },
     "metadata": {},
     "output_type": "display_data"
    }
   ],
   "source": [
    "# Plotting\n",
    "predicted_values = tuned_GBRT_hb.predict(X_hb_test.values)\n",
    "predicted_values\n",
    "plt.figure(figsize=(10, 6))\n",
    "plt.plot(y_hb_test.values, label='True Values')\n",
    "plt.plot(predicted_values, label='Predicted Values')\n",
    "plt.title('Comparison of Actual and Predicted Values')\n",
    "plt.legend()\n",
    "plt.show()"
   ]
  },
  {
   "cell_type": "markdown",
   "metadata": {},
   "source": [
    "## Fitted Model and Results\n",
    "    - Report on hyper parameters\n",
    "    - Report on fit quality\n",
    "    - Ideas on improvement if the model was continued to be"
   ]
  },
  {
   "cell_type": "code",
   "execution_count": 33,
   "metadata": {},
   "outputs": [
    {
     "data": {
      "text/plain": [
       "<bound method NDFrame.head of             Daily_Return_percent_SP  Daily_Return_percent_VIX  Dividends  \\\n",
       "Date                                                                       \n",
       "1990-01-02                 0.017799                  0.000000        NaN   \n",
       "1990-01-03                -0.002586                  0.000000        NaN   \n",
       "1990-01-04                -0.008613                  0.000000        NaN   \n",
       "1990-01-05                -0.009756                  0.000000        NaN   \n",
       "1990-01-08                 0.004514                  0.000000        NaN   \n",
       "...                             ...                       ...        ...   \n",
       "2024-05-22                -0.002307                  0.019917        NaN   \n",
       "2024-05-23                -0.013561                  0.107546        NaN   \n",
       "2024-05-24                 0.004406                 -0.072317        NaN   \n",
       "2024-05-28                -0.001857                  0.032774        NaN   \n",
       "2024-05-29                -0.002232                  0.038545        NaN   \n",
       "\n",
       "            Volume  Daily_Return_percent  Estimated EPS  Reported EPS  \\\n",
       "Date                                                                    \n",
       "1990-01-02     NaN                   NaN            NaN           NaN   \n",
       "1990-01-03     NaN                   NaN            NaN           NaN   \n",
       "1990-01-04     NaN                   NaN            NaN           NaN   \n",
       "1990-01-05     NaN                   NaN            NaN           NaN   \n",
       "1990-01-08     NaN                   NaN            NaN           NaN   \n",
       "...            ...                   ...            ...           ...   \n",
       "2024-05-22     NaN                   NaN            NaN           NaN   \n",
       "2024-05-23     NaN                   NaN            NaN           NaN   \n",
       "2024-05-24     NaN                   NaN            NaN           NaN   \n",
       "2024-05-28     NaN                   NaN            NaN           NaN   \n",
       "2024-05-29     NaN                   NaN            NaN           NaN   \n",
       "\n",
       "            totalAssets  Equity Ratio  \n",
       "Date                                   \n",
       "1990-01-02          NaN           NaN  \n",
       "1990-01-03          NaN           NaN  \n",
       "1990-01-04          NaN           NaN  \n",
       "1990-01-05          NaN           NaN  \n",
       "1990-01-08          NaN           NaN  \n",
       "...                 ...           ...  \n",
       "2024-05-22          NaN           NaN  \n",
       "2024-05-23          NaN           NaN  \n",
       "2024-05-24          NaN           NaN  \n",
       "2024-05-28          NaN           NaN  \n",
       "2024-05-29          NaN           NaN  \n",
       "\n",
       "[8686 rows x 9 columns]>"
      ]
     },
     "execution_count": 33,
     "metadata": {},
     "output_type": "execute_result"
    }
   ],
   "source": [
    "Market_Features_to_drop = ['Volume','High','Low','Adj Close']\n",
    "Balance_sheet_features_to_keep = ['totalAssets','totalShareholderEquity']\n",
    "\n",
    "# Get Price Data\n",
    "SP500_raw_df = pd.read_csv(sp500_csv, index_col = 'Date')\n",
    "VIX_raw_df = pd.read_csv(vix_csv, index_col = 'Date')\n",
    "JJ_raw_price_df = pd.read_csv(jj_csv, index_col = 'Date')\n",
    "\n",
    "# Get Quarterly Data\n",
    "JJ_Earnings_df = pd.read_csv(jj_earnings_csv)\n",
    "JJ_Earnings_df['Date'] = pd.to_datetime(JJ_Earnings_df['Fiscal Date'])\n",
    "JJ_Earnings_df.drop(columns = ['Fiscal Date'], inplace = True)\n",
    "JJ_Earnings_df.set_index('Date', inplace = True)\n",
    "JJ_Earnings_df =  JJ_Earnings_df.iloc[::-1]\n",
    "\n",
    "JJ_BalSht_df = pd.read_csv(jj_balSht_csv)\n",
    "JJ_BalSht_df['Date'] = pd.to_datetime(JJ_BalSht_df['fiscalDateEnding'])\n",
    "JJ_BalSht_df.drop(columns = ['fiscalDateEnding'], inplace = True)\n",
    "JJ_BalSht_df.set_index('Date', inplace = True)\n",
    "JJ_BalSht_df =  JJ_BalSht_df.iloc[::-1]\n",
    "\n",
    "# get Dividend Data\n",
    "JJ_dividend_df = pd.read_csv(jj_dividend_csv)\n",
    "JJ_dividend_df['Date'] = JJ_dividend_df['Date'].str.split().str[0]\n",
    "JJ_dividend_df.set_index('Date', inplace = True)\n",
    "\n",
    "# drop market feature form S&P and VIX\n",
    "SP500_raw_df.drop(columns= Market_Features_to_drop, inplace= True)\n",
    "VIX_raw_df.drop(columns=Market_Features_to_drop, inplace= True)\n",
    "\n",
    "# drop high and low\n",
    "JJ_raw_price_df.drop(columns=['High','Adj Close', 'Low'], inplace=True)\n",
    "\n",
    "# Calculate daily return\n",
    "SP500_raw_df['Daily_Return_dollars'] = SP500_raw_df['Close'] - SP500_raw_df['Open']\n",
    "VIX_raw_df['Daily_Return_dollars'] = VIX_raw_df['Close'] - VIX_raw_df['Open']\n",
    "\n",
    "SP500_raw_df['Daily_Return_percent'] = SP500_raw_df['Daily_Return_dollars']/SP500_raw_df['Open']\n",
    "VIX_raw_df['Daily_Return_percent'] = VIX_raw_df['Daily_Return_dollars']/VIX_raw_df['Open']\n",
    "\n",
    "JJ_raw_price_df['Daily_Return_dollars'] = JJ_raw_price_df['Close'] - JJ_raw_price_df['Open']\n",
    "JJ_raw_price_df['Daily_Return_percent'] = JJ_raw_price_df['Daily_Return_dollars']/JJ_raw_price_df['Open']\n",
    "\n",
    "# drop open and close\n",
    "JJ_raw_price_df.drop(columns=['Open','Close','Daily_Return_dollars'], inplace = True)\n",
    "SP500_raw_df.drop(columns=['Open','Close','Daily_Return_dollars'], inplace = True)\n",
    "VIX_raw_df.drop(columns=['Open','Close','Daily_Return_dollars'], inplace = True)\n",
    "\n",
    "# Balance Sheet Features\n",
    "JJ_Bal_Sheet_reduced_df = JJ_BalSht_df.loc[:,Balance_sheet_features_to_keep]\n",
    "JJ_Bal_Sheet_reduced_df['Equity Ratio'] = JJ_Bal_Sheet_reduced_df['totalShareholderEquity'] /JJ_Bal_Sheet_reduced_df['totalAssets']\n",
    "JJ_Bal_Sheet_reduced_df.drop(columns=['totalShareholderEquity'], inplace = True)\n",
    "\n",
    "# JJ merge\n",
    "JJ_market_df = JJ_dividend_df.merge(JJ_raw_price_df, left_index=True, right_index=True)\n",
    "JJ_market_df.index = pd.to_datetime(JJ_market_df.index)\n",
    "JJ_earnbal_df = JJ_Earnings_df.merge(JJ_Bal_Sheet_reduced_df, left_index = True, right_index = True)\n",
    "JJ_merge_df = JJ_market_df.merge(JJ_earnbal_df,how = 'outer', left_index= True, right_index= True)\n",
    "\n",
    "# Merge Raw Data\n",
    "market_df = SP500_raw_df.merge(VIX_raw_df, left_index=True, right_index=True,suffixes=('_SP','_VIX'))\n",
    "market_df.index = pd.to_datetime(market_df.index)\n",
    "\n",
    "merged_df = market_df.merge(JJ_merge_df, how = 'outer', left_index= True, right_index= True)\n",
    "# Display Data Frame Head\n",
    "merged_df.head"
   ]
  },
  {
   "cell_type": "markdown",
   "metadata": {
    "jp-MarkdownHeadingCollapsed": true
   },
   "source": [
    "# Support Vector Machines (Bhavesh)"
   ]
  },
  {
   "cell_type": "markdown",
   "metadata": {},
   "source": [
    "# Kmeans Regimes + Markov Chain (Kevin)\n",
    "\n"
   ]
  },
  {
   "cell_type": "markdown",
   "metadata": {},
   "source": [
    "\n",
    "## Why this model for this problem\n"
   ]
  },
  {
   "cell_type": "markdown",
   "metadata": {},
   "source": [
    "### Why Use K-means Clustering?\n",
    "\n",
    "- **Pattern Discovery**: K-means helps us find patterns or groups in the financial data. Each group, or cluster, represents a specific type of market behavior or financial condition.\n",
    "- **Manage Complexity**: Financial data can be complex and varied. Clustering simplifies this by breaking down the entire dataset into a few similar groups, making it easier to analyze and understand.\n",
    "\n",
    "### Why Use Markov Chains?\n",
    "\n",
    "- **Predict Transitions**: Once we have identified these groups with K-means, Markov chains help us predict how likely it is to move from one group to another over time.\n",
    "- **Capture Dynamics**: Financial markets are dynamic; they change frequently. Markov chains are good at modeling these changes, especially when we assume that the future state depends mostly on the current state and not much else.\n",
    "\n",
    "### Combining Both Models\n",
    "\n",
    "- **Comprehensive Approach**: By combining both methods, we first simplify the complex data into clusters and then model how these clusters change over time. This two-step approach gives us a clear and dynamic picture of what might happen in the future. \n",
    "- **Better EPS Prediction**: Since EPS can be influenced by various market conditions represented by different clusters, predicting how these conditions change helps us forecast EPS more accurately."
   ]
  },
  {
   "cell_type": "markdown",
   "metadata": {},
   "source": [
    "\n",
    "## Model Architecture\n"
   ]
  },
  {
   "cell_type": "markdown",
   "metadata": {},
   "source": []
  },
  {
   "cell_type": "code",
   "execution_count": 34,
   "metadata": {},
   "outputs": [
    {
     "ename": "NameError",
     "evalue": "name 'data_scaled' is not defined",
     "output_type": "error",
     "traceback": [
      "\u001b[1;31m---------------------------------------------------------------------------\u001b[0m",
      "\u001b[1;31mNameError\u001b[0m                                 Traceback (most recent call last)",
      "Cell \u001b[1;32mIn[34], line 21\u001b[0m\n\u001b[0;32m     18\u001b[0m     plt\u001b[38;5;241m.\u001b[39mtitle(\u001b[38;5;124m'\u001b[39m\u001b[38;5;124mIntertia vs Clusters\u001b[39m\u001b[38;5;124m'\u001b[39m)\n\u001b[0;32m     19\u001b[0m     plt\u001b[38;5;241m.\u001b[39mshow()\n\u001b[1;32m---> 21\u001b[0m find_optimal_clusters(\u001b[43mdata_scaled\u001b[49m, max_k\u001b[38;5;241m=\u001b[39m\u001b[38;5;241m10\u001b[39m)\n",
      "\u001b[1;31mNameError\u001b[0m: name 'data_scaled' is not defined"
     ]
    }
   ],
   "source": [
    "from sklearn.cluster import KMeans\n",
    "import matplotlib.pyplot as plt\n",
    "\n",
    "\n",
    "\n",
    "# Create a function that plots our Intertia vs clusters for the elbow method\n",
    "def find_optimal_clusters(data, max_k):\n",
    "    inertia = []\n",
    "    for k in range(1, max_k+1):\n",
    "        kmeans = KMeans(n_clusters=k, random_state=42)\n",
    "        kmeans.fit(data)\n",
    "        inertia.append(kmeans.inertia_)\n",
    "    \n",
    "    plt.figure(figsize=(8, 4))\n",
    "    plt.plot(range(1, max_k+1), inertia, marker='o')\n",
    "    plt.xlabel('Number of Clusters')\n",
    "    plt.ylabel('Inertia')\n",
    "    plt.title('Intertia vs Clusters')\n",
    "    plt.show()\n",
    "\n",
    "find_optimal_clusters(data_scaled, max_k=10)\n"
   ]
  },
  {
   "cell_type": "markdown",
   "metadata": {},
   "source": [
    "Our optimal number of clusters is around 4. Let's visualize the data distribution across the clusters."
   ]
  },
  {
   "cell_type": "code",
   "execution_count": null,
   "metadata": {},
   "outputs": [],
   "source": [
    "\n",
    "# Our best clusters is 4\n",
    "num_clusters = 4  \n",
    "\n",
    "kmeans = KMeans(n_clusters=num_clusters, random_state=42)\n",
    "regimes = kmeans.fit_predict(data_scaled)\n",
    "\n",
    "merged_df['Cluster_Labels'] = regimes\n",
    "\n",
    "# Visualize the distribution of data across clusters\n",
    "plt.figure(figsize=(8, 6))\n",
    "plt.hist(regimes, bins=range(num_clusters+1), alpha=0.75, rwidth=0.85)\n",
    "plt.title('Data Across Clusters')\n",
    "plt.xlabel('Cluster')\n",
    "plt.ylabel('Count')\n",
    "plt.xticks(ticks=np.arange(num_clusters))\n",
    "plt.show()"
   ]
  },
  {
   "cell_type": "markdown",
   "metadata": {},
   "source": [
    "### Markov Chain Probability Matrix\n",
    "\n",
    "Now Let's create a Markov chain probability matrix using our k means clusters."
   ]
  },
  {
   "cell_type": "markdown",
   "metadata": {},
   "source": [
    "### "
   ]
  },
  {
   "cell_type": "code",
   "execution_count": 35,
   "metadata": {},
   "outputs": [
    {
     "ename": "NameError",
     "evalue": "name 'regimes' is not defined",
     "output_type": "error",
     "traceback": [
      "\u001b[1;31m---------------------------------------------------------------------------\u001b[0m",
      "\u001b[1;31mNameError\u001b[0m                                 Traceback (most recent call last)",
      "Cell \u001b[1;32mIn[35], line 10\u001b[0m\n\u001b[0;32m      7\u001b[0m transition_matrix \u001b[38;5;241m=\u001b[39m np\u001b[38;5;241m.\u001b[39mzeros((num_clusters, num_clusters))\n\u001b[0;32m      9\u001b[0m \u001b[38;5;66;03m# calc transitions from each cluster to another\u001b[39;00m\n\u001b[1;32m---> 10\u001b[0m \u001b[38;5;28;01mfor\u001b[39;00m i \u001b[38;5;129;01min\u001b[39;00m \u001b[38;5;28mrange\u001b[39m(\u001b[38;5;28mlen\u001b[39m(\u001b[43mregimes\u001b[49m) \u001b[38;5;241m-\u001b[39m \u001b[38;5;241m1\u001b[39m):\n\u001b[0;32m     11\u001b[0m     current_regime \u001b[38;5;241m=\u001b[39m regimes[i]\n\u001b[0;32m     12\u001b[0m     next_regime \u001b[38;5;241m=\u001b[39m regimes[i \u001b[38;5;241m+\u001b[39m \u001b[38;5;241m1\u001b[39m]\n",
      "\u001b[1;31mNameError\u001b[0m: name 'regimes' is not defined"
     ]
    }
   ],
   "source": [
    "import numpy as np\n",
    "\n",
    "\n",
    "num_clusters = 4  # \n",
    "\n",
    "# a transition matrix of size (num_clusters x num_clusters) with zeros\n",
    "transition_matrix = np.zeros((num_clusters, num_clusters))\n",
    "\n",
    "# calc transitions from each cluster to another\n",
    "for i in range(len(regimes) - 1):\n",
    "    current_regime = regimes[i]\n",
    "    next_regime = regimes[i + 1]\n",
    "    transition_matrix[current_regime][next_regime] += 1\n",
    "\n",
    "# we convert counts to probabilities and divide each row by the sum of elements in that row to get probability distribution\n",
    "transition_matrix = np.array([row / row.sum() if row.sum() != 0 else row for row in transition_matrix])\n",
    "\n",
    "# we print our transition matrix\n",
    "print(\"Transition Prob Matrix:\")\n",
    "print(transition_matrix)\n",
    "\n",
    "# Visual representation of our matrix\n",
    "import matplotlib.pyplot as plt\n",
    "import seaborn as sns\n",
    "\n",
    "plt.figure(figsize=(8, 6))\n",
    "sns.heatmap(transition_matrix, annot=True, fmt=\".2f\", cmap=\"Blues\", xticklabels=[\"Cluster1\", \"Cluster2\", \"Cluster3\", \"Cluster4\"], yticklabels=[\"Cluster1\", \"Cluster2\", \"Cluster3\", \"Cluster4\"])\n",
    "plt.title('Markov Chain Probability Matrix')\n",
    "plt.xlabel('Next Cluster')\n",
    "plt.ylabel('Current Cluster')\n",
    "plt.show()"
   ]
  },
  {
   "cell_type": "markdown",
   "metadata": {},
   "source": [
    "Our probability matrix is very static, if we start on regime 1, we stay on the first regime, this the dynamic predictive power is very low. Let's visualize what happens if we start on the first cluster and simulate our markov chain into the future."
   ]
  },
  {
   "cell_type": "code",
   "execution_count": 36,
   "metadata": {},
   "outputs": [
    {
     "data": {
      "image/png": "[encoded data removed]",
      "text/plain": [
       "<Figure size 1200x800 with 1 Axes>"
      ]
     },
     "metadata": {},
     "output_type": "display_data"
    }
   ],
   "source": [
    "import numpy as np\n",
    "\n",
    "\n",
    "num_clusters = 4  # Number of clusters or states in the Markov chain\n",
    "num_steps = 10    # We'll start with 10 steps\n",
    "\n",
    "# predicts next state given current state distribution\n",
    "def predict_next_state(current_state_prob, transition_matrix):\n",
    "    \"\"\"\n",
    "    Multiply the current state probability distribution by the transition matrix\n",
    "    to get the next state distribution.\n",
    "    \"\"\"\n",
    "    return np.dot(current_state_prob, transition_matrix)\n",
    "\n",
    "# simulates multiple steps in the future\n",
    "def simulate_markov_chain(start_state, transition_matrix, num_steps):\n",
    "    \"\"\"\n",
    "    Simulate a number of steps in a Markov chain given a start state and a transition matrix.\n",
    "    \"\"\"\n",
    "    # set the current state probability distribution\n",
    "    current_state_prob = np.zeros(num_clusters)\n",
    "    current_state_prob[start_state] = 1\n",
    "    \n",
    "    # stores the state probabilities over time\n",
    "    future_states = [current_state_prob]\n",
    "    \n",
    "    for _ in range(num_steps):\n",
    "        next_state_prob = predict_next_state(current_state_prob, transition_matrix)\n",
    "        future_states.append(next_state_prob)\n",
    "        current_state_prob = next_state_prob\n",
    "    \n",
    "    return np.array(future_states)\n",
    "\n",
    "# let's say we start on cluster 0\n",
    "current_regime = 0\n",
    "\n",
    "# simulate the Markov chain from the current regime\n",
    "future_states = simulate_markov_chain(current_regime, transition_matrix, num_steps)\n",
    "\n",
    "# Visualize our Regime Changes\n",
    "import matplotlib.pyplot as plt\n",
    "\n",
    "plt.figure(figsize=(12, 8))\n",
    "for i in range(num_clusters):\n",
    "    plt.plot(future_states[:, i], label=f'Cluster {i}')\n",
    "\n",
    "plt.title('Future State Probabilities Over Time Starting on Cluster 0')\n",
    "plt.xlabel('Time Steps')\n",
    "plt.ylabel('Probability')\n",
    "plt.legend()\n",
    "plt.show()"
   ]
  },
  {
   "cell_type": "markdown",
   "metadata": {},
   "source": [
    "As you can see, if we start on cluster 0, we're almost gauranteed to stay on that regime. There's no dyanmacism to our model. Let's look at our model's composition. Which features make up our clusters?"
   ]
  },
  {
   "cell_type": "code",
   "execution_count": 37,
   "metadata": {},
   "outputs": [
    {
     "ename": "ValueError",
     "evalue": "Input X contains NaN.\nKMeans does not accept missing values encoded as NaN natively. For supervised learning, you might want to consider sklearn.ensemble.HistGradientBoostingClassifier and Regressor which accept missing values encoded as NaNs natively. Alternatively, it is possible to preprocess the data, for instance by using an imputer transformer in a pipeline or drop samples with missing values. See https://scikit-learn.org/stable/modules/impute.html You can find a list of all estimators that handle NaN values at the following page: https://scikit-learn.org/stable/modules/impute.html#estimators-that-handle-nan-values",
     "output_type": "error",
     "traceback": [
      "\u001b[1;31m---------------------------------------------------------------------------\u001b[0m",
      "\u001b[1;31mValueError\u001b[0m                                Traceback (most recent call last)",
      "Cell \u001b[1;32mIn[37], line 16\u001b[0m\n\u001b[0;32m     14\u001b[0m num_clusters \u001b[38;5;241m=\u001b[39m \u001b[38;5;241m4\u001b[39m  \n\u001b[0;32m     15\u001b[0m kmeans \u001b[38;5;241m=\u001b[39m KMeans(n_clusters\u001b[38;5;241m=\u001b[39mnum_clusters, random_state\u001b[38;5;241m=\u001b[39m\u001b[38;5;241m42\u001b[39m)\n\u001b[1;32m---> 16\u001b[0m clusters \u001b[38;5;241m=\u001b[39m \u001b[43mkmeans\u001b[49m\u001b[38;5;241;43m.\u001b[39;49m\u001b[43mfit_predict\u001b[49m\u001b[43m(\u001b[49m\u001b[43mdata_scaled\u001b[49m\u001b[43m)\u001b[49m\n\u001b[0;32m     18\u001b[0m \u001b[38;5;66;03m# add cluster label\u001b[39;00m\n\u001b[0;32m     19\u001b[0m merged_df[\u001b[38;5;124m'\u001b[39m\u001b[38;5;124mCluster\u001b[39m\u001b[38;5;124m'\u001b[39m] \u001b[38;5;241m=\u001b[39m clusters\n",
      "File \u001b[1;32mS:\\Documents\\Coursework\\521-Final-Project\\env\\lib\\site-packages\\sklearn\\cluster\\_kmeans.py:1071\u001b[0m, in \u001b[0;36m_BaseKMeans.fit_predict\u001b[1;34m(self, X, y, sample_weight)\u001b[0m\n\u001b[0;32m   1048\u001b[0m \u001b[38;5;28;01mdef\u001b[39;00m \u001b[38;5;21mfit_predict\u001b[39m(\u001b[38;5;28mself\u001b[39m, X, y\u001b[38;5;241m=\u001b[39m\u001b[38;5;28;01mNone\u001b[39;00m, sample_weight\u001b[38;5;241m=\u001b[39m\u001b[38;5;28;01mNone\u001b[39;00m):\n\u001b[0;32m   1049\u001b[0m \u001b[38;5;250m    \u001b[39m\u001b[38;5;124;03m\"\"\"Compute cluster centers and predict cluster index for each sample.\u001b[39;00m\n\u001b[0;32m   1050\u001b[0m \n\u001b[0;32m   1051\u001b[0m \u001b[38;5;124;03m    Convenience method; equivalent to calling fit(X) followed by\u001b[39;00m\n\u001b[1;32m   (...)\u001b[0m\n\u001b[0;32m   1069\u001b[0m \u001b[38;5;124;03m        Index of the cluster each sample belongs to.\u001b[39;00m\n\u001b[0;32m   1070\u001b[0m \u001b[38;5;124;03m    \"\"\"\u001b[39;00m\n\u001b[1;32m-> 1071\u001b[0m     \u001b[38;5;28;01mreturn\u001b[39;00m \u001b[38;5;28;43mself\u001b[39;49m\u001b[38;5;241;43m.\u001b[39;49m\u001b[43mfit\u001b[49m\u001b[43m(\u001b[49m\u001b[43mX\u001b[49m\u001b[43m,\u001b[49m\u001b[43m \u001b[49m\u001b[43msample_weight\u001b[49m\u001b[38;5;241;43m=\u001b[39;49m\u001b[43msample_weight\u001b[49m\u001b[43m)\u001b[49m\u001b[38;5;241m.\u001b[39mlabels_\n",
      "File \u001b[1;32mS:\\Documents\\Coursework\\521-Final-Project\\env\\lib\\site-packages\\sklearn\\base.py:1474\u001b[0m, in \u001b[0;36m_fit_context.<locals>.decorator.<locals>.wrapper\u001b[1;34m(estimator, *args, **kwargs)\u001b[0m\n\u001b[0;32m   1467\u001b[0m     estimator\u001b[38;5;241m.\u001b[39m_validate_params()\n\u001b[0;32m   1469\u001b[0m \u001b[38;5;28;01mwith\u001b[39;00m config_context(\n\u001b[0;32m   1470\u001b[0m     skip_parameter_validation\u001b[38;5;241m=\u001b[39m(\n\u001b[0;32m   1471\u001b[0m         prefer_skip_nested_validation \u001b[38;5;129;01mor\u001b[39;00m global_skip_validation\n\u001b[0;32m   1472\u001b[0m     )\n\u001b[0;32m   1473\u001b[0m ):\n\u001b[1;32m-> 1474\u001b[0m     \u001b[38;5;28;01mreturn\u001b[39;00m fit_method(estimator, \u001b[38;5;241m*\u001b[39margs, \u001b[38;5;241m*\u001b[39m\u001b[38;5;241m*\u001b[39mkwargs)\n",
      "File \u001b[1;32mS:\\Documents\\Coursework\\521-Final-Project\\env\\lib\\site-packages\\sklearn\\cluster\\_kmeans.py:1481\u001b[0m, in \u001b[0;36mKMeans.fit\u001b[1;34m(self, X, y, sample_weight)\u001b[0m\n\u001b[0;32m   1453\u001b[0m \u001b[38;5;129m@_fit_context\u001b[39m(prefer_skip_nested_validation\u001b[38;5;241m=\u001b[39m\u001b[38;5;28;01mTrue\u001b[39;00m)\n\u001b[0;32m   1454\u001b[0m \u001b[38;5;28;01mdef\u001b[39;00m \u001b[38;5;21mfit\u001b[39m(\u001b[38;5;28mself\u001b[39m, X, y\u001b[38;5;241m=\u001b[39m\u001b[38;5;28;01mNone\u001b[39;00m, sample_weight\u001b[38;5;241m=\u001b[39m\u001b[38;5;28;01mNone\u001b[39;00m):\n\u001b[0;32m   1455\u001b[0m \u001b[38;5;250m    \u001b[39m\u001b[38;5;124;03m\"\"\"Compute k-means clustering.\u001b[39;00m\n\u001b[0;32m   1456\u001b[0m \n\u001b[0;32m   1457\u001b[0m \u001b[38;5;124;03m    Parameters\u001b[39;00m\n\u001b[1;32m   (...)\u001b[0m\n\u001b[0;32m   1479\u001b[0m \u001b[38;5;124;03m        Fitted estimator.\u001b[39;00m\n\u001b[0;32m   1480\u001b[0m \u001b[38;5;124;03m    \"\"\"\u001b[39;00m\n\u001b[1;32m-> 1481\u001b[0m     X \u001b[38;5;241m=\u001b[39m \u001b[38;5;28;43mself\u001b[39;49m\u001b[38;5;241;43m.\u001b[39;49m\u001b[43m_validate_data\u001b[49m\u001b[43m(\u001b[49m\n\u001b[0;32m   1482\u001b[0m \u001b[43m        \u001b[49m\u001b[43mX\u001b[49m\u001b[43m,\u001b[49m\n\u001b[0;32m   1483\u001b[0m \u001b[43m        \u001b[49m\u001b[43maccept_sparse\u001b[49m\u001b[38;5;241;43m=\u001b[39;49m\u001b[38;5;124;43m\"\u001b[39;49m\u001b[38;5;124;43mcsr\u001b[39;49m\u001b[38;5;124;43m\"\u001b[39;49m\u001b[43m,\u001b[49m\n\u001b[0;32m   1484\u001b[0m \u001b[43m        \u001b[49m\u001b[43mdtype\u001b[49m\u001b[38;5;241;43m=\u001b[39;49m\u001b[43m[\u001b[49m\u001b[43mnp\u001b[49m\u001b[38;5;241;43m.\u001b[39;49m\u001b[43mfloat64\u001b[49m\u001b[43m,\u001b[49m\u001b[43m \u001b[49m\u001b[43mnp\u001b[49m\u001b[38;5;241;43m.\u001b[39;49m\u001b[43mfloat32\u001b[49m\u001b[43m]\u001b[49m\u001b[43m,\u001b[49m\n\u001b[0;32m   1485\u001b[0m \u001b[43m        \u001b[49m\u001b[43morder\u001b[49m\u001b[38;5;241;43m=\u001b[39;49m\u001b[38;5;124;43m\"\u001b[39;49m\u001b[38;5;124;43mC\u001b[39;49m\u001b[38;5;124;43m\"\u001b[39;49m\u001b[43m,\u001b[49m\n\u001b[0;32m   1486\u001b[0m \u001b[43m        \u001b[49m\u001b[43mcopy\u001b[49m\u001b[38;5;241;43m=\u001b[39;49m\u001b[38;5;28;43mself\u001b[39;49m\u001b[38;5;241;43m.\u001b[39;49m\u001b[43mcopy_x\u001b[49m\u001b[43m,\u001b[49m\n\u001b[0;32m   1487\u001b[0m \u001b[43m        \u001b[49m\u001b[43maccept_large_sparse\u001b[49m\u001b[38;5;241;43m=\u001b[39;49m\u001b[38;5;28;43;01mFalse\u001b[39;49;00m\u001b[43m,\u001b[49m\n\u001b[0;32m   1488\u001b[0m \u001b[43m    \u001b[49m\u001b[43m)\u001b[49m\n\u001b[0;32m   1490\u001b[0m     \u001b[38;5;28mself\u001b[39m\u001b[38;5;241m.\u001b[39m_check_params_vs_input(X)\n\u001b[0;32m   1492\u001b[0m     random_state \u001b[38;5;241m=\u001b[39m check_random_state(\u001b[38;5;28mself\u001b[39m\u001b[38;5;241m.\u001b[39mrandom_state)\n",
      "File \u001b[1;32mS:\\Documents\\Coursework\\521-Final-Project\\env\\lib\\site-packages\\sklearn\\base.py:633\u001b[0m, in \u001b[0;36mBaseEstimator._validate_data\u001b[1;34m(self, X, y, reset, validate_separately, cast_to_ndarray, **check_params)\u001b[0m\n\u001b[0;32m    631\u001b[0m         out \u001b[38;5;241m=\u001b[39m X, y\n\u001b[0;32m    632\u001b[0m \u001b[38;5;28;01melif\u001b[39;00m \u001b[38;5;129;01mnot\u001b[39;00m no_val_X \u001b[38;5;129;01mand\u001b[39;00m no_val_y:\n\u001b[1;32m--> 633\u001b[0m     out \u001b[38;5;241m=\u001b[39m check_array(X, input_name\u001b[38;5;241m=\u001b[39m\u001b[38;5;124m\"\u001b[39m\u001b[38;5;124mX\u001b[39m\u001b[38;5;124m\"\u001b[39m, \u001b[38;5;241m*\u001b[39m\u001b[38;5;241m*\u001b[39mcheck_params)\n\u001b[0;32m    634\u001b[0m \u001b[38;5;28;01melif\u001b[39;00m no_val_X \u001b[38;5;129;01mand\u001b[39;00m \u001b[38;5;129;01mnot\u001b[39;00m no_val_y:\n\u001b[0;32m    635\u001b[0m     out \u001b[38;5;241m=\u001b[39m _check_y(y, \u001b[38;5;241m*\u001b[39m\u001b[38;5;241m*\u001b[39mcheck_params)\n",
      "File \u001b[1;32mS:\\Documents\\Coursework\\521-Final-Project\\env\\lib\\site-packages\\sklearn\\utils\\validation.py:1049\u001b[0m, in \u001b[0;36mcheck_array\u001b[1;34m(array, accept_sparse, accept_large_sparse, dtype, order, copy, force_all_finite, ensure_2d, allow_nd, ensure_min_samples, ensure_min_features, estimator, input_name)\u001b[0m\n\u001b[0;32m   1043\u001b[0m     \u001b[38;5;28;01mraise\u001b[39;00m \u001b[38;5;167;01mValueError\u001b[39;00m(\n\u001b[0;32m   1044\u001b[0m         \u001b[38;5;124m\"\u001b[39m\u001b[38;5;124mFound array with dim \u001b[39m\u001b[38;5;132;01m%d\u001b[39;00m\u001b[38;5;124m. \u001b[39m\u001b[38;5;132;01m%s\u001b[39;00m\u001b[38;5;124m expected <= 2.\u001b[39m\u001b[38;5;124m\"\u001b[39m\n\u001b[0;32m   1045\u001b[0m         \u001b[38;5;241m%\u001b[39m (array\u001b[38;5;241m.\u001b[39mndim, estimator_name)\n\u001b[0;32m   1046\u001b[0m     )\n\u001b[0;32m   1048\u001b[0m \u001b[38;5;28;01mif\u001b[39;00m force_all_finite:\n\u001b[1;32m-> 1049\u001b[0m     \u001b[43m_assert_all_finite\u001b[49m\u001b[43m(\u001b[49m\n\u001b[0;32m   1050\u001b[0m \u001b[43m        \u001b[49m\u001b[43marray\u001b[49m\u001b[43m,\u001b[49m\n\u001b[0;32m   1051\u001b[0m \u001b[43m        \u001b[49m\u001b[43minput_name\u001b[49m\u001b[38;5;241;43m=\u001b[39;49m\u001b[43minput_name\u001b[49m\u001b[43m,\u001b[49m\n\u001b[0;32m   1052\u001b[0m \u001b[43m        \u001b[49m\u001b[43mestimator_name\u001b[49m\u001b[38;5;241;43m=\u001b[39;49m\u001b[43mestimator_name\u001b[49m\u001b[43m,\u001b[49m\n\u001b[0;32m   1053\u001b[0m \u001b[43m        \u001b[49m\u001b[43mallow_nan\u001b[49m\u001b[38;5;241;43m=\u001b[39;49m\u001b[43mforce_all_finite\u001b[49m\u001b[43m \u001b[49m\u001b[38;5;241;43m==\u001b[39;49m\u001b[43m \u001b[49m\u001b[38;5;124;43m\"\u001b[39;49m\u001b[38;5;124;43mallow-nan\u001b[39;49m\u001b[38;5;124;43m\"\u001b[39;49m\u001b[43m,\u001b[49m\n\u001b[0;32m   1054\u001b[0m \u001b[43m    \u001b[49m\u001b[43m)\u001b[49m\n\u001b[0;32m   1056\u001b[0m \u001b[38;5;28;01mif\u001b[39;00m copy:\n\u001b[0;32m   1057\u001b[0m     \u001b[38;5;28;01mif\u001b[39;00m _is_numpy_namespace(xp):\n\u001b[0;32m   1058\u001b[0m         \u001b[38;5;66;03m# only make a copy if `array` and `array_orig` may share memory`\u001b[39;00m\n",
      "File \u001b[1;32mS:\\Documents\\Coursework\\521-Final-Project\\env\\lib\\site-packages\\sklearn\\utils\\validation.py:126\u001b[0m, in \u001b[0;36m_assert_all_finite\u001b[1;34m(X, allow_nan, msg_dtype, estimator_name, input_name)\u001b[0m\n\u001b[0;32m    123\u001b[0m \u001b[38;5;28;01mif\u001b[39;00m first_pass_isfinite:\n\u001b[0;32m    124\u001b[0m     \u001b[38;5;28;01mreturn\u001b[39;00m\n\u001b[1;32m--> 126\u001b[0m \u001b[43m_assert_all_finite_element_wise\u001b[49m\u001b[43m(\u001b[49m\n\u001b[0;32m    127\u001b[0m \u001b[43m    \u001b[49m\u001b[43mX\u001b[49m\u001b[43m,\u001b[49m\n\u001b[0;32m    128\u001b[0m \u001b[43m    \u001b[49m\u001b[43mxp\u001b[49m\u001b[38;5;241;43m=\u001b[39;49m\u001b[43mxp\u001b[49m\u001b[43m,\u001b[49m\n\u001b[0;32m    129\u001b[0m \u001b[43m    \u001b[49m\u001b[43mallow_nan\u001b[49m\u001b[38;5;241;43m=\u001b[39;49m\u001b[43mallow_nan\u001b[49m\u001b[43m,\u001b[49m\n\u001b[0;32m    130\u001b[0m \u001b[43m    \u001b[49m\u001b[43mmsg_dtype\u001b[49m\u001b[38;5;241;43m=\u001b[39;49m\u001b[43mmsg_dtype\u001b[49m\u001b[43m,\u001b[49m\n\u001b[0;32m    131\u001b[0m \u001b[43m    \u001b[49m\u001b[43mestimator_name\u001b[49m\u001b[38;5;241;43m=\u001b[39;49m\u001b[43mestimator_name\u001b[49m\u001b[43m,\u001b[49m\n\u001b[0;32m    132\u001b[0m \u001b[43m    \u001b[49m\u001b[43minput_name\u001b[49m\u001b[38;5;241;43m=\u001b[39;49m\u001b[43minput_name\u001b[49m\u001b[43m,\u001b[49m\n\u001b[0;32m    133\u001b[0m \u001b[43m\u001b[49m\u001b[43m)\u001b[49m\n",
      "File \u001b[1;32mS:\\Documents\\Coursework\\521-Final-Project\\env\\lib\\site-packages\\sklearn\\utils\\validation.py:175\u001b[0m, in \u001b[0;36m_assert_all_finite_element_wise\u001b[1;34m(X, xp, allow_nan, msg_dtype, estimator_name, input_name)\u001b[0m\n\u001b[0;32m    158\u001b[0m \u001b[38;5;28;01mif\u001b[39;00m estimator_name \u001b[38;5;129;01mand\u001b[39;00m input_name \u001b[38;5;241m==\u001b[39m \u001b[38;5;124m\"\u001b[39m\u001b[38;5;124mX\u001b[39m\u001b[38;5;124m\"\u001b[39m \u001b[38;5;129;01mand\u001b[39;00m has_nan_error:\n\u001b[0;32m    159\u001b[0m     \u001b[38;5;66;03m# Improve the error message on how to handle missing values in\u001b[39;00m\n\u001b[0;32m    160\u001b[0m     \u001b[38;5;66;03m# scikit-learn.\u001b[39;00m\n\u001b[0;32m    161\u001b[0m     msg_err \u001b[38;5;241m+\u001b[39m\u001b[38;5;241m=\u001b[39m (\n\u001b[0;32m    162\u001b[0m         \u001b[38;5;124mf\u001b[39m\u001b[38;5;124m\"\u001b[39m\u001b[38;5;130;01m\\n\u001b[39;00m\u001b[38;5;132;01m{\u001b[39;00mestimator_name\u001b[38;5;132;01m}\u001b[39;00m\u001b[38;5;124m does not accept missing values\u001b[39m\u001b[38;5;124m\"\u001b[39m\n\u001b[0;32m    163\u001b[0m         \u001b[38;5;124m\"\u001b[39m\u001b[38;5;124m encoded as NaN natively. For supervised learning, you might want\u001b[39m\u001b[38;5;124m\"\u001b[39m\n\u001b[1;32m   (...)\u001b[0m\n\u001b[0;32m    173\u001b[0m         \u001b[38;5;124m\"\u001b[39m\u001b[38;5;124m#estimators-that-handle-nan-values\u001b[39m\u001b[38;5;124m\"\u001b[39m\n\u001b[0;32m    174\u001b[0m     )\n\u001b[1;32m--> 175\u001b[0m \u001b[38;5;28;01mraise\u001b[39;00m \u001b[38;5;167;01mValueError\u001b[39;00m(msg_err)\n",
      "\u001b[1;31mValueError\u001b[0m: Input X contains NaN.\nKMeans does not accept missing values encoded as NaN natively. For supervised learning, you might want to consider sklearn.ensemble.HistGradientBoostingClassifier and Regressor which accept missing values encoded as NaNs natively. Alternatively, it is possible to preprocess the data, for instance by using an imputer transformer in a pipeline or drop samples with missing values. See https://scikit-learn.org/stable/modules/impute.html You can find a list of all estimators that handle NaN values at the following page: https://scikit-learn.org/stable/modules/impute.html#estimators-that-handle-nan-values"
     ]
    }
   ],
   "source": [
    "import pandas as pd\n",
    "import matplotlib.pyplot as plt\n",
    "from sklearn.preprocessing import StandardScaler\n",
    "from sklearn.cluster import KMeans\n",
    "\n",
    "\n",
    "features = merged_df.columns[:-1]  \n",
    "\n",
    "# make standard scaler\n",
    "scaler = StandardScaler()\n",
    "data_scaled = scaler.fit_transform(merged_df[features])\n",
    "\n",
    "# apply K-means clustering\n",
    "num_clusters = 4  \n",
    "kmeans = KMeans(n_clusters=num_clusters, random_state=42)\n",
    "clusters = kmeans.fit_predict(data_scaled)\n",
    "\n",
    "# add cluster label\n",
    "merged_df['Cluster'] = clusters\n",
    "\n",
    "# calculate centroids of each cluster\n",
    "centroids = kmeans.cluster_centers_\n",
    "\n",
    "# ensure 'features' matches the columns used for scaling\n",
    "centroids_inverse_transformed = scaler.inverse_transform(centroids)\n",
    "centroids_df = pd.DataFrame(centroids_inverse_transformed, columns=features)\n",
    "print(\"Centroids of each cluster:\")\n",
    "print(centroids_df)\n",
    "\n",
    "# visualize Feature Distributions in Each Cluster\n",
    "fig, axs = plt.subplots(num_clusters, figsize=(15, num_clusters*5))\n",
    "for i in range(num_clusters):\n",
    "    cluster_data = merged_df[merged_df['Cluster'] == i]\n",
    "    cluster_data[features].drop('Cluster', axis=1, errors='ignore').boxplot(ax=axs[i])\n",
    "    axs[i].set_title(f'Cluster {i} Feature Distribution')\n",
    "    axs[i].set_xticklabels(axs[i].get_xticklabels(), rotation=45, ha='right')\n",
    "\n",
    "plt.tight_layout()\n",
    "plt.show()"
   ]
  },
  {
   "cell_type": "markdown",
   "metadata": {},
   "source": [
    "\n",
    "## Model Evaluation and Results"
   ]
  },
  {
   "cell_type": "markdown",
   "metadata": {},
   "source": [
    "\n",
    "\n",
    "### Model Summary:\n",
    "\n",
    "1. **K-means Clustering**\n",
    "   - **Objective**: Segregate the dataset into distinct regimes based on our financial features.\n",
    "   - **Result**: Clusters were heavily influenced by the 'total_assets' feature, with other features contributing minimally. This indicates that the clustering might be skewed by the dominance of this particular feature due to its scale or variance compared to other variables in the dataset.\n",
    "\n",
    "2. **Transition Matrix via Markov Chain**\n",
    "   - **Objective**: Model transitions between different financial regimes identified by K-means to predict future states for time-series.\n",
    "   - **Result**: The transition probability matrix showed extremely high probabilities of remaining in the current state (close to or above 99% for staying in the same cluster). Almost no regime changes over time. This means we have a very stable and static model with little dynamic transition between states.\n",
    "\n",
    "### Analysis of Results:\n",
    "\n",
    "- **Feature Dominance**: The overwhelming influence of 'total_assets' suggests that either this feature is disproportionately scaling compared to others or it naturally varies less over time, leading to static cluster assignments. This has potentially masked more subtle variations in other financial metrics that could be more helpful for predicting EPS.\n",
    "\n",
    "- **Limited Dynamics Captured**: The high stability observed in the transition probabilities points to either an inherently stable dataset or a model that is unable to capture the fine triggers required to detect regime changes. Financial data is often very subtle that simple clustering may not be able to capture.\n",
    "\n",
    "- **Predictive Power Concerns**: Given the lack of transitions between states, using this model to forecast future EPS would likely result in static predictions, a flat line for EPS, or a dummy model. This model fails to provide useful predictions for EPS.\n",
    "\n",
    "### Recommendations for Improvement:\n",
    "\n",
    "1. **Data Preprocessing**:\n",
    "    - Re-examine and possibly rescale or normalize the features so that each contributes equally to the distance calculations in K-means.\n",
    "    - Consider transforming features to better capture changes (e.g., using logarithmic scales or differences instead of absolute values).\n",
    "\n",
    "2. **Feature Engineering**:\n",
    "    - Increase the number of features by incorporating additional data or deriving new metrics from existing data (e.g., ratios, year-over-year changes). We may need much more than 10 features for effective K-means clustering.\n",
    "\n",
    "3. **Model Exploration**:\n",
    "    - Consider other models more suited to time-series data, such as our models above.\n",
    "\n",
    "4. **Extend Dataset**:\n",
    "    - If possible, incorporate more historical data to capture a broader range of economic cycles and market conditions. We only have 10 years of data.\n",
    "    - Integrate external data sources that could impact EPS for more indicators or features.\n",
    "\n",
    "### Conclusion:\n",
    "\n",
    "The current model setup provides an interesting case for the limitations in our its ability to dynamically predict shifts in earnings per share. We see the restrictions of our model, specifically we've learned a lot in what could be done to make it better."
   ]
  },
  {
   "cell_type": "markdown",
   "metadata": {},
   "source": [
    "## Why this model for this problem\n",
    "Support Vector Machines (SVMs) offer a compelling approach for forecasting future firm earnings based on financial data due to their robustness in handling high-dimensional datasets and ability to capture complex relationships between features. In financial forecasting, where datasets often contain numerous predictors and intricate patterns, SVMs excel at identifying the optimal decision boundary that separates different market regimes or states, thereby enabling accurate prediction of earnings trends. Additionally, SVMs can effectively handle both linear and non-linear relationships through the use of appropriate kernel functions, making them versatile for capturing the nuanced dynamics of financial markets. Their ability to generalize well to unseen data further enhances their utility in this context, as it ensures reliable predictions even in the face of changing market conditions."
   ]
  },
  {
   "cell_type": "markdown",
   "metadata": {},
   "source": [
    "## Model Architecture\n",
    "SVM aims to find the optimal hyperplane that separates data classes while maximizing margin. It utilizes support vectors and kernel functions to handle non-linear relationships efficiently. Regularization prevents overfitting, and the decision function assigns new data points to classes based on their position relative to the hyperplane."
   ]
  },
  {
   "cell_type": "code",
   "execution_count": 38,
   "metadata": {},
   "outputs": [
    {
     "ename": "NameError",
     "evalue": "name 'X_train_reshaped' is not defined",
     "output_type": "error",
     "traceback": [
      "\u001b[1;31m---------------------------------------------------------------------------\u001b[0m",
      "\u001b[1;31mNameError\u001b[0m                                 Traceback (most recent call last)",
      "Cell \u001b[1;32mIn[38], line 7\u001b[0m\n\u001b[0;32m      4\u001b[0m svr \u001b[38;5;241m=\u001b[39m SVR(kernel\u001b[38;5;241m=\u001b[39m\u001b[38;5;124m'\u001b[39m\u001b[38;5;124mrbf\u001b[39m\u001b[38;5;124m'\u001b[39m, C\u001b[38;5;241m=\u001b[39m\u001b[38;5;241m1.0\u001b[39m, epsilon\u001b[38;5;241m=\u001b[39m\u001b[38;5;241m0.2\u001b[39m)\n\u001b[0;32m      6\u001b[0m \u001b[38;5;66;03m# Train the model\u001b[39;00m\n\u001b[1;32m----> 7\u001b[0m svr\u001b[38;5;241m.\u001b[39mfit(\u001b[43mX_train_reshaped\u001b[49m, y_train)\n\u001b[0;32m      9\u001b[0m \u001b[38;5;66;03m# Make predictions on the test set\u001b[39;00m\n\u001b[0;32m     10\u001b[0m y_pred \u001b[38;5;241m=\u001b[39m svr\u001b[38;5;241m.\u001b[39mpredict(X_test_reshaped)\n",
      "\u001b[1;31mNameError\u001b[0m: name 'X_train_reshaped' is not defined"
     ]
    }
   ],
   "source": [
    "from sklearn.svm import SVR\n",
    "\n",
    "# Create a Support Vector Regressor\n",
    "svr = SVR(kernel='rbf', C=1.0, epsilon=0.2)\n",
    "\n",
    "# Train the model\n",
    "svr.fit(X_train_reshaped, y_train)\n",
    "\n",
    "# Make predictions on the test set\n",
    "y_pred = svr.predict(X_test_reshaped)"
   ]
  },
  {
   "cell_type": "markdown",
   "metadata": {},
   "source": [
    "We'd like to plot this data against the original test values to get a visual representation of how it performed."
   ]
  },
  {
   "cell_type": "code",
   "execution_count": 39,
   "metadata": {},
   "outputs": [
    {
     "ename": "NameError",
     "evalue": "name 'X_test_reshaped' is not defined",
     "output_type": "error",
     "traceback": [
      "\u001b[1;31m---------------------------------------------------------------------------\u001b[0m",
      "\u001b[1;31mNameError\u001b[0m                                 Traceback (most recent call last)",
      "Cell \u001b[1;32mIn[39], line 4\u001b[0m\n\u001b[0;32m      1\u001b[0m \u001b[38;5;28;01mimport\u001b[39;00m \u001b[38;5;21;01mmatplotlib\u001b[39;00m\u001b[38;5;21;01m.\u001b[39;00m\u001b[38;5;21;01mpyplot\u001b[39;00m \u001b[38;5;28;01mas\u001b[39;00m \u001b[38;5;21;01mplt\u001b[39;00m\n\u001b[0;32m      3\u001b[0m \u001b[38;5;66;03m# Predicting\u001b[39;00m\n\u001b[1;32m----> 4\u001b[0m predicted_values \u001b[38;5;241m=\u001b[39m svr\u001b[38;5;241m.\u001b[39mpredict(\u001b[43mX_test_reshaped\u001b[49m)\n\u001b[0;32m      5\u001b[0m plt\u001b[38;5;241m.\u001b[39mfigure(figsize\u001b[38;5;241m=\u001b[39m(\u001b[38;5;241m10\u001b[39m, \u001b[38;5;241m6\u001b[39m))\n\u001b[0;32m      6\u001b[0m plt\u001b[38;5;241m.\u001b[39mplot(y_test, label\u001b[38;5;241m=\u001b[39m\u001b[38;5;124m'\u001b[39m\u001b[38;5;124mTrue Values\u001b[39m\u001b[38;5;124m'\u001b[39m)\n",
      "\u001b[1;31mNameError\u001b[0m: name 'X_test_reshaped' is not defined"
     ]
    }
   ],
   "source": [
    "import matplotlib.pyplot as plt\n",
    "\n",
    "# Predicting\n",
    "predicted_values = svr.predict(X_test_reshaped)\n",
    "plt.figure(figsize=(10, 6))\n",
    "plt.plot(y_test, label='True Values')\n",
    "plt.plot(predicted_values, label='Predicted Values')\n",
    "plt.title('Comparison of Actual and Predicted Values')\n",
    "plt.legend()\n",
    "plt.show()"
   ]
  },
  {
   "cell_type": "markdown",
   "metadata": {},
   "source": [
    "### Evaluating the model\n",
    "We would like to use the Mean squared Error to evaluate this model and better compare it to the other models."
   ]
  },
  {
   "cell_type": "code",
   "execution_count": 40,
   "metadata": {},
   "outputs": [
    {
     "ename": "NameError",
     "evalue": "name 'X_test_reshaped' is not defined",
     "output_type": "error",
     "traceback": [
      "\u001b[1;31m---------------------------------------------------------------------------\u001b[0m",
      "\u001b[1;31mNameError\u001b[0m                                 Traceback (most recent call last)",
      "Cell \u001b[1;32mIn[40], line 3\u001b[0m\n\u001b[0;32m      1\u001b[0m \u001b[38;5;28;01mfrom\u001b[39;00m \u001b[38;5;21;01msklearn\u001b[39;00m\u001b[38;5;21;01m.\u001b[39;00m\u001b[38;5;21;01mmetrics\u001b[39;00m \u001b[38;5;28;01mimport\u001b[39;00m mean_squared_error\n\u001b[0;32m      2\u001b[0m \u001b[38;5;66;03m# Make predictions on the test set\u001b[39;00m\n\u001b[1;32m----> 3\u001b[0m y_pred \u001b[38;5;241m=\u001b[39m svr\u001b[38;5;241m.\u001b[39mpredict(\u001b[43mX_test_reshaped\u001b[49m)\n\u001b[0;32m      4\u001b[0m \u001b[38;5;66;03m# Calculate the mean squared error\u001b[39;00m\n\u001b[0;32m      5\u001b[0m mse \u001b[38;5;241m=\u001b[39m mean_squared_error(y_test, y_pred)\n",
      "\u001b[1;31mNameError\u001b[0m: name 'X_test_reshaped' is not defined"
     ]
    }
   ],
   "source": [
    "from sklearn.metrics import mean_squared_error\n",
    "# Make predictions on the test set\n",
    "y_pred = svr.predict(X_test_reshaped)\n",
    "# Calculate the mean squared error\n",
    "mse = mean_squared_error(y_test, y_pred)\n",
    "print(\"Mean Squared Error: \", mse)"
   ]
  },
  {
   "cell_type": "markdown",
   "metadata": {},
   "source": [
    "### Hypertuning Parameters\n",
    "We'd like to make this model more robust and ensure that the parameters are well suited for this specific usecase. We will use GridSearchCV to hypertune the parameters inorder to get a better prediction"
   ]
  },
  {
   "cell_type": "code",
   "execution_count": 41,
   "metadata": {},
   "outputs": [
    {
     "ename": "NameError",
     "evalue": "name 'X_train_reshaped' is not defined",
     "output_type": "error",
     "traceback": [
      "\u001b[1;31m---------------------------------------------------------------------------\u001b[0m",
      "\u001b[1;31mNameError\u001b[0m                                 Traceback (most recent call last)",
      "Cell \u001b[1;32mIn[41], line 17\u001b[0m\n\u001b[0;32m     14\u001b[0m grid_search \u001b[38;5;241m=\u001b[39m GridSearchCV(svr, param_grid, cv\u001b[38;5;241m=\u001b[39m\u001b[38;5;241m5\u001b[39m, scoring\u001b[38;5;241m=\u001b[39m\u001b[38;5;124m'\u001b[39m\u001b[38;5;124mneg_mean_squared_error\u001b[39m\u001b[38;5;124m'\u001b[39m)\n\u001b[0;32m     16\u001b[0m \u001b[38;5;66;03m# Fit the model\u001b[39;00m\n\u001b[1;32m---> 17\u001b[0m grid_search\u001b[38;5;241m.\u001b[39mfit(\u001b[43mX_train_reshaped\u001b[49m, y_train)\n\u001b[0;32m     19\u001b[0m \u001b[38;5;66;03m# Get the best parameters\u001b[39;00m\n\u001b[0;32m     20\u001b[0m best_params \u001b[38;5;241m=\u001b[39m grid_search\u001b[38;5;241m.\u001b[39mbest_params_\n",
      "\u001b[1;31mNameError\u001b[0m: name 'X_train_reshaped' is not defined"
     ]
    }
   ],
   "source": [
    "from sklearn.model_selection import GridSearchCV\n",
    "\n",
    "# Define the parameter grid\n",
    "param_grid = {\n",
    "    'C': [0.1, 1, 10, 100],\n",
    "    'epsilon': [0.1, 0.2, 0.3, 0.4, 0.5],\n",
    "    'kernel': ['rbf', 'linear', 'poly']\n",
    "}\n",
    "\n",
    "# Create a Support Vector Regressor\n",
    "svr = SVR()\n",
    "\n",
    "# Create GridSearchCV object\n",
    "grid_search = GridSearchCV(svr, param_grid, cv=5, scoring='neg_mean_squared_error')\n",
    "\n",
    "# Fit the model\n",
    "grid_search.fit(X_train_reshaped, y_train)\n",
    "\n",
    "# Get the best parameters\n",
    "best_params = grid_search.best_params_\n",
    "\n",
    "print(\"Best parameters: \", best_params)\n",
    "\n",
    "# Train the model with the best parameters\n",
    "svr_best = SVR(**best_params)\n",
    "svr_best.fit(X_train_reshaped, y_train)\n",
    "\n",
    "# Make predictions on the test set\n",
    "y_pred = svr_best.predict(X_test_reshaped)"
   ]
  },
  {
   "cell_type": "code",
   "execution_count": 42,
   "metadata": {},
   "outputs": [
    {
     "ename": "NameError",
     "evalue": "name 'svr_best' is not defined",
     "output_type": "error",
     "traceback": [
      "\u001b[1;31m---------------------------------------------------------------------------\u001b[0m",
      "\u001b[1;31mNameError\u001b[0m                                 Traceback (most recent call last)",
      "Cell \u001b[1;32mIn[42], line 4\u001b[0m\n\u001b[0;32m      1\u001b[0m \u001b[38;5;28;01mimport\u001b[39;00m \u001b[38;5;21;01mmatplotlib\u001b[39;00m\u001b[38;5;21;01m.\u001b[39;00m\u001b[38;5;21;01mpyplot\u001b[39;00m \u001b[38;5;28;01mas\u001b[39;00m \u001b[38;5;21;01mplt\u001b[39;00m\n\u001b[0;32m      3\u001b[0m \u001b[38;5;66;03m# Predicting\u001b[39;00m\n\u001b[1;32m----> 4\u001b[0m predicted_values \u001b[38;5;241m=\u001b[39m \u001b[43msvr_best\u001b[49m\u001b[38;5;241m.\u001b[39mpredict(X_test_reshaped)\n\u001b[0;32m      5\u001b[0m plt\u001b[38;5;241m.\u001b[39mfigure(figsize\u001b[38;5;241m=\u001b[39m(\u001b[38;5;241m10\u001b[39m, \u001b[38;5;241m6\u001b[39m))\n\u001b[0;32m      6\u001b[0m plt\u001b[38;5;241m.\u001b[39mplot(y_test, label\u001b[38;5;241m=\u001b[39m\u001b[38;5;124m'\u001b[39m\u001b[38;5;124mTrue Values\u001b[39m\u001b[38;5;124m'\u001b[39m)\n",
      "\u001b[1;31mNameError\u001b[0m: name 'svr_best' is not defined"
     ]
    }
   ],
   "source": [
    "import matplotlib.pyplot as plt\n",
    "\n",
    "# Predicting\n",
    "predicted_values = svr_best.predict(X_test_reshaped)\n",
    "plt.figure(figsize=(10, 6))\n",
    "plt.plot(y_test, label='True Values')\n",
    "plt.plot(predicted_values, label='Predicted Values')\n",
    "plt.title('Comparison of Actual and Predicted Values')\n",
    "plt.legend()\n",
    "plt.show()"
   ]
  },
  {
   "cell_type": "code",
   "execution_count": 43,
   "metadata": {},
   "outputs": [
    {
     "ename": "NameError",
     "evalue": "name 'svr_best' is not defined",
     "output_type": "error",
     "traceback": [
      "\u001b[1;31m---------------------------------------------------------------------------\u001b[0m",
      "\u001b[1;31mNameError\u001b[0m                                 Traceback (most recent call last)",
      "Cell \u001b[1;32mIn[43], line 3\u001b[0m\n\u001b[0;32m      1\u001b[0m \u001b[38;5;28;01mfrom\u001b[39;00m \u001b[38;5;21;01msklearn\u001b[39;00m\u001b[38;5;21;01m.\u001b[39;00m\u001b[38;5;21;01mmetrics\u001b[39;00m \u001b[38;5;28;01mimport\u001b[39;00m mean_squared_error\n\u001b[0;32m      2\u001b[0m \u001b[38;5;66;03m# Make predictions on the test set\u001b[39;00m\n\u001b[1;32m----> 3\u001b[0m y_pred \u001b[38;5;241m=\u001b[39m \u001b[43msvr_best\u001b[49m\u001b[38;5;241m.\u001b[39mpredict(X_test_reshaped)\n\u001b[0;32m      4\u001b[0m \u001b[38;5;66;03m# Calculate the mean squared error\u001b[39;00m\n\u001b[0;32m      5\u001b[0m mse \u001b[38;5;241m=\u001b[39m mean_squared_error(y_test, y_pred)\n",
      "\u001b[1;31mNameError\u001b[0m: name 'svr_best' is not defined"
     ]
    }
   ],
   "source": [
    "from sklearn.metrics import mean_squared_error\n",
    "# Make predictions on the test set\n",
    "y_pred = svr_best.predict(X_test_reshaped)\n",
    "# Calculate the mean squared error\n",
    "mse = mean_squared_error(y_test, y_pred)\n",
    "print(\"Mean Squared Error: \", mse)"
   ]
  },
  {
   "cell_type": "markdown",
   "metadata": {},
   "source": [
    "### SVM Result Explanation\n",
    "The SVM branch with parameters {'C': 0.1, 'epsilon': 0.1, 'kernel': 'poly'} likely performed well due to its choice of parameters tailored to the problem. A polynomial kernel might have effectively captured the non-linear relationships in the data, while a smaller regularization parameter (C) and epsilon might have helped in achieving a smoother fit with lesser error. Conversely, SVM with {'kernel': 'rbf', 'C': 1.0, 'epsilon': 0.2} exhibited higher Mean Squared Error (MSE), potentially due to overfitting or less suitable parameter choices for the data, particularly with the radial basis function kernel, which might have been sensitive to the given C and epsilon values. Overall the SVM performed well due to its ability to effectively handle complex relationships in the financial data and generalize well to unseen data."
   ]
  },
  {
   "cell_type": "markdown",
   "metadata": {},
   "source": [
    "### Why this model for this problem\n",
    "The reason why Random Forest is effective for this project, which involves predicting the estimated Earnings Per Share (EPS), includes:\n",
    "\n",
    "Overfitting Prevention: Random Forest helps to prevent overfitting, a common problem in machine learning where a model performs well on training data but poorly on unseen data. This is achieved by averaging the predictions from multiple decision trees.\n",
    "\n",
    "Handling High Dimensionality: Random Forest can effectively handle datasets with a large number of features. It does this by randomly selecting a subset of features at each node when building the trees.\n",
    "\n",
    "Interpretability: Random Forest provides a measure of feature importance, which can help in understanding which features are most influential in predicting the EPS.\n",
    "\n",
    "Non-linearity: Financial data often exhibit non-linear relationships. Random Forest does not make any assumptions about the underlying relationships between features and the target variable, making it a suitable choice for this project.\n",
    "\n",
    "Robustness to Outliers: Random Forest is less sensitive to outliers in the data. This is particularly useful in financial data, which can often contain outliers due to sudden market changes."
   ]
  },
  {
   "cell_type": "markdown",
   "metadata": {},
   "source": [
    "### Reshaping data\n",
    "X_train.reshape(X_train.shape[0], -1) and X_test_reshaped = X_test.reshape(X_test.shape[0], -1) reshapes X_train into a two-dimensional array where the number of rows is the same as in the original X_train array, and the number of columns is such that the total number of elements in the array remains the same. This is to fine tune the data so it can be inputted into the RandomForestRegressor."
   ]
  },
  {
   "cell_type": "code",
   "execution_count": 44,
   "metadata": {},
   "outputs": [
    {
     "ename": "NameError",
     "evalue": "name 'X_train' is not defined",
     "output_type": "error",
     "traceback": [
      "\u001b[1;31m---------------------------------------------------------------------------\u001b[0m",
      "\u001b[1;31mNameError\u001b[0m                                 Traceback (most recent call last)",
      "Cell \u001b[1;32mIn[44], line 9\u001b[0m\n\u001b[0;32m      5\u001b[0m rf \u001b[38;5;241m=\u001b[39m RandomForestRegressor(n_estimators\u001b[38;5;241m=\u001b[39m\u001b[38;5;241m200\u001b[39m, random_state\u001b[38;5;241m=\u001b[39m\u001b[38;5;241m0\u001b[39m)\n\u001b[0;32m      7\u001b[0m \u001b[38;5;66;03m# Train the model\u001b[39;00m\n\u001b[0;32m      8\u001b[0m \u001b[38;5;66;03m# Reshape the input data\u001b[39;00m\n\u001b[1;32m----> 9\u001b[0m X_train_reshaped \u001b[38;5;241m=\u001b[39m \u001b[43mX_train\u001b[49m\u001b[38;5;241m.\u001b[39mreshape(X_train\u001b[38;5;241m.\u001b[39mshape[\u001b[38;5;241m0\u001b[39m], \u001b[38;5;241m-\u001b[39m\u001b[38;5;241m1\u001b[39m)\n\u001b[0;32m     10\u001b[0m X_test_reshaped \u001b[38;5;241m=\u001b[39m X_test\u001b[38;5;241m.\u001b[39mreshape(X_test\u001b[38;5;241m.\u001b[39mshape[\u001b[38;5;241m0\u001b[39m], \u001b[38;5;241m-\u001b[39m\u001b[38;5;241m1\u001b[39m)\n\u001b[0;32m     12\u001b[0m \u001b[38;5;66;03m# Train the model\u001b[39;00m\n",
      "\u001b[1;31mNameError\u001b[0m: name 'X_train' is not defined"
     ]
    }
   ],
   "source": [
    "from sklearn.ensemble import RandomForestRegressor\n",
    "from sklearn.metrics import mean_squared_error\n",
    "\n",
    "# Create a Random Forest Regressor\n",
    "rf = RandomForestRegressor(n_estimators=200, random_state=0)\n",
    "\n",
    "# Train the model\n",
    "# Reshape the input data\n",
    "X_train_reshaped = X_train.reshape(X_train.shape[0], -1)\n",
    "X_test_reshaped = X_test.reshape(X_test.shape[0], -1)\n",
    "\n",
    "# Train the model\n",
    "rf.fit(X_train_reshaped, y_train)\n",
    "\n",
    "# Make predictions on the test set\n",
    "y_pred = rf.predict(X_test_reshaped)"
   ]
  },
  {
   "cell_type": "markdown",
   "metadata": {},
   "source": [
    "We'd like to plot this data against the original test values to get a visual representation of how it performed."
   ]
  },
  {
   "cell_type": "code",
   "execution_count": 45,
   "metadata": {},
   "outputs": [
    {
     "ename": "NameError",
     "evalue": "name 'X_test_reshaped' is not defined",
     "output_type": "error",
     "traceback": [
      "\u001b[1;31m---------------------------------------------------------------------------\u001b[0m",
      "\u001b[1;31mNameError\u001b[0m                                 Traceback (most recent call last)",
      "Cell \u001b[1;32mIn[45], line 4\u001b[0m\n\u001b[0;32m      1\u001b[0m \u001b[38;5;28;01mimport\u001b[39;00m \u001b[38;5;21;01mmatplotlib\u001b[39;00m\u001b[38;5;21;01m.\u001b[39;00m\u001b[38;5;21;01mpyplot\u001b[39;00m \u001b[38;5;28;01mas\u001b[39;00m \u001b[38;5;21;01mplt\u001b[39;00m\n\u001b[0;32m      3\u001b[0m \u001b[38;5;66;03m# Predicting\u001b[39;00m\n\u001b[1;32m----> 4\u001b[0m predicted_values \u001b[38;5;241m=\u001b[39m rf\u001b[38;5;241m.\u001b[39mpredict(\u001b[43mX_test_reshaped\u001b[49m)\n\u001b[0;32m      5\u001b[0m plt\u001b[38;5;241m.\u001b[39mfigure(figsize\u001b[38;5;241m=\u001b[39m(\u001b[38;5;241m10\u001b[39m, \u001b[38;5;241m6\u001b[39m))\n\u001b[0;32m      6\u001b[0m plt\u001b[38;5;241m.\u001b[39mplot(y_test, label\u001b[38;5;241m=\u001b[39m\u001b[38;5;124m'\u001b[39m\u001b[38;5;124mTrue Values\u001b[39m\u001b[38;5;124m'\u001b[39m)\n",
      "\u001b[1;31mNameError\u001b[0m: name 'X_test_reshaped' is not defined"
     ]
    }
   ],
   "source": [
    "import matplotlib.pyplot as plt\n",
    "\n",
    "# Predicting\n",
    "predicted_values = rf.predict(X_test_reshaped)\n",
    "plt.figure(figsize=(10, 6))\n",
    "plt.plot(y_test, label='True Values')\n",
    "plt.plot(predicted_values, label='Predicted Values')\n",
    "plt.title('Comparison of Actual and Predicted Values')\n",
    "plt.legend()\n",
    "plt.show()"
   ]
  },
  {
   "cell_type": "markdown",
   "metadata": {},
   "source": [
    "### Evaluating the model\n",
    "Mean Squared Error (MSE) is ideal for evaluating the Random Forest model in forecasting firm earnings because it penalizes larger errors, enhancing prediction accuracy. Its mathematical properties facilitate optimization and interpretation, while providing a consistent, standard metric for comparing model performance. MSE aligns well with the project's goal of minimizing forecast errors."
   ]
  },
  {
   "cell_type": "code",
   "execution_count": 46,
   "metadata": {},
   "outputs": [
    {
     "ename": "NameError",
     "evalue": "name 'X_test_reshaped' is not defined",
     "output_type": "error",
     "traceback": [
      "\u001b[1;31m---------------------------------------------------------------------------\u001b[0m",
      "\u001b[1;31mNameError\u001b[0m                                 Traceback (most recent call last)",
      "Cell \u001b[1;32mIn[46], line 3\u001b[0m\n\u001b[0;32m      1\u001b[0m \u001b[38;5;28;01mfrom\u001b[39;00m \u001b[38;5;21;01msklearn\u001b[39;00m\u001b[38;5;21;01m.\u001b[39;00m\u001b[38;5;21;01mmetrics\u001b[39;00m \u001b[38;5;28;01mimport\u001b[39;00m mean_squared_error\n\u001b[1;32m----> 3\u001b[0m y_pred \u001b[38;5;241m=\u001b[39m rf\u001b[38;5;241m.\u001b[39mpredict(\u001b[43mX_test_reshaped\u001b[49m)\n\u001b[0;32m      4\u001b[0m test_loss \u001b[38;5;241m=\u001b[39m mean_squared_error(y_test, y_pred)\n\u001b[0;32m      5\u001b[0m \u001b[38;5;28mprint\u001b[39m(\u001b[38;5;124mf\u001b[39m\u001b[38;5;124m'\u001b[39m\u001b[38;5;124mTest Loss: \u001b[39m\u001b[38;5;132;01m{\u001b[39;00mtest_loss\u001b[38;5;132;01m}\u001b[39;00m\u001b[38;5;124m'\u001b[39m)\n",
      "\u001b[1;31mNameError\u001b[0m: name 'X_test_reshaped' is not defined"
     ]
    }
   ],
   "source": [
    "from sklearn.metrics import mean_squared_error\n",
    "\n",
    "y_pred = rf.predict(X_test_reshaped)\n",
    "test_loss = mean_squared_error(y_test, y_pred)\n",
    "print(f'Test Loss: {test_loss}')"
   ]
  },
  {
   "cell_type": "markdown",
   "metadata": {},
   "source": [
    "### Hypertuning Parameters\n",
    "We'd like to try hypertuning the parameters to the original random forest regressor to try to get better results than the previous model. To do this we'd use GridSearchCV."
   ]
  },
  {
   "cell_type": "code",
   "execution_count": 47,
   "metadata": {},
   "outputs": [
    {
     "ename": "NameError",
     "evalue": "name 'X_train_reshaped' is not defined",
     "output_type": "error",
     "traceback": [
      "\u001b[1;31m---------------------------------------------------------------------------\u001b[0m",
      "\u001b[1;31mNameError\u001b[0m                                 Traceback (most recent call last)",
      "Cell \u001b[1;32mIn[47], line 20\u001b[0m\n\u001b[0;32m     16\u001b[0m grid_search \u001b[38;5;241m=\u001b[39m GridSearchCV(estimator\u001b[38;5;241m=\u001b[39mrf, param_grid\u001b[38;5;241m=\u001b[39mparam_grid, \n\u001b[0;32m     17\u001b[0m                            cv\u001b[38;5;241m=\u001b[39m\u001b[38;5;241m3\u001b[39m, n_jobs\u001b[38;5;241m=\u001b[39m\u001b[38;5;241m-\u001b[39m\u001b[38;5;241m1\u001b[39m, verbose\u001b[38;5;241m=\u001b[39m\u001b[38;5;241m2\u001b[39m)\n\u001b[0;32m     19\u001b[0m \u001b[38;5;66;03m# Fit the grid search to the data\u001b[39;00m\n\u001b[1;32m---> 20\u001b[0m grid_search\u001b[38;5;241m.\u001b[39mfit(\u001b[43mX_train_reshaped\u001b[49m, y_train)\n\u001b[0;32m     22\u001b[0m \u001b[38;5;66;03m# Get the best parameters\u001b[39;00m\n\u001b[0;32m     23\u001b[0m best_params \u001b[38;5;241m=\u001b[39m grid_search\u001b[38;5;241m.\u001b[39mbest_params_\n",
      "\u001b[1;31mNameError\u001b[0m: name 'X_train_reshaped' is not defined"
     ]
    }
   ],
   "source": [
    "from sklearn.model_selection import GridSearchCV\n",
    "\n",
    "# Define the parameter grid\n",
    "param_grid = {\n",
    "    'n_estimators': [100, 200, 300, 400],\n",
    "    'max_depth': [None, 10, 20, 30],\n",
    "    'min_samples_split': [2, 5, 10],\n",
    "    'min_samples_leaf': [1, 2, 4],\n",
    "    'bootstrap': [True, False]\n",
    "}\n",
    "\n",
    "# Create a base model\n",
    "rf = RandomForestRegressor(random_state=0)\n",
    "\n",
    "# Instantiate the grid search model\n",
    "grid_search = GridSearchCV(estimator=rf, param_grid=param_grid, \n",
    "                           cv=3, n_jobs=-1, verbose=2)\n",
    "\n",
    "# Fit the grid search to the data\n",
    "grid_search.fit(X_train_reshaped, y_train)\n",
    "\n",
    "# Get the best parameters\n",
    "best_params = grid_search.best_params_\n",
    "\n",
    "# Train the model using the best parameters\n",
    "rf_best = RandomForestRegressor(**best_params, random_state=0)\n",
    "rf_best.fit(X_train_reshaped, y_train)\n",
    "\n",
    "# Make predictions on the test set using the new model\n",
    "y_pred = rf_best.predict(X_test_reshaped)"
   ]
  },
  {
   "cell_type": "markdown",
   "metadata": {},
   "source": [
    "Below are the best found parameters and we will use them to train our rf_best model"
   ]
  },
  {
   "cell_type": "code",
   "execution_count": 48,
   "metadata": {},
   "outputs": [
    {
     "ename": "NameError",
     "evalue": "name 'best_params' is not defined",
     "output_type": "error",
     "traceback": [
      "\u001b[1;31m---------------------------------------------------------------------------\u001b[0m",
      "\u001b[1;31mNameError\u001b[0m                                 Traceback (most recent call last)",
      "Cell \u001b[1;32mIn[48], line 2\u001b[0m\n\u001b[0;32m      1\u001b[0m \u001b[38;5;66;03m# Train the model using the best parameters\u001b[39;00m\n\u001b[1;32m----> 2\u001b[0m rf_best \u001b[38;5;241m=\u001b[39m RandomForestRegressor(\u001b[38;5;241m*\u001b[39m\u001b[38;5;241m*\u001b[39m\u001b[43mbest_params\u001b[49m, random_state\u001b[38;5;241m=\u001b[39m\u001b[38;5;241m0\u001b[39m)\n\u001b[0;32m      3\u001b[0m rf_best\u001b[38;5;241m.\u001b[39mfit(X_train_reshaped, y_train)\n\u001b[0;32m      4\u001b[0m best_params\n",
      "\u001b[1;31mNameError\u001b[0m: name 'best_params' is not defined"
     ]
    }
   ],
   "source": [
    "# Train the model using the best parameters\n",
    "rf_best = RandomForestRegressor(**best_params, random_state=0)\n",
    "rf_best.fit(X_train_reshaped, y_train)\n",
    "best_params"
   ]
  },
  {
   "cell_type": "code",
   "execution_count": 49,
   "metadata": {},
   "outputs": [
    {
     "ename": "NameError",
     "evalue": "name 'rf_best' is not defined",
     "output_type": "error",
     "traceback": [
      "\u001b[1;31m---------------------------------------------------------------------------\u001b[0m",
      "\u001b[1;31mNameError\u001b[0m                                 Traceback (most recent call last)",
      "Cell \u001b[1;32mIn[49], line 2\u001b[0m\n\u001b[0;32m      1\u001b[0m \u001b[38;5;66;03m# Make predictions on the test set using the new model\u001b[39;00m\n\u001b[1;32m----> 2\u001b[0m y_pred \u001b[38;5;241m=\u001b[39m \u001b[43mrf_best\u001b[49m\u001b[38;5;241m.\u001b[39mpredict(X_test_reshaped)\n",
      "\u001b[1;31mNameError\u001b[0m: name 'rf_best' is not defined"
     ]
    }
   ],
   "source": [
    "# Make predictions on the test set using the new model\n",
    "y_pred = rf_best.predict(X_test_reshaped)"
   ]
  },
  {
   "cell_type": "code",
   "execution_count": 50,
   "metadata": {},
   "outputs": [
    {
     "ename": "NameError",
     "evalue": "name 'y_test' is not defined",
     "output_type": "error",
     "traceback": [
      "\u001b[1;31m---------------------------------------------------------------------------\u001b[0m",
      "\u001b[1;31mNameError\u001b[0m                                 Traceback (most recent call last)",
      "Cell \u001b[1;32mIn[50], line 3\u001b[0m\n\u001b[0;32m      1\u001b[0m \u001b[38;5;28;01mimport\u001b[39;00m \u001b[38;5;21;01mmatplotlib\u001b[39;00m\u001b[38;5;21;01m.\u001b[39;00m\u001b[38;5;21;01mpyplot\u001b[39;00m \u001b[38;5;28;01mas\u001b[39;00m \u001b[38;5;21;01mplt\u001b[39;00m\n\u001b[0;32m      2\u001b[0m plt\u001b[38;5;241m.\u001b[39mfigure(figsize\u001b[38;5;241m=\u001b[39m(\u001b[38;5;241m10\u001b[39m, \u001b[38;5;241m6\u001b[39m))\n\u001b[1;32m----> 3\u001b[0m plt\u001b[38;5;241m.\u001b[39mplot(\u001b[43my_test\u001b[49m, label\u001b[38;5;241m=\u001b[39m\u001b[38;5;124m'\u001b[39m\u001b[38;5;124mTrue Values\u001b[39m\u001b[38;5;124m'\u001b[39m)\n\u001b[0;32m      4\u001b[0m plt\u001b[38;5;241m.\u001b[39mplot(y_pred, label\u001b[38;5;241m=\u001b[39m\u001b[38;5;124m'\u001b[39m\u001b[38;5;124mPredicted Values\u001b[39m\u001b[38;5;124m'\u001b[39m)\n\u001b[0;32m      5\u001b[0m plt\u001b[38;5;241m.\u001b[39mtitle(\u001b[38;5;124m'\u001b[39m\u001b[38;5;124mComparison of Actual and Predicted Values\u001b[39m\u001b[38;5;124m'\u001b[39m)\n",
      "\u001b[1;31mNameError\u001b[0m: name 'y_test' is not defined"
     ]
    },
    {
     "data": {
      "text/plain": [
       "<Figure size 1000x600 with 0 Axes>"
      ]
     },
     "metadata": {},
     "output_type": "display_data"
    }
   ],
   "source": [
    "import matplotlib.pyplot as plt\n",
    "plt.figure(figsize=(10, 6))\n",
    "plt.plot(y_test, label='True Values')\n",
    "plt.plot(y_pred, label='Predicted Values')\n",
    "plt.title('Comparison of Actual and Predicted Values')\n",
    "plt.legend()\n",
    "plt.show()"
   ]
  },
  {
   "cell_type": "code",
   "execution_count": 51,
   "metadata": {},
   "outputs": [
    {
     "ename": "NameError",
     "evalue": "name 'rf_best' is not defined",
     "output_type": "error",
     "traceback": [
      "\u001b[1;31m---------------------------------------------------------------------------\u001b[0m",
      "\u001b[1;31mNameError\u001b[0m                                 Traceback (most recent call last)",
      "Cell \u001b[1;32mIn[51], line 2\u001b[0m\n\u001b[0;32m      1\u001b[0m \u001b[38;5;28;01mfrom\u001b[39;00m \u001b[38;5;21;01msklearn\u001b[39;00m\u001b[38;5;21;01m.\u001b[39;00m\u001b[38;5;21;01mmetrics\u001b[39;00m \u001b[38;5;28;01mimport\u001b[39;00m mean_squared_error\n\u001b[1;32m----> 2\u001b[0m y_pred \u001b[38;5;241m=\u001b[39m \u001b[43mrf_best\u001b[49m\u001b[38;5;241m.\u001b[39mpredict(X_test_reshaped)\n\u001b[0;32m      3\u001b[0m test_loss \u001b[38;5;241m=\u001b[39m mean_squared_error(y_test, y_pred)\n\u001b[0;32m      4\u001b[0m \u001b[38;5;28mprint\u001b[39m(\u001b[38;5;124mf\u001b[39m\u001b[38;5;124m'\u001b[39m\u001b[38;5;124mTest Loss: \u001b[39m\u001b[38;5;132;01m{\u001b[39;00mtest_loss\u001b[38;5;132;01m}\u001b[39;00m\u001b[38;5;124m'\u001b[39m)\n",
      "\u001b[1;31mNameError\u001b[0m: name 'rf_best' is not defined"
     ]
    }
   ],
   "source": [
    "from sklearn.metrics import mean_squared_error\n",
    "y_pred = rf_best.predict(X_test_reshaped)\n",
    "test_loss = mean_squared_error(y_test, y_pred)\n",
    "print(f'Test Loss: {test_loss}')"
   ]
  },
  {
   "cell_type": "markdown",
   "metadata": {},
   "source": [
    "### Random Forest Result Explanation\n",
    "The Random Forest model may underperform compared to RNNs and XGBoost in this project due to its limited ability to capture temporal dependencies and sequential patterns inherent in financial data. While Random Forests are robust for general prediction tasks, they lack the capability of RNNs to model time series data effectively. Additionally, XGBoost's ability to handle complex feature interactions and non-stationarity in financial metrics provides a significant edge. The averaging nature of Random Forests can also dilute subtle but crucial patterns, leading to less accurate earnings forecasts. We can also notice that hypertuning the parameters can also overfit the model as the second model performs slightly worse than the first one. "
   ]
  },
  {
   "cell_type": "markdown",
   "metadata": {},
   "source": [
    "# Vanila Neural Network (Bhavesh)"
   ]
  },
  {
   "cell_type": "markdown",
   "metadata": {},
   "source": [
    "### Why this model for this problem\n",
    "A Vanilla Neural Network (VNN) can effectively forecast firm earnings by leveraging its capacity to capture complex non-linear relationships present in financial data. Through hierarchical feature representations and non-linear mapping, VNNs adapt to historical data during training, enabling accurate predictions about future earnings. Techniques like regularization prevent overfitting, ensuring generalization to unseen data. With flexible architectures, VNNs can be tailored to the specific characteristics of the dataset, optimizing performance for the forecasting task at hand."
   ]
  },
  {
   "cell_type": "markdown",
   "metadata": {},
   "source": [
    "### What is the model archetecture\n",
    "The model architecture utilizes a Vanilla Neural Network (VNN) implemented using TensorFlow's Keras API. It comprises three fully connected (Dense) layers. The input layer consists of 50 neurons with Rectified Linear Unit (ReLU) activation, followed by a dropout layer with a dropout rate of 0.2 to prevent overfitting. The second hidden layer also consists of 50 neurons with ReLU activation, followed by another dropout layer. The output layer consists of a single neuron, assuming a single output. The input shape is determined by the number of timesteps (n_steps) multiplied by the number of features in the dataset (n_features). The model structure is summarized using the `summary()` function to verify its configuration and parameter count."
   ]
  },
  {
   "cell_type": "code",
   "execution_count": 52,
   "metadata": {},
   "outputs": [
    {
     "name": "stdout",
     "output_type": "stream",
     "text": [
      "Model: \"sequential\"\n",
      "_________________________________________________________________\n",
      " Layer (type)                Output Shape              Param #   \n",
      "=================================================================\n",
      " dense (Dense)               (None, 50)                1850      \n",
      "                                                                 \n",
      " dropout (Dropout)           (None, 50)                0         \n",
      "                                                                 \n",
      " dense_1 (Dense)             (None, 50)                2550      \n",
      "                                                                 \n",
      " dropout_1 (Dropout)         (None, 50)                0         \n",
      "                                                                 \n",
      " dense_2 (Dense)             (None, 1)                 51        \n",
      "                                                                 \n",
      "=================================================================\n",
      "Total params: 4,451\n",
      "Trainable params: 4,451\n",
      "Non-trainable params: 0\n",
      "_________________________________________________________________\n"
     ]
    }
   ],
   "source": [
    "import tensorflow as tf\n",
    "from tensorflow.keras.models import Sequential\n",
    "from tensorflow.keras.layers import Dense, Dropout\n",
    "\n",
    "n_steps = 4  # This should match the number of timesteps you decided to use in your sequences\n",
    "n_features = merged_df.shape[1]  # Number of features in your dataset\n",
    "\n",
    "# Define the vanilla neural network model\n",
    "model = Sequential([\n",
    "    Dense(50, activation='relu', input_shape=(n_steps * n_features,)),\n",
    "    Dropout(0.2),\n",
    "    Dense(50, activation='relu'),\n",
    "    Dropout(0.2),\n",
    "    Dense(1)  # Output layer - assumes a single output\n",
    "])\n",
    "\n",
    "# Display model summary to verify its structure\n",
    "model.summary()"
   ]
  },
  {
   "cell_type": "markdown",
   "metadata": {},
   "source": [
    "### Why use SGD Optimizer\n",
    "Using Stochastic Gradient Descent (SGD) optimizer for this Vanilla Neural Network (VNN) is advantageous due to its computational efficiency, scalability to large datasets, and flexibility in hyperparameter tuning. SGD introduces randomness, aiding generalization and preventing overfitting. It converges to global minima with appropriate tuning and offers interpretability, facilitating model development and debugging. Overall, SGD optimizes training efficiency and enhances the VNN's performance in forecasting firm earnings."
   ]
  },
  {
   "cell_type": "code",
   "execution_count": 53,
   "metadata": {},
   "outputs": [
    {
     "ename": "NameError",
     "evalue": "name 'X_train' is not defined",
     "output_type": "error",
     "traceback": [
      "\u001b[1;31m---------------------------------------------------------------------------\u001b[0m",
      "\u001b[1;31mNameError\u001b[0m                                 Traceback (most recent call last)",
      "Cell \u001b[1;32mIn[53], line 2\u001b[0m\n\u001b[0;32m      1\u001b[0m \u001b[38;5;66;03m# Reshape the input data\u001b[39;00m\n\u001b[1;32m----> 2\u001b[0m X_train_reshaped \u001b[38;5;241m=\u001b[39m \u001b[43mX_train\u001b[49m\u001b[38;5;241m.\u001b[39mreshape(X_train\u001b[38;5;241m.\u001b[39mshape[\u001b[38;5;241m0\u001b[39m], \u001b[38;5;241m-\u001b[39m\u001b[38;5;241m1\u001b[39m)\n\u001b[0;32m      3\u001b[0m X_test_reshaped \u001b[38;5;241m=\u001b[39m X_test\u001b[38;5;241m.\u001b[39mreshape(X_test\u001b[38;5;241m.\u001b[39mshape[\u001b[38;5;241m0\u001b[39m], \u001b[38;5;241m-\u001b[39m\u001b[38;5;241m1\u001b[39m)\n\u001b[0;32m      5\u001b[0m \u001b[38;5;66;03m# Train the model\u001b[39;00m\n",
      "\u001b[1;31mNameError\u001b[0m: name 'X_train' is not defined"
     ]
    }
   ],
   "source": [
    "\n",
    "# Reshape the input data\n",
    "X_train_reshaped = X_train.reshape(X_train.shape[0], -1)\n",
    "X_test_reshaped = X_test.reshape(X_test.shape[0], -1)\n",
    "\n",
    "# Train the model\n",
    "sgd_optimizer = tf.keras.optimizers.SGD(learning_rate=0.01, momentum=0.9)\n",
    "model.compile(optimizer=sgd_optimizer, loss='mean_squared_error')\n",
    "model.fit(X_train_reshaped, y_train, epochs=200, batch_size=32)\n",
    "\n",
    "# Make predictions on the test set\n",
    "y_pred = model.predict(X_test_reshaped)"
   ]
  },
  {
   "cell_type": "markdown",
   "metadata": {},
   "source": [
    "We'd like to plot this data against the original test values to get a visual representation of how it performed."
   ]
  },
  {
   "cell_type": "code",
   "execution_count": null,
   "metadata": {},
   "outputs": [],
   "source": [
    "import matplotlib.pyplot as plt\n",
    "\n",
    "# Predicting\n",
    "plt.figure(figsize=(10, 6))\n",
    "plt.plot(y_test, label='True Values')\n",
    "plt.plot(y_pred, label='Predicted Values')\n",
    "plt.title('Comparison of Actual and Predicted Values')\n",
    "plt.legend()\n",
    "plt.show()"
   ]
  },
  {
   "cell_type": "markdown",
   "metadata": {},
   "source": [
    "### Evaluating the model\n",
    "We would like to use the Mean squared Error to evaluate this model and better compare it to the other models."
   ]
  },
  {
   "cell_type": "code",
   "execution_count": null,
   "metadata": {},
   "outputs": [],
   "source": [
    "test_loss = model.evaluate(X_test_reshaped, y_test)\n",
    "print(f'Test Loss: {test_loss}')"
   ]
  },
  {
   "cell_type": "markdown",
   "metadata": {},
   "source": [
    "### Hypertuning the parameters\n",
    "We will perform hyperparameter tuning for the Vanilla Neural Network (VNN) where we explore different combinations of parameters such as the number of units in input and hidden layers, learning rate, and momentum. The Keras Tuner systematically searches these hyperparameters to minimize the mean squared error loss. This optimization process fine-tunes the VNN's architecture and training parameters, tailored specifically for forecasting firm earnings. By selecting the best configuration, the model's performance is optimized, leading to more accurate predictions."
   ]
  },
  {
   "cell_type": "code",
   "execution_count": null,
   "metadata": {},
   "outputs": [],
   "source": [
    "import tensorflow as tf\n",
    "from tensorflow.keras.models import Sequential\n",
    "from tensorflow.keras.layers import Dense, Dropout\n",
    "from tensorflow.keras.optimizers import SGD\n",
    "from kerastuner.tuners import RandomSearch\n",
    "\n",
    "n_steps = 4  # This should match the number of timesteps you decided to use in your sequences\n",
    "n_features = merged_df.shape[1]  # Number of features in your dataset\n",
    "\n",
    "def build_model(hp):\n",
    "    model = Sequential([\n",
    "        Dense(hp.Int('units_input', min_value=32, max_value=512, step=32), activation='relu', input_shape=(n_steps * n_features,)),\n",
    "        Dropout(0.2),\n",
    "        Dense(hp.Int('units_hidden', min_value=32, max_value=512, step=32), activation='relu'),\n",
    "        Dropout(0.2),\n",
    "        Dense(1)  # Output layer - assumes a single output\n",
    "    ])\n",
    "\n",
    "    # Compile the model\n",
    "    sgd_optimizer = SGD(\n",
    "        learning_rate=hp.Float('learning_rate', min_value=0.01, max_value=0.1, step=0.01),\n",
    "        momentum=hp.Float('momentum', min_value=0.0, max_value=0.9, step=0.1)\n",
    "    )\n",
    "    model.compile(optimizer=sgd_optimizer, loss='mean_squared_error')\n",
    "\n",
    "    return model\n",
    "\n",
    "# Define the Keras Tuner\n",
    "tuner = RandomSearch(\n",
    "    build_model,\n",
    "    objective='val_loss',\n",
    "    max_trials=5,  # The number of different models to try\n",
    "    executions_per_trial=3,  # The number of times to train each model. This is useful to reduce results variance\n",
    "    directory='my_dir',  # The directory where the results are stored\n",
    "    project_name='vnn'  # The name of the project. This will be a subdirectory in the directory\n",
    ")\n",
    "\n",
    "# Reshape the input data\n",
    "X_train_reshaped = X_train.reshape(X_train.shape[0], -1)\n",
    "X_test_reshaped = X_test.reshape(X_test.shape[0], -1)\n",
    "\n",
    "# Run the hyperparameter search\n",
    "tuner.search(X_train_reshaped, y_train, epochs=200, validation_data=(X_test_reshaped, y_test))\n",
    "\n",
    "# Get the best model\n",
    "best_model = tuner.get_best_models(num_models=1)[0]\n",
    "\n",
    "# Make predictions on the test set\n",
    "y_pred = best_model.predict(X_test_reshaped)"
   ]
  },
  {
   "cell_type": "markdown",
   "metadata": {},
   "source": [
    "Below we will plot and find the MSE for the tuned model and see how well it does."
   ]
  },
  {
   "cell_type": "code",
   "execution_count": 54,
   "metadata": {},
   "outputs": [
    {
     "ename": "NameError",
     "evalue": "name 'y_test' is not defined",
     "output_type": "error",
     "traceback": [
      "\u001b[1;31m---------------------------------------------------------------------------\u001b[0m",
      "\u001b[1;31mNameError\u001b[0m                                 Traceback (most recent call last)",
      "Cell \u001b[1;32mIn[54], line 5\u001b[0m\n\u001b[0;32m      3\u001b[0m \u001b[38;5;66;03m# Predicting\u001b[39;00m\n\u001b[0;32m      4\u001b[0m plt\u001b[38;5;241m.\u001b[39mfigure(figsize\u001b[38;5;241m=\u001b[39m(\u001b[38;5;241m10\u001b[39m, \u001b[38;5;241m6\u001b[39m))\n\u001b[1;32m----> 5\u001b[0m plt\u001b[38;5;241m.\u001b[39mplot(\u001b[43my_test\u001b[49m, label\u001b[38;5;241m=\u001b[39m\u001b[38;5;124m'\u001b[39m\u001b[38;5;124mTrue Values\u001b[39m\u001b[38;5;124m'\u001b[39m)\n\u001b[0;32m      6\u001b[0m plt\u001b[38;5;241m.\u001b[39mplot(y_pred, label\u001b[38;5;241m=\u001b[39m\u001b[38;5;124m'\u001b[39m\u001b[38;5;124mPredicted Values\u001b[39m\u001b[38;5;124m'\u001b[39m)\n\u001b[0;32m      7\u001b[0m plt\u001b[38;5;241m.\u001b[39mtitle(\u001b[38;5;124m'\u001b[39m\u001b[38;5;124mComparison of Actual and Predicted Values\u001b[39m\u001b[38;5;124m'\u001b[39m)\n",
      "\u001b[1;31mNameError\u001b[0m: name 'y_test' is not defined"
     ]
    },
    {
     "data": {
      "text/plain": [
       "<Figure size 1000x600 with 0 Axes>"
      ]
     },
     "metadata": {},
     "output_type": "display_data"
    }
   ],
   "source": [
    "import matplotlib.pyplot as plt\n",
    "\n",
    "# Predicting\n",
    "plt.figure(figsize=(10, 6))\n",
    "plt.plot(y_test, label='True Values')\n",
    "plt.plot(y_pred, label='Predicted Values')\n",
    "plt.title('Comparison of Actual and Predicted Values')\n",
    "plt.legend()\n",
    "plt.show()"
   ]
  },
  {
   "cell_type": "code",
   "execution_count": 55,
   "metadata": {},
   "outputs": [
    {
     "ename": "NameError",
     "evalue": "name 'best_model' is not defined",
     "output_type": "error",
     "traceback": [
      "\u001b[1;31m---------------------------------------------------------------------------\u001b[0m",
      "\u001b[1;31mNameError\u001b[0m                                 Traceback (most recent call last)",
      "Cell \u001b[1;32mIn[55], line 1\u001b[0m\n\u001b[1;32m----> 1\u001b[0m test_loss \u001b[38;5;241m=\u001b[39m \u001b[43mbest_model\u001b[49m\u001b[38;5;241m.\u001b[39mevaluate(X_test_reshaped, y_test)\n\u001b[0;32m      2\u001b[0m \u001b[38;5;28mprint\u001b[39m(\u001b[38;5;124mf\u001b[39m\u001b[38;5;124m'\u001b[39m\u001b[38;5;124mTest Loss: \u001b[39m\u001b[38;5;132;01m{\u001b[39;00mtest_loss\u001b[38;5;132;01m}\u001b[39;00m\u001b[38;5;124m'\u001b[39m)\n",
      "\u001b[1;31mNameError\u001b[0m: name 'best_model' is not defined"
     ]
    }
   ],
   "source": [
    "test_loss = best_model.evaluate(X_test_reshaped, y_test)\n",
    "print(f'Test Loss: {test_loss}')"
   ]
  },
  {
   "cell_type": "markdown",
   "metadata": {},
   "source": [
    "### VNN Result Explanation \n",
    "The Vanilla Neural Network (VNN) used in this project is a feedforward neural network architecture comprising input, hidden, and output layers. In the initial model configuration, two hidden layers with 50 neurons each and ReLU activation functions are employed, along with dropout layers to mitigate overfitting. This architecture is well-suited for financial forecasting tasks due to its ability to capture complex non-linear relationships present in the data. The mean squared error (MSE) of 0.0062643010169267654 obtained from the initial model reflects its initial performance.\n",
    "\n",
    "However, through hyperparameter tuning using techniques like Random Search, we fine-tune the model's parameters such as the number of neurons in the layers, learning rate, and momentum. This optimization process aims to identify the optimal configuration that minimizes the validation loss, resulting in improved model performance. As a result of hyperparameter tuning, the mean squared error decreases significantly to 0.0012310747988522053. This reduction in MSE signifies that the hypertuned model is better able to capture the underlying patterns in the financial data, leading to more accurate predictions of firm earnings."
   ]
  },
  {
   "cell_type": "markdown",
   "metadata": {},
   "source": []
  },
  {
   "cell_type": "markdown",
   "metadata": {},
   "source": [
    "## Why this model for this problem\n",
    "Support Vector Machines (SVMs) offer a compelling approach for forecasting future firm earnings based on financial data due to their robustness in handling high-dimensional datasets and ability to capture complex relationships between features. In financial forecasting, where datasets often contain numerous predictors and intricate patterns, SVMs excel at identifying the optimal decision boundary that separates different market regimes or states, thereby enabling accurate prediction of earnings trends. Additionally, SVMs can effectively handle both linear and non-linear relationships through the use of appropriate kernel functions, making them versatile for capturing the nuanced dynamics of financial markets. Their ability to generalize well to unseen data further enhances their utility in this context, as it ensures reliable predictions even in the face of changing market conditions."
   ]
  },
  {
   "cell_type": "markdown",
   "metadata": {},
   "source": [
    "## Model Architecture\n",
    "SVM aims to find the optimal hyperplane that separates data classes while maximizing margin. It utilizes support vectors and kernel functions to handle non-linear relationships efficiently. Regularization prevents overfitting, and the decision function assigns new data points to classes based on their position relative to the hyperplane."
   ]
  },
  {
   "cell_type": "code",
   "execution_count": 56,
   "metadata": {},
   "outputs": [
    {
     "ename": "NameError",
     "evalue": "name 'X_train_reshaped' is not defined",
     "output_type": "error",
     "traceback": [
      "\u001b[1;31m---------------------------------------------------------------------------\u001b[0m",
      "\u001b[1;31mNameError\u001b[0m                                 Traceback (most recent call last)",
      "Cell \u001b[1;32mIn[56], line 7\u001b[0m\n\u001b[0;32m      4\u001b[0m svr \u001b[38;5;241m=\u001b[39m SVR(kernel\u001b[38;5;241m=\u001b[39m\u001b[38;5;124m'\u001b[39m\u001b[38;5;124mrbf\u001b[39m\u001b[38;5;124m'\u001b[39m, C\u001b[38;5;241m=\u001b[39m\u001b[38;5;241m1.0\u001b[39m, epsilon\u001b[38;5;241m=\u001b[39m\u001b[38;5;241m0.2\u001b[39m)\n\u001b[0;32m      6\u001b[0m \u001b[38;5;66;03m# Train the model\u001b[39;00m\n\u001b[1;32m----> 7\u001b[0m svr\u001b[38;5;241m.\u001b[39mfit(\u001b[43mX_train_reshaped\u001b[49m, y_train)\n\u001b[0;32m      9\u001b[0m \u001b[38;5;66;03m# Make predictions on the test set\u001b[39;00m\n\u001b[0;32m     10\u001b[0m y_pred \u001b[38;5;241m=\u001b[39m svr\u001b[38;5;241m.\u001b[39mpredict(X_test_reshaped)\n",
      "\u001b[1;31mNameError\u001b[0m: name 'X_train_reshaped' is not defined"
     ]
    }
   ],
   "source": [
    "from sklearn.svm import SVR\n",
    "\n",
    "# Create a Support Vector Regressor\n",
    "svr = SVR(kernel='rbf', C=1.0, epsilon=0.2)\n",
    "\n",
    "# Train the model\n",
    "svr.fit(X_train_reshaped, y_train)\n",
    "\n",
    "# Make predictions on the test set\n",
    "y_pred = svr.predict(X_test_reshaped)"
   ]
  },
  {
   "cell_type": "markdown",
   "metadata": {},
   "source": [
    "We'd like to plot this data against the original test values to get a visual representation of how it performed."
   ]
  },
  {
   "cell_type": "code",
   "execution_count": 57,
   "metadata": {},
   "outputs": [
    {
     "ename": "NameError",
     "evalue": "name 'X_test_reshaped' is not defined",
     "output_type": "error",
     "traceback": [
      "\u001b[1;31m---------------------------------------------------------------------------\u001b[0m",
      "\u001b[1;31mNameError\u001b[0m                                 Traceback (most recent call last)",
      "Cell \u001b[1;32mIn[57], line 4\u001b[0m\n\u001b[0;32m      1\u001b[0m \u001b[38;5;28;01mimport\u001b[39;00m \u001b[38;5;21;01mmatplotlib\u001b[39;00m\u001b[38;5;21;01m.\u001b[39;00m\u001b[38;5;21;01mpyplot\u001b[39;00m \u001b[38;5;28;01mas\u001b[39;00m \u001b[38;5;21;01mplt\u001b[39;00m\n\u001b[0;32m      3\u001b[0m \u001b[38;5;66;03m# Predicting\u001b[39;00m\n\u001b[1;32m----> 4\u001b[0m predicted_values \u001b[38;5;241m=\u001b[39m svr\u001b[38;5;241m.\u001b[39mpredict(\u001b[43mX_test_reshaped\u001b[49m)\n\u001b[0;32m      5\u001b[0m plt\u001b[38;5;241m.\u001b[39mfigure(figsize\u001b[38;5;241m=\u001b[39m(\u001b[38;5;241m10\u001b[39m, \u001b[38;5;241m6\u001b[39m))\n\u001b[0;32m      6\u001b[0m plt\u001b[38;5;241m.\u001b[39mplot(y_test, label\u001b[38;5;241m=\u001b[39m\u001b[38;5;124m'\u001b[39m\u001b[38;5;124mTrue Values\u001b[39m\u001b[38;5;124m'\u001b[39m)\n",
      "\u001b[1;31mNameError\u001b[0m: name 'X_test_reshaped' is not defined"
     ]
    }
   ],
   "source": [
    "import matplotlib.pyplot as plt\n",
    "\n",
    "# Predicting\n",
    "predicted_values = svr.predict(X_test_reshaped)\n",
    "plt.figure(figsize=(10, 6))\n",
    "plt.plot(y_test, label='True Values')\n",
    "plt.plot(predicted_values, label='Predicted Values')\n",
    "plt.title('Comparison of Actual and Predicted Values')\n",
    "plt.legend()\n",
    "plt.show()"
   ]
  },
  {
   "cell_type": "markdown",
   "metadata": {},
   "source": [
    "### Evaluating the model\n",
    "We would like to use the Mean squared Error to evaluate this model and better compare it to the other models."
   ]
  },
  {
   "cell_type": "code",
   "execution_count": 58,
   "metadata": {},
   "outputs": [
    {
     "ename": "NameError",
     "evalue": "name 'X_test_reshaped' is not defined",
     "output_type": "error",
     "traceback": [
      "\u001b[1;31m---------------------------------------------------------------------------\u001b[0m",
      "\u001b[1;31mNameError\u001b[0m                                 Traceback (most recent call last)",
      "Cell \u001b[1;32mIn[58], line 3\u001b[0m\n\u001b[0;32m      1\u001b[0m \u001b[38;5;28;01mfrom\u001b[39;00m \u001b[38;5;21;01msklearn\u001b[39;00m\u001b[38;5;21;01m.\u001b[39;00m\u001b[38;5;21;01mmetrics\u001b[39;00m \u001b[38;5;28;01mimport\u001b[39;00m mean_squared_error\n\u001b[0;32m      2\u001b[0m \u001b[38;5;66;03m# Make predictions on the test set\u001b[39;00m\n\u001b[1;32m----> 3\u001b[0m y_pred \u001b[38;5;241m=\u001b[39m svr\u001b[38;5;241m.\u001b[39mpredict(\u001b[43mX_test_reshaped\u001b[49m)\n\u001b[0;32m      4\u001b[0m \u001b[38;5;66;03m# Calculate the mean squared error\u001b[39;00m\n\u001b[0;32m      5\u001b[0m mse \u001b[38;5;241m=\u001b[39m mean_squared_error(y_test, y_pred)\n",
      "\u001b[1;31mNameError\u001b[0m: name 'X_test_reshaped' is not defined"
     ]
    }
   ],
   "source": [
    "from sklearn.metrics import mean_squared_error\n",
    "# Make predictions on the test set\n",
    "y_pred = svr.predict(X_test_reshaped)\n",
    "# Calculate the mean squared error\n",
    "mse = mean_squared_error(y_test, y_pred)\n",
    "print(\"Mean Squared Error: \", mse)"
   ]
  },
  {
   "cell_type": "markdown",
   "metadata": {},
   "source": [
    "### Hypertuning Parameters\n",
    "We'd like to make this model more robust and ensure that the parameters are well suited for this specific usecase. We will use GridSearchCV to hypertune the parameters inorder to get a better prediction"
   ]
  },
  {
   "cell_type": "code",
   "execution_count": 59,
   "metadata": {},
   "outputs": [
    {
     "ename": "NameError",
     "evalue": "name 'X_train_reshaped' is not defined",
     "output_type": "error",
     "traceback": [
      "\u001b[1;31m---------------------------------------------------------------------------\u001b[0m",
      "\u001b[1;31mNameError\u001b[0m                                 Traceback (most recent call last)",
      "Cell \u001b[1;32mIn[59], line 17\u001b[0m\n\u001b[0;32m     14\u001b[0m grid_search \u001b[38;5;241m=\u001b[39m GridSearchCV(svr, param_grid, cv\u001b[38;5;241m=\u001b[39m\u001b[38;5;241m5\u001b[39m, scoring\u001b[38;5;241m=\u001b[39m\u001b[38;5;124m'\u001b[39m\u001b[38;5;124mneg_mean_squared_error\u001b[39m\u001b[38;5;124m'\u001b[39m)\n\u001b[0;32m     16\u001b[0m \u001b[38;5;66;03m# Fit the model\u001b[39;00m\n\u001b[1;32m---> 17\u001b[0m grid_search\u001b[38;5;241m.\u001b[39mfit(\u001b[43mX_train_reshaped\u001b[49m, y_train)\n\u001b[0;32m     19\u001b[0m \u001b[38;5;66;03m# Get the best parameters\u001b[39;00m\n\u001b[0;32m     20\u001b[0m best_params \u001b[38;5;241m=\u001b[39m grid_search\u001b[38;5;241m.\u001b[39mbest_params_\n",
      "\u001b[1;31mNameError\u001b[0m: name 'X_train_reshaped' is not defined"
     ]
    }
   ],
   "source": [
    "from sklearn.model_selection import GridSearchCV\n",
    "\n",
    "# Define the parameter grid\n",
    "param_grid = {\n",
    "    'C': [0.1, 1, 10, 100],\n",
    "    'epsilon': [0.1, 0.2, 0.3, 0.4, 0.5],\n",
    "    'kernel': ['rbf', 'linear', 'poly']\n",
    "}\n",
    "\n",
    "# Create a Support Vector Regressor\n",
    "svr = SVR()\n",
    "\n",
    "# Create GridSearchCV object\n",
    "grid_search = GridSearchCV(svr, param_grid, cv=5, scoring='neg_mean_squared_error')\n",
    "\n",
    "# Fit the model\n",
    "grid_search.fit(X_train_reshaped, y_train)\n",
    "\n",
    "# Get the best parameters\n",
    "best_params = grid_search.best_params_\n",
    "\n",
    "print(\"Best parameters: \", best_params)\n",
    "\n",
    "# Train the model with the best parameters\n",
    "svr_best = SVR(**best_params)\n",
    "svr_best.fit(X_train_reshaped, y_train)\n",
    "\n",
    "# Make predictions on the test set\n",
    "y_pred = svr_best.predict(X_test_reshaped)"
   ]
  },
  {
   "cell_type": "code",
   "execution_count": 60,
   "metadata": {},
   "outputs": [
    {
     "ename": "NameError",
     "evalue": "name 'svr_best' is not defined",
     "output_type": "error",
     "traceback": [
      "\u001b[1;31m---------------------------------------------------------------------------\u001b[0m",
      "\u001b[1;31mNameError\u001b[0m                                 Traceback (most recent call last)",
      "Cell \u001b[1;32mIn[60], line 4\u001b[0m\n\u001b[0;32m      1\u001b[0m \u001b[38;5;28;01mimport\u001b[39;00m \u001b[38;5;21;01mmatplotlib\u001b[39;00m\u001b[38;5;21;01m.\u001b[39;00m\u001b[38;5;21;01mpyplot\u001b[39;00m \u001b[38;5;28;01mas\u001b[39;00m \u001b[38;5;21;01mplt\u001b[39;00m\n\u001b[0;32m      3\u001b[0m \u001b[38;5;66;03m# Predicting\u001b[39;00m\n\u001b[1;32m----> 4\u001b[0m predicted_values \u001b[38;5;241m=\u001b[39m \u001b[43msvr_best\u001b[49m\u001b[38;5;241m.\u001b[39mpredict(X_test_reshaped)\n\u001b[0;32m      5\u001b[0m plt\u001b[38;5;241m.\u001b[39mfigure(figsize\u001b[38;5;241m=\u001b[39m(\u001b[38;5;241m10\u001b[39m, \u001b[38;5;241m6\u001b[39m))\n\u001b[0;32m      6\u001b[0m plt\u001b[38;5;241m.\u001b[39mplot(y_test, label\u001b[38;5;241m=\u001b[39m\u001b[38;5;124m'\u001b[39m\u001b[38;5;124mTrue Values\u001b[39m\u001b[38;5;124m'\u001b[39m)\n",
      "\u001b[1;31mNameError\u001b[0m: name 'svr_best' is not defined"
     ]
    }
   ],
   "source": [
    "import matplotlib.pyplot as plt\n",
    "\n",
    "# Predicting\n",
    "predicted_values = svr_best.predict(X_test_reshaped)\n",
    "plt.figure(figsize=(10, 6))\n",
    "plt.plot(y_test, label='True Values')\n",
    "plt.plot(predicted_values, label='Predicted Values')\n",
    "plt.title('Comparison of Actual and Predicted Values')\n",
    "plt.legend()\n",
    "plt.show()"
   ]
  },
  {
   "cell_type": "code",
   "execution_count": 61,
   "metadata": {},
   "outputs": [
    {
     "ename": "NameError",
     "evalue": "name 'svr_best' is not defined",
     "output_type": "error",
     "traceback": [
      "\u001b[1;31m---------------------------------------------------------------------------\u001b[0m",
      "\u001b[1;31mNameError\u001b[0m                                 Traceback (most recent call last)",
      "Cell \u001b[1;32mIn[61], line 3\u001b[0m\n\u001b[0;32m      1\u001b[0m \u001b[38;5;28;01mfrom\u001b[39;00m \u001b[38;5;21;01msklearn\u001b[39;00m\u001b[38;5;21;01m.\u001b[39;00m\u001b[38;5;21;01mmetrics\u001b[39;00m \u001b[38;5;28;01mimport\u001b[39;00m mean_squared_error\n\u001b[0;32m      2\u001b[0m \u001b[38;5;66;03m# Make predictions on the test set\u001b[39;00m\n\u001b[1;32m----> 3\u001b[0m y_pred \u001b[38;5;241m=\u001b[39m \u001b[43msvr_best\u001b[49m\u001b[38;5;241m.\u001b[39mpredict(X_test_reshaped)\n\u001b[0;32m      4\u001b[0m \u001b[38;5;66;03m# Calculate the mean squared error\u001b[39;00m\n\u001b[0;32m      5\u001b[0m mse \u001b[38;5;241m=\u001b[39m mean_squared_error(y_test, y_pred)\n",
      "\u001b[1;31mNameError\u001b[0m: name 'svr_best' is not defined"
     ]
    }
   ],
   "source": [
    "from sklearn.metrics import mean_squared_error\n",
    "# Make predictions on the test set\n",
    "y_pred = svr_best.predict(X_test_reshaped)\n",
    "# Calculate the mean squared error\n",
    "mse = mean_squared_error(y_test, y_pred)\n",
    "print(\"Mean Squared Error: \", mse)"
   ]
  },
  {
   "cell_type": "markdown",
   "metadata": {},
   "source": [
    "### SVM Result Explanation\n",
    "The SVM branch with parameters {'C': 0.1, 'epsilon': 0.1, 'kernel': 'poly'} likely performed well due to its choice of parameters tailored to the problem. A polynomial kernel might have effectively captured the non-linear relationships in the data, while a smaller regularization parameter (C) and epsilon might have helped in achieving a smoother fit with lesser error. Conversely, SVM with {'kernel': 'rbf', 'C': 1.0, 'epsilon': 0.2} exhibited higher Mean Squared Error (MSE), potentially due to overfitting or less suitable parameter choices for the data, particularly with the radial basis function kernel, which might have been sensitive to the given C and epsilon values. Overall the SVM performed well due to its ability to effectively handle complex relationships in the financial data and generalize well to unseen data."
   ]
  },
  {
   "cell_type": "markdown",
   "metadata": {},
   "source": [
    "### Why this model for this problem\n",
    "The reason why Random Forest is effective for this project, which involves predicting the estimated Earnings Per Share (EPS), includes:\n",
    "\n",
    "Overfitting Prevention: Random Forest helps to prevent overfitting, a common problem in machine learning where a model performs well on training data but poorly on unseen data. This is achieved by averaging the predictions from multiple decision trees.\n",
    "\n",
    "Handling High Dimensionality: Random Forest can effectively handle datasets with a large number of features. It does this by randomly selecting a subset of features at each node when building the trees.\n",
    "\n",
    "Interpretability: Random Forest provides a measure of feature importance, which can help in understanding which features are most influential in predicting the EPS.\n",
    "\n",
    "Non-linearity: Financial data often exhibit non-linear relationships. Random Forest does not make any assumptions about the underlying relationships between features and the target variable, making it a suitable choice for this project.\n",
    "\n",
    "Robustness to Outliers: Random Forest is less sensitive to outliers in the data. This is particularly useful in financial data, which can often contain outliers due to sudden market changes."
   ]
  },
  {
   "cell_type": "markdown",
   "metadata": {},
   "source": [
    "### Reshaping data\n",
    "X_train.reshape(X_train.shape[0], -1) and X_test_reshaped = X_test.reshape(X_test.shape[0], -1) reshapes X_train into a two-dimensional array where the number of rows is the same as in the original X_train array, and the number of columns is such that the total number of elements in the array remains the same. This is to fine tune the data so it can be inputted into the RandomForestRegressor."
   ]
  },
  {
   "cell_type": "code",
   "execution_count": 62,
   "metadata": {},
   "outputs": [
    {
     "ename": "NameError",
     "evalue": "name 'X_train' is not defined",
     "output_type": "error",
     "traceback": [
      "\u001b[1;31m---------------------------------------------------------------------------\u001b[0m",
      "\u001b[1;31mNameError\u001b[0m                                 Traceback (most recent call last)",
      "Cell \u001b[1;32mIn[62], line 9\u001b[0m\n\u001b[0;32m      5\u001b[0m rf \u001b[38;5;241m=\u001b[39m RandomForestRegressor(n_estimators\u001b[38;5;241m=\u001b[39m\u001b[38;5;241m200\u001b[39m, random_state\u001b[38;5;241m=\u001b[39m\u001b[38;5;241m0\u001b[39m)\n\u001b[0;32m      7\u001b[0m \u001b[38;5;66;03m# Train the model\u001b[39;00m\n\u001b[0;32m      8\u001b[0m \u001b[38;5;66;03m# Reshape the input data\u001b[39;00m\n\u001b[1;32m----> 9\u001b[0m X_train_reshaped \u001b[38;5;241m=\u001b[39m \u001b[43mX_train\u001b[49m\u001b[38;5;241m.\u001b[39mreshape(X_train\u001b[38;5;241m.\u001b[39mshape[\u001b[38;5;241m0\u001b[39m], \u001b[38;5;241m-\u001b[39m\u001b[38;5;241m1\u001b[39m)\n\u001b[0;32m     10\u001b[0m X_test_reshaped \u001b[38;5;241m=\u001b[39m X_test\u001b[38;5;241m.\u001b[39mreshape(X_test\u001b[38;5;241m.\u001b[39mshape[\u001b[38;5;241m0\u001b[39m], \u001b[38;5;241m-\u001b[39m\u001b[38;5;241m1\u001b[39m)\n\u001b[0;32m     12\u001b[0m \u001b[38;5;66;03m# Train the model\u001b[39;00m\n",
      "\u001b[1;31mNameError\u001b[0m: name 'X_train' is not defined"
     ]
    }
   ],
   "source": [
    "from sklearn.ensemble import RandomForestRegressor\n",
    "from sklearn.metrics import mean_squared_error\n",
    "\n",
    "# Create a Random Forest Regressor\n",
    "rf = RandomForestRegressor(n_estimators=200, random_state=0)\n",
    "\n",
    "# Train the model\n",
    "# Reshape the input data\n",
    "X_train_reshaped = X_train.reshape(X_train.shape[0], -1)\n",
    "X_test_reshaped = X_test.reshape(X_test.shape[0], -1)\n",
    "\n",
    "# Train the model\n",
    "rf.fit(X_train_reshaped, y_train)\n",
    "\n",
    "# Make predictions on the test set\n",
    "y_pred = rf.predict(X_test_reshaped)"
   ]
  },
  {
   "cell_type": "markdown",
   "metadata": {},
   "source": [
    "We'd like to plot this data against the original test values to get a visual representation of how it performed."
   ]
  },
  {
   "cell_type": "code",
   "execution_count": 63,
   "metadata": {},
   "outputs": [
    {
     "ename": "NameError",
     "evalue": "name 'X_test_reshaped' is not defined",
     "output_type": "error",
     "traceback": [
      "\u001b[1;31m---------------------------------------------------------------------------\u001b[0m",
      "\u001b[1;31mNameError\u001b[0m                                 Traceback (most recent call last)",
      "Cell \u001b[1;32mIn[63], line 4\u001b[0m\n\u001b[0;32m      1\u001b[0m \u001b[38;5;28;01mimport\u001b[39;00m \u001b[38;5;21;01mmatplotlib\u001b[39;00m\u001b[38;5;21;01m.\u001b[39;00m\u001b[38;5;21;01mpyplot\u001b[39;00m \u001b[38;5;28;01mas\u001b[39;00m \u001b[38;5;21;01mplt\u001b[39;00m\n\u001b[0;32m      3\u001b[0m \u001b[38;5;66;03m# Predicting\u001b[39;00m\n\u001b[1;32m----> 4\u001b[0m predicted_values \u001b[38;5;241m=\u001b[39m rf\u001b[38;5;241m.\u001b[39mpredict(\u001b[43mX_test_reshaped\u001b[49m)\n\u001b[0;32m      5\u001b[0m plt\u001b[38;5;241m.\u001b[39mfigure(figsize\u001b[38;5;241m=\u001b[39m(\u001b[38;5;241m10\u001b[39m, \u001b[38;5;241m6\u001b[39m))\n\u001b[0;32m      6\u001b[0m plt\u001b[38;5;241m.\u001b[39mplot(y_test, label\u001b[38;5;241m=\u001b[39m\u001b[38;5;124m'\u001b[39m\u001b[38;5;124mTrue Values\u001b[39m\u001b[38;5;124m'\u001b[39m)\n",
      "\u001b[1;31mNameError\u001b[0m: name 'X_test_reshaped' is not defined"
     ]
    }
   ],
   "source": [
    "import matplotlib.pyplot as plt\n",
    "\n",
    "# Predicting\n",
    "predicted_values = rf.predict(X_test_reshaped)\n",
    "plt.figure(figsize=(10, 6))\n",
    "plt.plot(y_test, label='True Values')\n",
    "plt.plot(predicted_values, label='Predicted Values')\n",
    "plt.title('Comparison of Actual and Predicted Values')\n",
    "plt.legend()\n",
    "plt.show()"
   ]
  },
  {
   "cell_type": "markdown",
   "metadata": {},
   "source": [
    "### Evaluating the model\n",
    "Mean Squared Error (MSE) is ideal for evaluating the Random Forest model in forecasting firm earnings because it penalizes larger errors, enhancing prediction accuracy. Its mathematical properties facilitate optimization and interpretation, while providing a consistent, standard metric for comparing model performance. MSE aligns well with the project's goal of minimizing forecast errors."
   ]
  },
  {
   "cell_type": "code",
   "execution_count": 64,
   "metadata": {},
   "outputs": [
    {
     "ename": "NameError",
     "evalue": "name 'X_test_reshaped' is not defined",
     "output_type": "error",
     "traceback": [
      "\u001b[1;31m---------------------------------------------------------------------------\u001b[0m",
      "\u001b[1;31mNameError\u001b[0m                                 Traceback (most recent call last)",
      "Cell \u001b[1;32mIn[64], line 3\u001b[0m\n\u001b[0;32m      1\u001b[0m \u001b[38;5;28;01mfrom\u001b[39;00m \u001b[38;5;21;01msklearn\u001b[39;00m\u001b[38;5;21;01m.\u001b[39;00m\u001b[38;5;21;01mmetrics\u001b[39;00m \u001b[38;5;28;01mimport\u001b[39;00m mean_squared_error\n\u001b[1;32m----> 3\u001b[0m y_pred \u001b[38;5;241m=\u001b[39m rf\u001b[38;5;241m.\u001b[39mpredict(\u001b[43mX_test_reshaped\u001b[49m)\n\u001b[0;32m      4\u001b[0m test_loss \u001b[38;5;241m=\u001b[39m mean_squared_error(y_test, y_pred)\n\u001b[0;32m      5\u001b[0m \u001b[38;5;28mprint\u001b[39m(\u001b[38;5;124mf\u001b[39m\u001b[38;5;124m'\u001b[39m\u001b[38;5;124mTest Loss: \u001b[39m\u001b[38;5;132;01m{\u001b[39;00mtest_loss\u001b[38;5;132;01m}\u001b[39;00m\u001b[38;5;124m'\u001b[39m)\n",
      "\u001b[1;31mNameError\u001b[0m: name 'X_test_reshaped' is not defined"
     ]
    }
   ],
   "source": [
    "from sklearn.metrics import mean_squared_error\n",
    "\n",
    "y_pred = rf.predict(X_test_reshaped)\n",
    "test_loss = mean_squared_error(y_test, y_pred)\n",
    "print(f'Test Loss: {test_loss}')"
   ]
  },
  {
   "cell_type": "markdown",
   "metadata": {},
   "source": [
    "### Hypertuning Parameters\n",
    "We'd like to try hypertuning the parameters to the original random forest regressor to try to get better results than the previous model. To do this we'd use GridSearchCV."
   ]
  },
  {
   "cell_type": "code",
   "execution_count": 65,
   "metadata": {},
   "outputs": [
    {
     "ename": "NameError",
     "evalue": "name 'X_train_reshaped' is not defined",
     "output_type": "error",
     "traceback": [
      "\u001b[1;31m---------------------------------------------------------------------------\u001b[0m",
      "\u001b[1;31mNameError\u001b[0m                                 Traceback (most recent call last)",
      "Cell \u001b[1;32mIn[65], line 20\u001b[0m\n\u001b[0;32m     16\u001b[0m grid_search \u001b[38;5;241m=\u001b[39m GridSearchCV(estimator\u001b[38;5;241m=\u001b[39mrf, param_grid\u001b[38;5;241m=\u001b[39mparam_grid, \n\u001b[0;32m     17\u001b[0m                            cv\u001b[38;5;241m=\u001b[39m\u001b[38;5;241m3\u001b[39m, n_jobs\u001b[38;5;241m=\u001b[39m\u001b[38;5;241m-\u001b[39m\u001b[38;5;241m1\u001b[39m, verbose\u001b[38;5;241m=\u001b[39m\u001b[38;5;241m2\u001b[39m)\n\u001b[0;32m     19\u001b[0m \u001b[38;5;66;03m# Fit the grid search to the data\u001b[39;00m\n\u001b[1;32m---> 20\u001b[0m grid_search\u001b[38;5;241m.\u001b[39mfit(\u001b[43mX_train_reshaped\u001b[49m, y_train)\n\u001b[0;32m     22\u001b[0m \u001b[38;5;66;03m# Get the best parameters\u001b[39;00m\n\u001b[0;32m     23\u001b[0m best_params \u001b[38;5;241m=\u001b[39m grid_search\u001b[38;5;241m.\u001b[39mbest_params_\n",
      "\u001b[1;31mNameError\u001b[0m: name 'X_train_reshaped' is not defined"
     ]
    }
   ],
   "source": [
    "from sklearn.model_selection import GridSearchCV\n",
    "\n",
    "# Define the parameter grid\n",
    "param_grid = {\n",
    "    'n_estimators': [100, 200, 300, 400],\n",
    "    'max_depth': [None, 10, 20, 30],\n",
    "    'min_samples_split': [2, 5, 10],\n",
    "    'min_samples_leaf': [1, 2, 4],\n",
    "    'bootstrap': [True, False]\n",
    "}\n",
    "\n",
    "# Create a base model\n",
    "rf = RandomForestRegressor(random_state=0)\n",
    "\n",
    "# Instantiate the grid search model\n",
    "grid_search = GridSearchCV(estimator=rf, param_grid=param_grid, \n",
    "                           cv=3, n_jobs=-1, verbose=2)\n",
    "\n",
    "# Fit the grid search to the data\n",
    "grid_search.fit(X_train_reshaped, y_train)\n",
    "\n",
    "# Get the best parameters\n",
    "best_params = grid_search.best_params_\n",
    "\n",
    "# Train the model using the best parameters\n",
    "rf_best = RandomForestRegressor(**best_params, random_state=0)\n",
    "rf_best.fit(X_train_reshaped, y_train)\n",
    "\n",
    "# Make predictions on the test set using the new model\n",
    "y_pred = rf_best.predict(X_test_reshaped)"
   ]
  },
  {
   "cell_type": "markdown",
   "metadata": {},
   "source": [
    "Below are the best found parameters and we will use them to train our rf_best model"
   ]
  },
  {
   "cell_type": "code",
   "execution_count": 66,
   "metadata": {},
   "outputs": [
    {
     "ename": "NameError",
     "evalue": "name 'best_params' is not defined",
     "output_type": "error",
     "traceback": [
      "\u001b[1;31m---------------------------------------------------------------------------\u001b[0m",
      "\u001b[1;31mNameError\u001b[0m                                 Traceback (most recent call last)",
      "Cell \u001b[1;32mIn[66], line 2\u001b[0m\n\u001b[0;32m      1\u001b[0m \u001b[38;5;66;03m# Train the model using the best parameters\u001b[39;00m\n\u001b[1;32m----> 2\u001b[0m rf_best \u001b[38;5;241m=\u001b[39m RandomForestRegressor(\u001b[38;5;241m*\u001b[39m\u001b[38;5;241m*\u001b[39m\u001b[43mbest_params\u001b[49m, random_state\u001b[38;5;241m=\u001b[39m\u001b[38;5;241m0\u001b[39m)\n\u001b[0;32m      3\u001b[0m rf_best\u001b[38;5;241m.\u001b[39mfit(X_train_reshaped, y_train)\n\u001b[0;32m      4\u001b[0m best_params\n",
      "\u001b[1;31mNameError\u001b[0m: name 'best_params' is not defined"
     ]
    }
   ],
   "source": [
    "# Train the model using the best parameters\n",
    "rf_best = RandomForestRegressor(**best_params, random_state=0)\n",
    "rf_best.fit(X_train_reshaped, y_train)\n",
    "best_params"
   ]
  },
  {
   "cell_type": "code",
   "execution_count": 67,
   "metadata": {},
   "outputs": [
    {
     "ename": "NameError",
     "evalue": "name 'rf_best' is not defined",
     "output_type": "error",
     "traceback": [
      "\u001b[1;31m---------------------------------------------------------------------------\u001b[0m",
      "\u001b[1;31mNameError\u001b[0m                                 Traceback (most recent call last)",
      "Cell \u001b[1;32mIn[67], line 2\u001b[0m\n\u001b[0;32m      1\u001b[0m \u001b[38;5;66;03m# Make predictions on the test set using the new model\u001b[39;00m\n\u001b[1;32m----> 2\u001b[0m y_pred \u001b[38;5;241m=\u001b[39m \u001b[43mrf_best\u001b[49m\u001b[38;5;241m.\u001b[39mpredict(X_test_reshaped)\n",
      "\u001b[1;31mNameError\u001b[0m: name 'rf_best' is not defined"
     ]
    }
   ],
   "source": [
    "# Make predictions on the test set using the new model\n",
    "y_pred = rf_best.predict(X_test_reshaped)"
   ]
  },
  {
   "cell_type": "code",
   "execution_count": 68,
   "metadata": {},
   "outputs": [
    {
     "ename": "NameError",
     "evalue": "name 'y_test' is not defined",
     "output_type": "error",
     "traceback": [
      "\u001b[1;31m---------------------------------------------------------------------------\u001b[0m",
      "\u001b[1;31mNameError\u001b[0m                                 Traceback (most recent call last)",
      "Cell \u001b[1;32mIn[68], line 3\u001b[0m\n\u001b[0;32m      1\u001b[0m \u001b[38;5;28;01mimport\u001b[39;00m \u001b[38;5;21;01mmatplotlib\u001b[39;00m\u001b[38;5;21;01m.\u001b[39;00m\u001b[38;5;21;01mpyplot\u001b[39;00m \u001b[38;5;28;01mas\u001b[39;00m \u001b[38;5;21;01mplt\u001b[39;00m\n\u001b[0;32m      2\u001b[0m plt\u001b[38;5;241m.\u001b[39mfigure(figsize\u001b[38;5;241m=\u001b[39m(\u001b[38;5;241m10\u001b[39m, \u001b[38;5;241m6\u001b[39m))\n\u001b[1;32m----> 3\u001b[0m plt\u001b[38;5;241m.\u001b[39mplot(\u001b[43my_test\u001b[49m, label\u001b[38;5;241m=\u001b[39m\u001b[38;5;124m'\u001b[39m\u001b[38;5;124mTrue Values\u001b[39m\u001b[38;5;124m'\u001b[39m)\n\u001b[0;32m      4\u001b[0m plt\u001b[38;5;241m.\u001b[39mplot(y_pred, label\u001b[38;5;241m=\u001b[39m\u001b[38;5;124m'\u001b[39m\u001b[38;5;124mPredicted Values\u001b[39m\u001b[38;5;124m'\u001b[39m)\n\u001b[0;32m      5\u001b[0m plt\u001b[38;5;241m.\u001b[39mtitle(\u001b[38;5;124m'\u001b[39m\u001b[38;5;124mComparison of Actual and Predicted Values\u001b[39m\u001b[38;5;124m'\u001b[39m)\n",
      "\u001b[1;31mNameError\u001b[0m: name 'y_test' is not defined"
     ]
    },
    {
     "data": {
      "text/plain": [
       "<Figure size 1000x600 with 0 Axes>"
      ]
     },
     "metadata": {},
     "output_type": "display_data"
    }
   ],
   "source": [
    "import matplotlib.pyplot as plt\n",
    "plt.figure(figsize=(10, 6))\n",
    "plt.plot(y_test, label='True Values')\n",
    "plt.plot(y_pred, label='Predicted Values')\n",
    "plt.title('Comparison of Actual and Predicted Values')\n",
    "plt.legend()\n",
    "plt.show()"
   ]
  },
  {
   "cell_type": "code",
   "execution_count": 69,
   "metadata": {},
   "outputs": [
    {
     "ename": "NameError",
     "evalue": "name 'rf_best' is not defined",
     "output_type": "error",
     "traceback": [
      "\u001b[1;31m---------------------------------------------------------------------------\u001b[0m",
      "\u001b[1;31mNameError\u001b[0m                                 Traceback (most recent call last)",
      "Cell \u001b[1;32mIn[69], line 2\u001b[0m\n\u001b[0;32m      1\u001b[0m \u001b[38;5;28;01mfrom\u001b[39;00m \u001b[38;5;21;01msklearn\u001b[39;00m\u001b[38;5;21;01m.\u001b[39;00m\u001b[38;5;21;01mmetrics\u001b[39;00m \u001b[38;5;28;01mimport\u001b[39;00m mean_squared_error\n\u001b[1;32m----> 2\u001b[0m y_pred \u001b[38;5;241m=\u001b[39m \u001b[43mrf_best\u001b[49m\u001b[38;5;241m.\u001b[39mpredict(X_test_reshaped)\n\u001b[0;32m      3\u001b[0m test_loss \u001b[38;5;241m=\u001b[39m mean_squared_error(y_test, y_pred)\n\u001b[0;32m      4\u001b[0m \u001b[38;5;28mprint\u001b[39m(\u001b[38;5;124mf\u001b[39m\u001b[38;5;124m'\u001b[39m\u001b[38;5;124mTest Loss: \u001b[39m\u001b[38;5;132;01m{\u001b[39;00mtest_loss\u001b[38;5;132;01m}\u001b[39;00m\u001b[38;5;124m'\u001b[39m)\n",
      "\u001b[1;31mNameError\u001b[0m: name 'rf_best' is not defined"
     ]
    }
   ],
   "source": [
    "from sklearn.metrics import mean_squared_error\n",
    "y_pred = rf_best.predict(X_test_reshaped)\n",
    "test_loss = mean_squared_error(y_test, y_pred)\n",
    "print(f'Test Loss: {test_loss}')"
   ]
  },
  {
   "cell_type": "markdown",
   "metadata": {},
   "source": [
    "### Random Forest Result Explanation\n",
    "The Random Forest model may underperform compared to RNNs and XGBoost in this project due to its limited ability to capture temporal dependencies and sequential patterns inherent in financial data. While Random Forests are robust for general prediction tasks, they lack the capability of RNNs to model time series data effectively. Additionally, XGBoost's ability to handle complex feature interactions and non-stationarity in financial metrics provides a significant edge. The averaging nature of Random Forests can also dilute subtle but crucial patterns, leading to less accurate earnings forecasts. We can also notice that hypertuning the parameters can also overfit the model as the second model performs slightly worse than the first one. "
   ]
  },
  {
   "cell_type": "markdown",
   "metadata": {},
   "source": [
    "# RNN (Franco)"
   ]
  },
  {
   "cell_type": "markdown",
   "metadata": {},
   "source": [
    "## Why this model for this problem\n",
    "\n",
    "* This is the Recurrent Neural Network approach, as done by the whitepaper. RNNs with Long Short Term Memory units prove to be suited for predicting earnings per share, because of its capacity to process data sequentially and retain information across longer time periods. The RNN takes the indicators in sequences (EPS is updated quarterly though we have daily data for our features). The LSTM layers selectively retain or forget information, continuously refined as more sequences are processed."
   ]
  },
  {
   "cell_type": "markdown",
   "metadata": {},
   "source": [
    "## Model Architecture\n",
    "\n",
    "Our RNN will utilize a Long Short Term Memory Model, as justified by its advantages for time series."
   ]
  },
  {
   "cell_type": "markdown",
   "metadata": {},
   "source": [
    "Preparing the data, declaring the batch size and obtaining the number of features."
   ]
  },
  {
   "cell_type": "code",
   "execution_count": 70,
   "metadata": {},
   "outputs": [],
   "source": [
    "from sklearn.preprocessing import StandardScaler\n",
    "import tensorflow as tf\n",
    "\n",
    "batch_size = 64\n",
    "n_steps = 50  \n",
    "n_features = merged_df.shape[1]\n",
    "\n",
    "# `merged_df` needs numeric types no missing values\n",
    "data = merged_df.values"
   ]
  },
  {
   "cell_type": "markdown",
   "metadata": {},
   "source": [
    "Given data limitations we apply a forward fill, backward fill, and fill with mean to ensure that missing values in the dataframe are cleaned up."
   ]
  },
  {
   "cell_type": "code",
   "execution_count": 71,
   "metadata": {},
   "outputs": [],
   "source": [
    "# Forward Fill\n",
    "merged_df.ffill(inplace=True)\n",
    "\n",
    "# Backward Fill\n",
    "merged_df.bfill(inplace=True)\n",
    "\n",
    "# Fill with Mean \n",
    "merged_df.fillna(merged_df.mean(), inplace=True)\n"
   ]
  },
  {
   "cell_type": "markdown",
   "metadata": {},
   "source": [
    "Here the data is properly normalized, and then reevaluated to solve any NaN and Inf values. Initially, a StandardScaler approach was used until it resulted in notable bias. Switching to a MinMax scaler from 0 to 1 fit the data better."
   ]
  },
  {
   "cell_type": "code",
   "execution_count": 72,
   "metadata": {},
   "outputs": [],
   "source": [
    "from sklearn.preprocessing import StandardScaler\n",
    "from sklearn.preprocessing import MinMaxScaler\n",
    "\n",
    "# Apply MinMaxScaler for better normalization\n",
    "scaler = MinMaxScaler(feature_range=(0, 1))\n",
    "data_scaled = scaler.fit_transform(merged_df.values)\n",
    "\n",
    "# Ensure no infinite or NaN values after scaling\n",
    "data_scaled = np.nan_to_num(data_scaled)\n",
    "\n",
    "# Ensure no infinite or NaN values after scaling\n",
    "if np.isinf(data_scaled).any() or np.isnan(data_scaled).any():\n",
    "    print(\"Infinite or NaN values found after scaling.\")\n",
    "    data_scaled = np.nan_to_num(data_scaled)  # Replace NaNs and Infs\n"
   ]
  },
  {
   "cell_type": "markdown",
   "metadata": {},
   "source": [
    "Here the dataset is transformed into sequences, and split into training and testing data."
   ]
  },
  {
   "cell_type": "code",
   "execution_count": null,
   "metadata": {},
   "outputs": [],
   "source": []
  },
  {
   "cell_type": "code",
   "execution_count": 73,
   "metadata": {},
   "outputs": [],
   "source": [
    "# Reshape data to fit the RNN input shape\n",
    "def create_sequences(data, n_steps):\n",
    "    X, y = [], []\n",
    "    for i in range(n_steps, len(data)):\n",
    "        X.append(data[i-n_steps:i, :])\n",
    "        y.append(data[i, 1])  # Assuming the first column is the target variable\n",
    "    return np.array(X), np.array(y)\n",
    "\n",
    "X, y = create_sequences(data_scaled, n_steps)\n",
    "\n",
    "# Split the dataset\n",
    "train_size = int(0.8 * len(X))\n",
    "X_train, X_test = X[:train_size], X[train_size:]\n",
    "y_train, y_test = y[:train_size], y[train_size:]"
   ]
  },
  {
   "cell_type": "markdown",
   "metadata": {},
   "source": [
    "Here we define the RNN model. The model consists of two LSTM layers, two dropout layers, and one dense layer."
   ]
  },
  {
   "cell_type": "code",
   "execution_count": 74,
   "metadata": {},
   "outputs": [
    {
     "name": "stdout",
     "output_type": "stream",
     "text": [
      "Model: \"sequential_1\"\n",
      "_________________________________________________________________\n",
      " Layer (type)                Output Shape              Param #   \n",
      "=================================================================\n",
      " lstm (LSTM)                 (None, 50, 50)            12000     \n",
      "                                                                 \n",
      " dropout_2 (Dropout)         (None, 50, 50)            0         \n",
      "                                                                 \n",
      " lstm_1 (LSTM)               (None, 50)                20200     \n",
      "                                                                 \n",
      " dropout_3 (Dropout)         (None, 50)                0         \n",
      "                                                                 \n",
      " dense_3 (Dense)             (None, 1)                 51        \n",
      "                                                                 \n",
      "=================================================================\n",
      "Total params: 32,251\n",
      "Trainable params: 32,251\n",
      "Non-trainable params: 0\n",
      "_________________________________________________________________\n"
     ]
    }
   ],
   "source": [
    "import tensorflow as tf\n",
    "from tensorflow.keras.models import Sequential\n",
    "from tensorflow.keras.layers import LSTM, Dense, Dropout\n",
    "\n",
    "n_steps = 50  \n",
    "n_features = merged_df.shape[1]  \n",
    "\n",
    "# Define the RNN model\n",
    "model = Sequential([\n",
    "    LSTM(50, activation='tanh', input_shape=(n_steps, n_features), return_sequences=True),\n",
    "    Dropout(0.2),\n",
    "    LSTM(50, activation='tanh'),\n",
    "    Dropout(0.2),\n",
    "    Dense(1)  # Output layer - assumes a single output per sequence\n",
    "])\n",
    "\n",
    "# Display model summary to verify its structure\n",
    "model.summary()\n"
   ]
  },
  {
   "cell_type": "markdown",
   "metadata": {},
   "source": [
    "Compile the model using Stochastic Gradient Descent."
   ]
  },
  {
   "cell_type": "code",
   "execution_count": 75,
   "metadata": {},
   "outputs": [],
   "source": [
    "# Compile the model using SGD optimizer\n",
    "sgd_optimizer = tf.keras.optimizers.SGD(learning_rate=0.01, momentum=0.9)\n",
    "model.compile(optimizer=sgd_optimizer, loss='mean_squared_error')"
   ]
  },
  {
   "cell_type": "markdown",
   "metadata": {},
   "source": [
    "Run the epochs to train the model."
   ]
  },
  {
   "cell_type": "code",
   "execution_count": 76,
   "metadata": {},
   "outputs": [
    {
     "name": "stdout",
     "output_type": "stream",
     "text": [
      "Epoch 1/40\n",
      "173/173 [==============================] - 6s 15ms/step - loss: 0.0039 - val_loss: 0.0028\n",
      "Epoch 2/40\n",
      "173/173 [==============================] - 2s 11ms/step - loss: 0.0019 - val_loss: 0.0023\n",
      "Epoch 3/40\n",
      "173/173 [==============================] - 2s 11ms/step - loss: 0.0018 - val_loss: 0.0022\n",
      "Epoch 4/40\n",
      "173/173 [==============================] - 2s 11ms/step - loss: 0.0018 - val_loss: 0.0021\n",
      "Epoch 5/40\n",
      "173/173 [==============================] - 2s 11ms/step - loss: 0.0017 - val_loss: 0.0021\n",
      "Epoch 6/40\n",
      "173/173 [==============================] - 2s 11ms/step - loss: 0.0017 - val_loss: 0.0021\n",
      "Epoch 7/40\n",
      "173/173 [==============================] - 2s 11ms/step - loss: 0.0017 - val_loss: 0.0021\n",
      "Epoch 8/40\n",
      "173/173 [==============================] - 2s 11ms/step - loss: 0.0017 - val_loss: 0.0021\n",
      "Epoch 9/40\n",
      "173/173 [==============================] - 2s 11ms/step - loss: 0.0016 - val_loss: 0.0021\n",
      "Epoch 10/40\n",
      "173/173 [==============================] - 2s 11ms/step - loss: 0.0016 - val_loss: 0.0021\n",
      "Epoch 11/40\n",
      "173/173 [==============================] - 2s 11ms/step - loss: 0.0016 - val_loss: 0.0021\n",
      "Epoch 12/40\n",
      "173/173 [==============================] - 2s 11ms/step - loss: 0.0016 - val_loss: 0.0021\n",
      "Epoch 13/40\n",
      "173/173 [==============================] - 2s 11ms/step - loss: 0.0016 - val_loss: 0.0021\n",
      "Epoch 14/40\n",
      "173/173 [==============================] - 2s 11ms/step - loss: 0.0016 - val_loss: 0.0021\n",
      "Epoch 15/40\n",
      "173/173 [==============================] - 2s 11ms/step - loss: 0.0016 - val_loss: 0.0021\n",
      "Epoch 16/40\n",
      "173/173 [==============================] - 2s 11ms/step - loss: 0.0016 - val_loss: 0.0022\n",
      "Epoch 17/40\n",
      "173/173 [==============================] - 2s 11ms/step - loss: 0.0016 - val_loss: 0.0021\n",
      "Epoch 18/40\n",
      "173/173 [==============================] - 2s 11ms/step - loss: 0.0016 - val_loss: 0.0021\n",
      "Epoch 19/40\n",
      "173/173 [==============================] - 2s 11ms/step - loss: 0.0016 - val_loss: 0.0021\n",
      "Epoch 20/40\n",
      "173/173 [==============================] - 2s 11ms/step - loss: 0.0016 - val_loss: 0.0021\n",
      "Epoch 21/40\n",
      "173/173 [==============================] - 2s 11ms/step - loss: 0.0016 - val_loss: 0.0021\n",
      "Epoch 22/40\n",
      "173/173 [==============================] - 2s 11ms/step - loss: 0.0016 - val_loss: 0.0021\n",
      "Epoch 23/40\n",
      "173/173 [==============================] - 2s 11ms/step - loss: 0.0016 - val_loss: 0.0021\n",
      "Epoch 24/40\n",
      "173/173 [==============================] - 2s 11ms/step - loss: 0.0015 - val_loss: 0.0021\n",
      "Epoch 25/40\n",
      "173/173 [==============================] - 2s 11ms/step - loss: 0.0016 - val_loss: 0.0021\n",
      "Epoch 26/40\n",
      "173/173 [==============================] - 2s 11ms/step - loss: 0.0015 - val_loss: 0.0021\n",
      "Epoch 27/40\n",
      "173/173 [==============================] - 2s 11ms/step - loss: 0.0016 - val_loss: 0.0021\n",
      "Epoch 28/40\n",
      "173/173 [==============================] - 2s 11ms/step - loss: 0.0015 - val_loss: 0.0021\n",
      "Epoch 29/40\n",
      "173/173 [==============================] - 2s 12ms/step - loss: 0.0015 - val_loss: 0.0021\n",
      "Epoch 30/40\n",
      "173/173 [==============================] - 2s 11ms/step - loss: 0.0015 - val_loss: 0.0021\n",
      "Epoch 31/40\n",
      "173/173 [==============================] - 2s 11ms/step - loss: 0.0015 - val_loss: 0.0021\n",
      "Epoch 32/40\n",
      "173/173 [==============================] - 2s 11ms/step - loss: 0.0015 - val_loss: 0.0021\n",
      "Epoch 33/40\n",
      "173/173 [==============================] - 2s 11ms/step - loss: 0.0015 - val_loss: 0.0022\n",
      "Epoch 34/40\n",
      "173/173 [==============================] - 2s 11ms/step - loss: 0.0016 - val_loss: 0.0021\n",
      "Epoch 35/40\n",
      "173/173 [==============================] - 2s 11ms/step - loss: 0.0015 - val_loss: 0.0021\n",
      "Epoch 36/40\n",
      "173/173 [==============================] - 2s 11ms/step - loss: 0.0015 - val_loss: 0.0021\n",
      "Epoch 37/40\n",
      "173/173 [==============================] - 2s 10ms/step - loss: 0.0015 - val_loss: 0.0021\n",
      "Epoch 38/40\n",
      "173/173 [==============================] - 2s 11ms/step - loss: 0.0015 - val_loss: 0.0021\n",
      "Epoch 39/40\n",
      "173/173 [==============================] - 2s 11ms/step - loss: 0.0015 - val_loss: 0.0021\n",
      "Epoch 40/40\n",
      "173/173 [==============================] - 2s 11ms/step - loss: 0.0015 - val_loss: 0.0022\n"
     ]
    }
   ],
   "source": [
    "history = model.fit(X_train, y_train, epochs=40, batch_size=32, verbose=1, validation_split=0.2)"
   ]
  },
  {
   "cell_type": "markdown",
   "metadata": {},
   "source": [
    "Here we plot the actual and predicted values of our earnings per share."
   ]
  },
  {
   "cell_type": "markdown",
   "metadata": {},
   "source": [
    "## Fitted Model and Results"
   ]
  },
  {
   "cell_type": "code",
   "execution_count": 77,
   "metadata": {},
   "outputs": [
    {
     "name": "stdout",
     "output_type": "stream",
     "text": [
      "54/54 [==============================] - 1s 4ms/step\n"
     ]
    },
    {
     "data": {
      "image/png": "[encoded data removed]",
      "text/plain": [
       "<Figure size 1000x600 with 1 Axes>"
      ]
     },
     "metadata": {},
     "output_type": "display_data"
    }
   ],
   "source": [
    "import matplotlib.pyplot as plt\n",
    "\n",
    "# Plotting\n",
    "predicted_values = model.predict(X_test)\n",
    "plt.figure(figsize=(10, 6))\n",
    "plt.plot(y_test, label='True Values')\n",
    "plt.plot(predicted_values, label='Predicted Values')\n",
    "plt.title('Comparison of Actual and Predicted Values')\n",
    "plt.legend()\n",
    "plt.show()"
   ]
  },
  {
   "cell_type": "code",
   "execution_count": 78,
   "metadata": {},
   "outputs": [
    {
     "name": "stdout",
     "output_type": "stream",
     "text": [
      "54/54 [==============================] - 0s 5ms/step - loss: 0.0036\n",
      "Test Loss: 0.0035533232148736715\n"
     ]
    }
   ],
   "source": [
    "# Evaluate the model\n",
    "test_loss = model.evaluate(X_test, y_test)\n",
    "print(f'Test Loss: {test_loss}')"
   ]
  },
  {
   "cell_type": "markdown",
   "metadata": {},
   "source": [
    "/* This was written when model was trained on a faulty dataset */\n",
    "\n",
    "Using an RNN model approach to predict earnings per share generally captures the trends in the actual data, as evidenced by the convergence of predicted and true values shown in the graph. However, there are noticeable offsets in the prediction, particularly during peaks and troughs, suggesting issues with scaling or model sensitivity. Over the course of 400 epochs, both training and validation losses significantly decrease, indicating effective learning and generalization, with the final test loss settling at a reasonably low value. This underscores the model's ability to understand underlying patterns but also highlights the areas for further improvement and tuning such as refining the scaling approach, adjusting the network architecture, enhancing feature engineering, and experimenting with hyperparameters to optimize performance further and reduce the amplitude offset between predicted and true values."
   ]
  },
  {
   "cell_type": "markdown",
   "metadata": {},
   "source": [
    "## RNN results (Franco)\n"
   ]
  },
  {
   "cell_type": "markdown",
   "metadata": {},
   "source": [
    "## Model Architecture\n",
    "\n",
    "Our RNN will utilize a Long Short Term Memory Model, as justified by its advantages for time series."
   ]
  },
  {
   "cell_type": "code",
   "execution_count": 79,
   "metadata": {},
   "outputs": [],
   "source": [
    "from sklearn.preprocessing import StandardScaler\n",
    "import tensorflow as tf\n",
    "\n",
    "batch_size = 64\n",
    "n_steps = 4\n",
    "n_features = merged_df.shape[1]\n",
    "\n",
    "# `merged_df` needs numeric types no missing values\n",
    "data = merged_df.values\n",
    "\n",
    "# Normalize features\n",
    "scaler = StandardScaler()\n",
    "data_scaled = scaler.fit_transform(data)"
   ]
  },
  {
   "cell_type": "code",
   "execution_count": 80,
   "metadata": {},
   "outputs": [],
   "source": [
    "# Forward Fill\n",
    "merged_df.ffill(inplace=True)\n",
    "\n",
    "# Backward Fill\n",
    "merged_df.bfill(inplace=True)\n",
    "\n",
    "# Fill with Mean (ensure to apply this per feature if your data isn't homogeneous)\n",
    "merged_df.fillna(merged_df.mean(), inplace=True)\n"
   ]
  },
  {
   "cell_type": "code",
   "execution_count": 81,
   "metadata": {},
   "outputs": [],
   "source": [
    "from sklearn.preprocessing import StandardScaler\n",
    "from sklearn.preprocessing import MinMaxScaler\n",
    "\n",
    "# Apply MinMaxScaler for better normalization\n",
    "scaler = MinMaxScaler(feature_range=(0, 1))\n",
    "data_scaled = scaler.fit_transform(merged_df.values)\n",
    "\n",
    "# Ensure no infinite or NaN values after scaling\n",
    "data_scaled = np.nan_to_num(data_scaled)\n",
    "\n",
    "# Ensure no infinite or NaN values after scaling\n",
    "if np.isinf(data_scaled).any() or np.isnan(data_scaled).any():\n",
    "    print(\"Infinite or NaN values found after scaling.\")\n",
    "    data_scaled = np.nan_to_num(data_scaled)  # Replace NaNs and Infs\n"
   ]
  },
  {
   "cell_type": "code",
   "execution_count": 82,
   "metadata": {},
   "outputs": [],
   "source": [
    "# Reshape data to fit the RNN input shape\n",
    "def create_sequences(data, n_steps):\n",
    "    X, y = [], []\n",
    "    for i in range(n_steps, len(data)):\n",
    "        X.append(data[i-n_steps:i, :])\n",
    "        y.append(data[i, 5])  # Assuming the first column is the target variable\n",
    "    return np.array(X), np.array(y)\n",
    "\n",
    "X, y = create_sequences(data_scaled, n_steps)\n",
    "\n",
    "# Split the dataset\n",
    "train_size = int(0.8 * len(X))\n",
    "X_train, X_test = X[:train_size], X[train_size:]\n",
    "y_train, y_test = y[:train_size], y[train_size:]"
   ]
  },
  {
   "cell_type": "code",
   "execution_count": 83,
   "metadata": {},
   "outputs": [
    {
     "data": {
      "text/plain": [
       "Index(['Daily_Return_percent_SP', 'Daily_Return_percent_VIX', 'Dividends',\n",
       "       'Volume', 'Daily_Return_percent', 'Estimated EPS', 'Reported EPS',\n",
       "       'totalAssets', 'Equity Ratio'],\n",
       "      dtype='object')"
      ]
     },
     "execution_count": 83,
     "metadata": {},
     "output_type": "execute_result"
    }
   ],
   "source": [
    "merged_df.columns"
   ]
  },
  {
   "cell_type": "code",
   "execution_count": null,
   "metadata": {},
   "outputs": [],
   "source": []
  },
  {
   "cell_type": "code",
   "execution_count": 84,
   "metadata": {},
   "outputs": [
    {
     "name": "stdout",
     "output_type": "stream",
     "text": [
      "Model: \"sequential_2\"\n",
      "_________________________________________________________________\n",
      " Layer (type)                Output Shape              Param #   \n",
      "=================================================================\n",
      " lstm_2 (LSTM)               (None, 50, 50)            12000     \n",
      "                                                                 \n",
      " dropout_4 (Dropout)         (None, 50, 50)            0         \n",
      "                                                                 \n",
      " lstm_3 (LSTM)               (None, 50)                20200     \n",
      "                                                                 \n",
      " dropout_5 (Dropout)         (None, 50)                0         \n",
      "                                                                 \n",
      " dense_4 (Dense)             (None, 1)                 51        \n",
      "                                                                 \n",
      "=================================================================\n",
      "Total params: 32,251\n",
      "Trainable params: 32,251\n",
      "Non-trainable params: 0\n",
      "_________________________________________________________________\n"
     ]
    }
   ],
   "source": [
    "import tensorflow as tf\n",
    "from tensorflow.keras.models import Sequential\n",
    "from tensorflow.keras.layers import LSTM, Dense, Dropout\n",
    "\n",
    "# Model configuration - these need to be adjusted based on your dataset\n",
    "n_steps = 50  # This should match the number of timesteps you decided to use in your sequences\n",
    "n_features = merged_df.shape[1]  # Number of features in your dataset\n",
    "\n",
    "# Define the RNN model\n",
    "model = Sequential([\n",
    "    LSTM(50, activation='tanh', input_shape=(n_steps, n_features), return_sequences=True),\n",
    "    Dropout(0.2),\n",
    "    LSTM(50, activation='tanh'),\n",
    "    Dropout(0.2),\n",
    "    Dense(1)  # Output layer - assumes a single output per sequence\n",
    "])\n",
    "\n",
    "# Display model summary to verify its structure\n",
    "model.summary()\n"
   ]
  },
  {
   "cell_type": "code",
   "execution_count": 85,
   "metadata": {},
   "outputs": [],
   "source": [
    "# Compile the model using SGD optimizer\n",
    "sgd_optimizer = tf.keras.optimizers.SGD(learning_rate=0.01, momentum=0.9)\n",
    "model.compile(optimizer=sgd_optimizer, loss='mean_squared_error')"
   ]
  },
  {
   "cell_type": "code",
   "execution_count": 86,
   "metadata": {},
   "outputs": [
    {
     "name": "stdout",
     "output_type": "stream",
     "text": [
      "Epoch 1/200\n"
     ]
    },
    {
     "ename": "ValueError",
     "evalue": "in user code:\n\n    File \"S:\\Documents\\Coursework\\521-Final-Project\\env\\lib\\site-packages\\keras\\engine\\training.py\", line 1160, in train_function  *\n        return step_function(self, iterator)\n    File \"S:\\Documents\\Coursework\\521-Final-Project\\env\\lib\\site-packages\\keras\\engine\\training.py\", line 1146, in step_function  **\n        outputs = model.distribute_strategy.run(run_step, args=(data,))\n    File \"S:\\Documents\\Coursework\\521-Final-Project\\env\\lib\\site-packages\\keras\\engine\\training.py\", line 1135, in run_step  **\n        outputs = model.train_step(data)\n    File \"S:\\Documents\\Coursework\\521-Final-Project\\env\\lib\\site-packages\\keras\\engine\\training.py\", line 993, in train_step\n        y_pred = self(x, training=True)\n    File \"S:\\Documents\\Coursework\\521-Final-Project\\env\\lib\\site-packages\\keras\\utils\\traceback_utils.py\", line 70, in error_handler\n        raise e.with_traceback(filtered_tb) from None\n    File \"S:\\Documents\\Coursework\\521-Final-Project\\env\\lib\\site-packages\\keras\\engine\\input_spec.py\", line 295, in assert_input_compatibility\n        raise ValueError(\n\n    ValueError: Input 0 of layer \"sequential_2\" is incompatible with the layer: expected shape=(None, 50, 9), found shape=(None, 4, 9)\n",
     "output_type": "error",
     "traceback": [
      "\u001b[1;31m---------------------------------------------------------------------------\u001b[0m",
      "\u001b[1;31mValueError\u001b[0m                                Traceback (most recent call last)",
      "Cell \u001b[1;32mIn[86], line 2\u001b[0m\n\u001b[0;32m      1\u001b[0m \u001b[38;5;66;03m# Assuming X_train and y_train are already defined and properly shaped\u001b[39;00m\n\u001b[1;32m----> 2\u001b[0m history \u001b[38;5;241m=\u001b[39m \u001b[43mmodel\u001b[49m\u001b[38;5;241;43m.\u001b[39;49m\u001b[43mfit\u001b[49m\u001b[43m(\u001b[49m\u001b[43mX_train\u001b[49m\u001b[43m,\u001b[49m\u001b[43m \u001b[49m\u001b[43my_train\u001b[49m\u001b[43m,\u001b[49m\u001b[43m \u001b[49m\u001b[43mepochs\u001b[49m\u001b[38;5;241;43m=\u001b[39;49m\u001b[38;5;241;43m200\u001b[39;49m\u001b[43m,\u001b[49m\u001b[43m \u001b[49m\u001b[43mbatch_size\u001b[49m\u001b[38;5;241;43m=\u001b[39;49m\u001b[38;5;241;43m32\u001b[39;49m\u001b[43m,\u001b[49m\u001b[43m \u001b[49m\u001b[43mverbose\u001b[49m\u001b[38;5;241;43m=\u001b[39;49m\u001b[38;5;241;43m1\u001b[39;49m\u001b[43m,\u001b[49m\u001b[43m \u001b[49m\u001b[43mvalidation_split\u001b[49m\u001b[38;5;241;43m=\u001b[39;49m\u001b[38;5;241;43m0.2\u001b[39;49m\u001b[43m)\u001b[49m\n",
      "File \u001b[1;32mS:\\Documents\\Coursework\\521-Final-Project\\env\\lib\\site-packages\\keras\\utils\\traceback_utils.py:70\u001b[0m, in \u001b[0;36mfilter_traceback.<locals>.error_handler\u001b[1;34m(*args, **kwargs)\u001b[0m\n\u001b[0;32m     67\u001b[0m     filtered_tb \u001b[38;5;241m=\u001b[39m _process_traceback_frames(e\u001b[38;5;241m.\u001b[39m__traceback__)\n\u001b[0;32m     68\u001b[0m     \u001b[38;5;66;03m# To get the full stack trace, call:\u001b[39;00m\n\u001b[0;32m     69\u001b[0m     \u001b[38;5;66;03m# `tf.debugging.disable_traceback_filtering()`\u001b[39;00m\n\u001b[1;32m---> 70\u001b[0m     \u001b[38;5;28;01mraise\u001b[39;00m e\u001b[38;5;241m.\u001b[39mwith_traceback(filtered_tb) \u001b[38;5;28;01mfrom\u001b[39;00m \u001b[38;5;28;01mNone\u001b[39;00m\n\u001b[0;32m     71\u001b[0m \u001b[38;5;28;01mfinally\u001b[39;00m:\n\u001b[0;32m     72\u001b[0m     \u001b[38;5;28;01mdel\u001b[39;00m filtered_tb\n",
      "File \u001b[1;32mC:\\Users\\HANKBE~1\\AppData\\Local\\Temp\\__autograph_generated_file8ys71hn3.py:15\u001b[0m, in \u001b[0;36mouter_factory.<locals>.inner_factory.<locals>.tf__train_function\u001b[1;34m(iterator)\u001b[0m\n\u001b[0;32m     13\u001b[0m \u001b[38;5;28;01mtry\u001b[39;00m:\n\u001b[0;32m     14\u001b[0m     do_return \u001b[38;5;241m=\u001b[39m \u001b[38;5;28;01mTrue\u001b[39;00m\n\u001b[1;32m---> 15\u001b[0m     retval_ \u001b[38;5;241m=\u001b[39m ag__\u001b[38;5;241m.\u001b[39mconverted_call(ag__\u001b[38;5;241m.\u001b[39mld(step_function), (ag__\u001b[38;5;241m.\u001b[39mld(\u001b[38;5;28mself\u001b[39m), ag__\u001b[38;5;241m.\u001b[39mld(iterator)), \u001b[38;5;28;01mNone\u001b[39;00m, fscope)\n\u001b[0;32m     16\u001b[0m \u001b[38;5;28;01mexcept\u001b[39;00m:\n\u001b[0;32m     17\u001b[0m     do_return \u001b[38;5;241m=\u001b[39m \u001b[38;5;28;01mFalse\u001b[39;00m\n",
      "\u001b[1;31mValueError\u001b[0m: in user code:\n\n    File \"S:\\Documents\\Coursework\\521-Final-Project\\env\\lib\\site-packages\\keras\\engine\\training.py\", line 1160, in train_function  *\n        return step_function(self, iterator)\n    File \"S:\\Documents\\Coursework\\521-Final-Project\\env\\lib\\site-packages\\keras\\engine\\training.py\", line 1146, in step_function  **\n        outputs = model.distribute_strategy.run(run_step, args=(data,))\n    File \"S:\\Documents\\Coursework\\521-Final-Project\\env\\lib\\site-packages\\keras\\engine\\training.py\", line 1135, in run_step  **\n        outputs = model.train_step(data)\n    File \"S:\\Documents\\Coursework\\521-Final-Project\\env\\lib\\site-packages\\keras\\engine\\training.py\", line 993, in train_step\n        y_pred = self(x, training=True)\n    File \"S:\\Documents\\Coursework\\521-Final-Project\\env\\lib\\site-packages\\keras\\utils\\traceback_utils.py\", line 70, in error_handler\n        raise e.with_traceback(filtered_tb) from None\n    File \"S:\\Documents\\Coursework\\521-Final-Project\\env\\lib\\site-packages\\keras\\engine\\input_spec.py\", line 295, in assert_input_compatibility\n        raise ValueError(\n\n    ValueError: Input 0 of layer \"sequential_2\" is incompatible with the layer: expected shape=(None, 50, 9), found shape=(None, 4, 9)\n"
     ]
    }
   ],
   "source": [
    "# Assuming X_train and y_train are already defined and properly shaped\n",
    "history = model.fit(X_train, y_train, epochs=200, batch_size=32, verbose=1, validation_split=0.2)"
   ]
  },
  {
   "cell_type": "code",
   "execution_count": null,
   "metadata": {},
   "outputs": [],
   "source": [
    "import matplotlib.pyplot as plt\n",
    "\n",
    "# Predicting\n",
    "predicted_values = model.predict(X_test)\n",
    "plt.figure(figsize=(10, 6))\n",
    "plt.plot(y_test, label='True Values')\n",
    "plt.plot(predicted_values, label='Predicted Values')\n",
    "plt.title('Comparison of Actual and Predicted Values')\n",
    "plt.legend()\n",
    "plt.show()"
   ]
  },
  {
   "cell_type": "code",
   "execution_count": null,
   "metadata": {},
   "outputs": [],
   "source": [
    "# Evaluate the model\n",
    "test_loss = model.evaluate(X_test, y_test)\n",
    "print(f'Test Loss: {test_loss}')"
   ]
  },
  {
   "cell_type": "code",
   "execution_count": null,
   "metadata": {},
   "outputs": [],
   "source": [
    "import tensorflow as tf\n",
    "from tensorflow.keras.models import Sequential\n",
    "from tensorflow.keras.layers import LSTM, Dense, Dropout, Lambda\n",
    "import tensorflow.keras.backend as K\n",
    "\n",
    "# Define the RNN model with bias correction included\n",
    "model = Sequential([\n",
    "    LSTM(50, activation='tanh', input_shape=(n_steps, n_features), return_sequences=True),\n",
    "    Dropout(0.2),\n",
    "    LSTM(50, activation='tanh'),\n",
    "    Dropout(0.2),\n",
    "    Dense(1),  # Output layer - initially outputs the raw predictions\n",
    "    Lambda(lambda x: x + K.constant(0.5))  # Adding bias correction directly in the model\n",
    "])\n",
    "\n",
    "# Display model summary to verify its structure\n",
    "model.summary()\n",
    "\n",
    "# Compile the model using SGD optimizer\n",
    "sgd_optimizer = tf.keras.optimizers.SGD(learning_rate=0.01, momentum=0.9)\n",
    "model.compile(optimizer=sgd_optimizer, loss='mean_squared_error')\n",
    "\n",
    "# Assuming X_train and y_train are already defined and properly shaped\n",
    "history = model.fit(X_train, y_train, epochs=200, batch_size=32, verbose=1, validation_split=0.2)\n",
    "\n",
    "# Predicting and plotting results\n",
    "import matplotlib.pyplot as plt\n",
    "\n",
    "predicted_values = model.predict(X_test)\n",
    "plt.figure(figsize=(10, 6))\n",
    "plt.plot(y_test, label='True Values')\n",
    "plt.plot(predicted_values, label='Predicted Values')\n",
    "plt.title('Comparison of Actual and Predicted Values')\n",
    "plt.legend()\n",
    "plt.show()\n",
    "\n",
    "# Evaluate the model\n",
    "test_loss = model.evaluate(X_test, y_test)\n",
    "print(f'Test Loss: {test_loss}')\n"
   ]
  },
  {
   "cell_type": "markdown",
   "metadata": {},
   "source": [
    "## Model Specific Preprocessing "
   ]
  },
  {
   "cell_type": "markdown",
   "metadata": {},
   "source": [
    "## Model Specific Tuning"
   ]
  },
  {
   "cell_type": "markdown",
   "metadata": {},
   "source": [
    "## Model Evaluation"
   ]
  },
  {
   "cell_type": "markdown",
   "metadata": {},
   "source": [
    "## Fitted Model and Results\n",
    "    - Report on hyper parameters\n",
    "    - Report on fit quality\n",
    "    - Ideas on improvement if the model was continued to be"
   ]
  },
  {
   "cell_type": "markdown",
   "metadata": {},
   "source": [
    "## RNN results (Franco)\n"
   ]
  },
  {
   "cell_type": "markdown",
   "metadata": {},
   "source": [
    "## Fitted Model and Results\n",
    "    - Report on hyper parameters\n",
    "    - Report on fit quality\n",
    "    - Ideas on improvement if the model was continued to be"
   ]
  },
  {
   "cell_type": "markdown",
   "metadata": {},
   "source": [
    "# Random Forest (Bhavesh)"
   ]
  },
  {
   "cell_type": "markdown",
   "metadata": {
    "jp-MarkdownHeadingCollapsed": true
   },
   "source": [
    "### Why this model for this problem\n",
    "The reason why Random Forest is effective for this project, which involves predicting the estimated Earnings Per Share (EPS), includes:\n",
    "\n",
    "Overfitting Prevention: Random Forest helps to prevent overfitting, a common problem in machine learning where a model performs well on training data but poorly on unseen data. This is achieved by averaging the predictions from multiple decision trees.\n",
    "\n",
    "Handling High Dimensionality: Random Forest can effectively handle datasets with a large number of features. It does this by randomly selecting a subset of features at each node when building the trees.\n",
    "\n",
    "Interpretability: Random Forest provides a measure of feature importance, which can help in understanding which features are most influential in predicting the EPS.\n",
    "\n",
    "Non-linearity: Financial data often exhibit non-linear relationships. Random Forest does not make any assumptions about the underlying relationships between features and the target variable, making it a suitable choice for this project.\n",
    "\n",
    "Robustness to Outliers: Random Forest is less sensitive to outliers in the data. This is particularly useful in financial data, which can often contain outliers due to sudden market changes."
   ]
  },
  {
   "cell_type": "markdown",
   "metadata": {},
   "source": [
    "### Reshaping data\n",
    "X_train.reshape(X_train.shape[0], -1) and X_test_reshaped = X_test.reshape(X_test.shape[0], -1) reshapes X_train into a two-dimensional array where the number of rows is the same as in the original X_train array, and the number of columns is such that the total number of elements in the array remains the same. This is to fine tune the data so it can be inputted into the RandomForestRegressor."
   ]
  },
  {
   "cell_type": "code",
   "execution_count": null,
   "metadata": {},
   "outputs": [],
   "source": [
    "from sklearn.ensemble import RandomForestRegressor\n",
    "from sklearn.metrics import mean_squared_error\n",
    "\n",
    "# Create a Random Forest Regressor\n",
    "rf = RandomForestRegressor(n_estimators=200, random_state=0)\n",
    "\n",
    "# Train the model\n",
    "# Reshape the input data\n",
    "X_train_reshaped = X_train.reshape(X_train.shape[0], -1)\n",
    "X_test_reshaped = X_test.reshape(X_test.shape[0], -1)\n",
    "\n",
    "# Train the model\n",
    "rf.fit(X_train_reshaped, y_train)\n",
    "\n",
    "# Make predictions on the test set\n",
    "y_pred = rf.predict(X_test_reshaped)"
   ]
  },
  {
   "cell_type": "markdown",
   "metadata": {},
   "source": [
    "# Summary of the Final Features/ Target and train test split"
   ]
  },
  {
   "cell_type": "markdown",
   "metadata": {},
   "source": [
    "We'd like to plot this data against the original test values to get a visual representation of how it performed."
   ]
  },
  {
   "cell_type": "code",
   "execution_count": null,
   "metadata": {},
   "outputs": [],
   "source": [
    "import matplotlib.pyplot as plt\n",
    "\n",
    "# Predicting\n",
    "predicted_values = rf.predict(X_test_reshaped)\n",
    "plt.figure(figsize=(10, 6))\n",
    "plt.plot(y_test, label='True Values')\n",
    "plt.plot(predicted_values, label='Predicted Values')\n",
    "plt.title('Comparison of Actual and Predicted Values')\n",
    "plt.legend()\n",
    "plt.show()"
   ]
  },
  {
   "cell_type": "markdown",
   "metadata": {},
   "source": [
    "### Evaluating the model\n",
    "Mean Squared Error (MSE) is ideal for evaluating the Random Forest model in forecasting firm earnings because it penalizes larger errors, enhancing prediction accuracy. Its mathematical properties facilitate optimization and interpretation, while providing a consistent, standard metric for comparing model performance. MSE aligns well with the project's goal of minimizing forecast errors."
   ]
  },
  {
   "cell_type": "code",
   "execution_count": null,
   "metadata": {},
   "outputs": [],
   "source": [
    "\n",
    "from sklearn.metrics import mean_squared_error\n",
    "\n",
    "y_pred = rf.predict(X_test_reshaped)\n",
    "test_loss = mean_squared_error(y_test, y_pred)\n",
    "print(f'Test Loss: {test_loss}')"
   ]
  },
  {
   "cell_type": "markdown",
   "metadata": {},
   "source": [
    "### Hypertuning Parameters\n",
    "We'd like to try hypertuning the parameters to the original random forest regressor to try to get better results than the previous model. To do this we'd use GridSearchCV."
   ]
  },
  {
   "cell_type": "code",
   "execution_count": null,
   "metadata": {},
   "outputs": [],
   "source": [
    "from sklearn.model_selection import GridSearchCV\n",
    "\n",
    "# Define the parameter grid\n",
    "param_grid = {\n",
    "    'n_estimators': [100, 200, 300, 400],\n",
    "    'max_depth': [None, 10, 20, 30],\n",
    "    'min_samples_split': [2, 5, 10],\n",
    "    'min_samples_leaf': [1, 2, 4],\n",
    "    'bootstrap': [True, False]\n",
    "}\n",
    "\n",
    "# Create a base model\n",
    "rf = RandomForestRegressor(random_state=0)\n",
    "\n",
    "# Instantiate the grid search model\n",
    "grid_search = GridSearchCV(estimator=rf, param_grid=param_grid, \n",
    "                           cv=3, n_jobs=-1, verbose=2)\n",
    "\n",
    "# Fit the grid search to the data\n",
    "grid_search.fit(X_train_reshaped, y_train)\n",
    "\n",
    "# Get the best parameters\n",
    "best_params = grid_search.best_params_\n",
    "\n",
    "# Train the model using the best parameters\n",
    "rf_best = RandomForestRegressor(**best_params, random_state=0)\n",
    "rf_best.fit(X_train_reshaped, y_train)\n",
    "\n",
    "# Make predictions on the test set using the new model\n",
    "y_pred = rf_best.predict(X_test_reshaped)"
   ]
  },
  {
   "cell_type": "markdown",
   "metadata": {},
   "source": [
    "Below are the best found parameters and we will use them to train our rf_best model"
   ]
  },
  {
   "cell_type": "code",
   "execution_count": null,
   "metadata": {},
   "outputs": [],
   "source": [
    "# Train the model using the best parameters\n",
    "rf_best = RandomForestRegressor(**best_params, random_state=0)\n",
    "rf_best.fit(X_train_reshaped, y_train)\n",
    "best_params"
   ]
  },
  {
   "cell_type": "code",
   "execution_count": null,
   "metadata": {},
   "outputs": [],
   "source": [
    "# Make predictions on the test set using the new model\n",
    "y_pred = rf_best.predict(X_test_reshaped)"
   ]
  },
  {
   "cell_type": "code",
   "execution_count": null,
   "metadata": {},
   "outputs": [],
   "source": [
    "import matplotlib.pyplot as plt\n",
    "plt.figure(figsize=(10, 6))\n",
    "plt.plot(y_test, label='True Values')\n",
    "plt.plot(y_pred, label='Predicted Values')\n",
    "plt.title('Comparison of Actual and Predicted Values')\n",
    "plt.legend()\n",
    "plt.show()"
   ]
  },
  {
   "cell_type": "code",
   "execution_count": null,
   "metadata": {},
   "outputs": [],
   "source": [
    "from sklearn.metrics import mean_squared_error\n",
    "y_pred = rf_best.predict(X_test_reshaped)\n",
    "test_loss = mean_squared_error(y_test, y_pred)\n",
    "print(f'Test Loss: {test_loss}')"
   ]
  },
  {
   "cell_type": "markdown",
   "metadata": {},
   "source": [
    "\n",
    "### Random Forest Result Explanation\n",
    "The Random Forest model may underperform compared to RNNs and XGBoost in this project due to its limited ability to capture temporal dependencies and sequential patterns inherent in financial data. While Random Forests are robust for general prediction tasks, they lack the capability of RNNs to model time series data effectively. Additionally, XGBoost's ability to handle complex feature interactions and non-stationarity in financial metrics provides a significant edge. The averaging nature of Random Forests can also dilute subtle but crucial patterns, leading to less accurate earnings forecasts. We can also notice that hypertuning the parameters can also overfit the model as the second model performs slightly worse than the first one. "
   ]
  },
  {
   "cell_type": "code",
   "execution_count": null,
   "metadata": {},
   "outputs": [],
   "source": []
  }
 ],
 "metadata": {
  "kernelspec": {
   "display_name": "Python 3 (ipykernel)",
   "language": "python",
   "name": "python3"
  },
  "language_info": {
   "codemirror_mode": {
    "name": "ipython",
    "version": 3
   },
   "file_extension": ".py",
   "mimetype": "text/x-python",
   "name": "python",
   "nbconvert_exporter": "python",
   "pygments_lexer": "ipython3",
   "version": "3.10.6"
  }
 },
 "nbformat": 4,
 "nbformat_minor": 4
}
