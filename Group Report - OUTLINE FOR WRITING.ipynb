{
 "cells": [
  {
   "cell_type": "markdown",
   "metadata": {},
   "source": [
    "# Machine Learning 521 Final Report\n",
    "## Predicting Quarterly Earnings per Share with Time Series Data\n",
    "#### RNN by Franco Rey\n",
    "#### Gradient Boosted Regressor Trees by Hank Beck\n",
    "#### Random Forest Regression by Bhavesh\n",
    "#### Kmean Regime Clustering and Markov Chain by Kevin"
   ]
  },
  {
   "cell_type": "markdown",
   "metadata": {},
   "source": [
    "# Introduction\n",
    "    - What is the problem?\n",
    "    - What are traditional methods for forecasting returns?\n",
    "    - What is the benefit of machine learning to this problem\n",
    "    - What models did we choose to explore"
   ]
  },
  {
   "cell_type": "markdown",
   "metadata": {},
   "source": [
    "\n",
    "# Data\n",
    "\n",
    "## Target\n",
    "    - Reported EPS\n",
    "    \n",
    "## Features\n",
    "    \n",
    "## Data Sources\n",
    "    - Yahoo finance\n",
    "    - Alpha Vantage\n",
    "    \n",
    "## Things that needed to be accounted for\n",
    "    - look ahead bias\n",
    "    - Information available when predictions are to be made\n",
    "    - Stationarity \n",
    "    - survivorship Bias\n",
    "    \n",
    "## Pros of the data set\n",
    "\n",
    "## Cons of dataset\n",
    "\n",
    "## Ways the dataset could be theorectically improved if more data available\n",
    "    - longer time period\n",
    "        "
   ]
  },
  {
   "cell_type": "markdown",
   "metadata": {},
   "source": [
    "# Data Fetching and Cleaning\n",
    "I will work here before merging with main so we have a backup in case someone messes up a merge with their independent branch"
   ]
  },
  {
   "cell_type": "code",
   "execution_count": 1,
   "metadata": {},
   "outputs": [],
   "source": [
    "# import modules\n",
    "import pandas as pd\n",
    "import pandas_datareader as pdr\n",
    "import requests\n",
    "import os\n",
    "from dotenv import load_dotenv\n",
    "import csv\n",
    "import numpy as np\n",
    "\n",
    "# Modules for fetching data\n",
    "import yfinance as yf"
   ]
  },
  {
   "cell_type": "code",
   "execution_count": 2,
   "metadata": {},
   "outputs": [],
   "source": [
    "load_dotenv()\n",
    "AV_api_key = os.getenv(\"ALPHA_VANTAGE_API_KEY\")"
   ]
  },
  {
   "cell_type": "markdown",
   "metadata": {},
   "source": [
    "## Helper functions"
   ]
  },
  {
   "cell_type": "markdown",
   "metadata": {},
   "source": [
    "### Data retrieval and cleanup helper functions"
   ]
  },
  {
   "cell_type": "code",
   "execution_count": 3,
   "metadata": {},
   "outputs": [],
   "source": [
    "\n",
    "def DeleteEmptyCSVs(CSVToCheck):\n",
    "    # Function to delete any csvs that were created by an attempted data retrieval\n",
    "    # but are empty of data\n",
    "    if os.path.isfile(CSVToCheck):\n",
    "        # Count the number of lines in the file\n",
    "        with open(CSVToCheck, 'r') as file:\n",
    "            reader = csv.reader(file)\n",
    "            line_count = sum(1 for row in reader)\n",
    "        \n",
    "        print(f\"The file {CSVToCheck} has {line_count} lines.\")\n",
    "\n",
    "        # Check if the line count is less 3 (header and empty line)\n",
    "        if line_count < 3:\n",
    "            print(f\"{CSVToCheck} seems empty. Deleting the file.\")\n",
    "            os.remove(CSVToCheck)\n",
    "        else:\n",
    "            print(f\"{CSVToCheck} seems to have data.\")\n",
    "    else:\n",
    "        print(f\"{CSVToCheck} does not exist.\")"
   ]
  },
  {
   "cell_type": "code",
   "execution_count": 4,
   "metadata": {},
   "outputs": [],
   "source": [
    "def getYahoo(tckr, tckr_csv):\n",
    "    \n",
    "    if not os.path.isfile(tckr_csv):\n",
    "        print(\"Retrieving \"+tckr+\" Data from Yahoo...\")\n",
    "        try:\n",
    "            tckr_data = yf.download(tckr, start=START_DATE_yahoo, end=END_DATE_yahoo)\n",
    "            print(\"saving data to csv\")\n",
    "            tckr_data.to_csv(tckr_csv)\n",
    "        except Exception as e:\n",
    "            print(f\"Failed to retrieve data: {e}\")\n",
    "    else:\n",
    "        print(tckr+\" data already saved in csv\")\n",
    "\n"
   ]
  },
  {
   "cell_type": "code",
   "execution_count": 5,
   "metadata": {},
   "outputs": [],
   "source": [
    "def getDividends(tckr):\n",
    "    ticker = yf.Ticker(tckr)\n",
    "    dividends_series = ticker.dividends\n",
    "    csvFile = '.\\data_files\\\\'\n",
    "    csvFile = csvFile + tckr + 'dividends.csv'\n",
    "    dividends_series.to_csv(csvFile)"
   ]
  },
  {
   "cell_type": "code",
   "execution_count": 6,
   "metadata": {},
   "outputs": [],
   "source": [
    "def GetEarningsFromAlphaVantage(stock_ticker, data_folder = 'data_files'):\n",
    "    # Request from API\n",
    "    url = f'https://www.alphavantage.co/query?function=EARNINGS&symbol={stock_ticker}&apikey={AV_api_key}'\n",
    "    response = requests.get(url)\n",
    "    data = response.json()\n",
    "    quarterly_file =  stock_ticker + 'quarterlyEarnings.csv'\n",
    "    #annual_file =  stock_ticker + 'annualEarnings.csv'\n",
    "    quarterly_csv = os.path.join(data_folder, quarterly_file)\n",
    "    #annual_csv = os.path.join(data_folder, annual_file)\n",
    "    # Parse the response to get EPS data and save it as a CSV file\n",
    "    quarterly_earnings = data['quarterlyEarnings']\n",
    "    #annual_earnings = data['annualEarnings']\n",
    "    if not os.path.isfile(quarterly_csv):\n",
    "        with open(quarterly_csv, mode='w', newline='') as file:\n",
    "            writer = csv.writer(file)\n",
    "            writer.writerow(['Fiscal Date','Estimated EPS', 'Reported EPS'])  # Write header row\n",
    "            for earnings_data in quarterly_earnings:\n",
    "                fiscal_date = earnings_data['fiscalDateEnding']\n",
    "                estimated_eps = earnings_data['estimatedEPS']\n",
    "                reported_eps = earnings_data['reportedEPS']\n",
    "                writer.writerow([fiscal_date, estimated_eps, reported_eps])\n",
    "    else:\n",
    "        print(\"Quarterly Earnings CSV already present\")\n",
    "    # Report save\n",
    "        \n",
    "    print(f\" Quarterly Earnings data saved to {quarterly_csv}\")\n",
    "    \n",
    "    "
   ]
  },
  {
   "cell_type": "code",
   "execution_count": 7,
   "metadata": {},
   "outputs": [],
   "source": [
    "def BalanceSheetFromAlphaVantage(stock_ticker, data_folder = 'data_files'):\n",
    "    # Request from API\n",
    "    url = 'https://www.alphavantage.co/query?function=BALANCE_SHEET&symbol=IBM&apikey=demo'\n",
    "    response = requests.get(url)\n",
    "    data = response.json()\n",
    "    quarterly_file =  stock_ticker + 'quarterlyBalSheet.csv'\n",
    "    #annual_file =  stock_ticker + 'annualEarnings.csv'\n",
    "    quarterly_csv = os.path.join(data_folder, quarterly_file)\n",
    "    #annual_csv = os.path.join(data_folder, annual_file)\n",
    "    # Parse the response to get EPS data and save it as a CSV file\n",
    "    quarterly_reports = data['quarterlyReports']\n",
    "    #annual_earnings = data['annualEarnings']\n",
    "    if not os.path.isfile(quarterly_csv):\n",
    "        with open(quarterly_csv, mode='w', newline='') as file:\n",
    "            writer = csv.writer(file)\n",
    "            balance_sheet_items = list(quarterly_reports[0].keys())\n",
    "            writer.writerow(balance_sheet_items)  # Write header row\n",
    "            for report in quarterly_reports:\n",
    "                curr_row = []\n",
    "                for item in balance_sheet_items:\n",
    "                    curr_row.append(report[item])\n",
    "                writer.writerow(curr_row)\n",
    "    else:\n",
    "        print(\"Quarterly Earnings CSV already present\")\n",
    "    # Report save\n",
    "        \n",
    "    print(f\" Quarterly Earnings data saved to {quarterly_csv}\")\n",
    "    \n",
    "    "
   ]
  },
  {
   "cell_type": "markdown",
   "metadata": {},
   "source": [
    "## Fetching Initial Data"
   ]
  },
  {
   "cell_type": "markdown",
   "metadata": {},
   "source": [
    "### Sourced from yahoo"
   ]
  },
  {
   "cell_type": "code",
   "execution_count": 8,
   "metadata": {},
   "outputs": [],
   "source": [
    "START_DATE_yahoo =\"1990-01-01\"\n",
    "END_DATE_yahoo = \"2024-05-30\"\n",
    "\n",
    "# Larger Market trends \n",
    "\n",
    "# S&P 500\n",
    "sp500_ticker = '^GSPC'\n",
    "sp500_csv = '.\\data_files\\sp500_RawData.csv'\n",
    "START_DATE_sp500 = START_DATE_yahoo\n",
    "END_DATE_sp500 = END_DATE_yahoo\n",
    "\n",
    "# CBOE Volatility Index (VIX)\n",
    "vix_ticker = '^VIX'\n",
    "vix_csv = '.\\data_files\\VIX_RawData.csv'\n",
    "START_DATE_vix = START_DATE_yahoo\n",
    "END_DATE_vix = END_DATE_yahoo\n",
    "\n",
    "# Large Cap Stocks\n",
    "\n",
    "# Microsoft (MSFT)\n",
    "micro_ticker = 'MSFT'\n",
    "micro_csv = '.\\data_files\\MSFT_RawData.csv'\n",
    "micro_earnings_csv = '.\\data_files\\MSFTquarterlyEarnings.csv'\n",
    "micro_balSht_csv = '.\\data_files\\MSFTquarterlyBalSheet.csv'\n",
    "START_DATE_msft = START_DATE_yahoo\n",
    "END_DATE_msft = END_DATE_yahoo\n",
    "\n",
    "# General Electric (GE)\n",
    "general_elec_ticker = 'GE'\n",
    "ge_csv = '.\\data_files\\GE_RawData.csv'\n",
    "START_DATE_ge = START_DATE_yahoo\n",
    "END_DATE_ge = END_DATE_yahoo\n",
    "\n",
    "# Johnson and Johnson (JNJ)\n",
    "jj_ticker = 'JNJ'\n",
    "jj_csv = '.\\data_files\\JNJ_RawData.csv'\n",
    "jj_earnings_csv = '.\\data_files\\JNJquarterlyEarnings.csv'\n",
    "jj_balSht_csv = '.\\data_files\\JNJquarterlyBalSheet.csv'\n",
    "jj_dividend_csv = '.\\data_files\\JNJdividends.csv'\n",
    "START_DATE_jj = START_DATE_yahoo\n",
    "END_DATE_jj = END_DATE_yahoo\n",
    "\n",
    "# Coca Cola (KO)\n",
    "cc_ticker = 'KO'\n",
    "cc_csv = '.\\data_files\\KO_RawData.csv'\n",
    "START_DATE_cc = START_DATE_yahoo\n",
    "END_DATE_cc = END_DATE_yahoo\n"
   ]
  },
  {
   "cell_type": "markdown",
   "metadata": {},
   "source": [
    "## S&P 500 (representative of of larger market trends)"
   ]
  },
  {
   "cell_type": "code",
   "execution_count": 152,
   "metadata": {},
   "outputs": [
    {
     "name": "stdout",
     "output_type": "stream",
     "text": [
      "^GSPC data already saved in csv\n"
     ]
    }
   ],
   "source": [
    "#getYahoo(sp500_ticker, sp500_csv)"
   ]
  },
  {
   "cell_type": "markdown",
   "metadata": {},
   "source": [
    "## VIX (overall market volatility)"
   ]
  },
  {
   "cell_type": "code",
   "execution_count": 144,
   "metadata": {},
   "outputs": [
    {
     "name": "stdout",
     "output_type": "stream",
     "text": [
      "Retrieving ^VIX Data from Yahoo...\n"
     ]
    },
    {
     "name": "stderr",
     "output_type": "stream",
     "text": [
      "[*********************100%%**********************]  1 of 1 completed"
     ]
    },
    {
     "name": "stdout",
     "output_type": "stream",
     "text": [
      "saving data to csv\n"
     ]
    },
    {
     "name": "stderr",
     "output_type": "stream",
     "text": [
      "\n"
     ]
    }
   ],
   "source": [
    "#getYahoo(vix_ticker,vix_csv)"
   ]
  },
  {
   "cell_type": "markdown",
   "metadata": {},
   "source": [
    "## Johnson and Johnson Historical Stock Price"
   ]
  },
  {
   "cell_type": "code",
   "execution_count": 145,
   "metadata": {},
   "outputs": [
    {
     "name": "stdout",
     "output_type": "stream",
     "text": [
      "Retrieving JNJ Data from Yahoo...\n"
     ]
    },
    {
     "name": "stderr",
     "output_type": "stream",
     "text": [
      "[*********************100%%**********************]  1 of 1 completed"
     ]
    },
    {
     "name": "stdout",
     "output_type": "stream",
     "text": [
      "saving data to csv\n"
     ]
    },
    {
     "name": "stderr",
     "output_type": "stream",
     "text": [
      "\n"
     ]
    }
   ],
   "source": [
    "#getYahoo(jj_ticker, jj_csv)"
   ]
  },
  {
   "cell_type": "markdown",
   "metadata": {},
   "source": [
    "## Microsoft Historical Stock Price"
   ]
  },
  {
   "cell_type": "code",
   "execution_count": 146,
   "metadata": {},
   "outputs": [
    {
     "name": "stdout",
     "output_type": "stream",
     "text": [
      "Retrieving MSFT Data from Yahoo...\n"
     ]
    },
    {
     "name": "stderr",
     "output_type": "stream",
     "text": [
      "[*********************100%%**********************]  1 of 1 completed"
     ]
    },
    {
     "name": "stdout",
     "output_type": "stream",
     "text": [
      "saving data to csv\n"
     ]
    },
    {
     "name": "stderr",
     "output_type": "stream",
     "text": [
      "\n"
     ]
    }
   ],
   "source": [
    "#getYahoo(micro_ticker,micro_csv)"
   ]
  },
  {
   "cell_type": "markdown",
   "metadata": {},
   "source": [
    "## Dividend data"
   ]
  },
  {
   "cell_type": "code",
   "execution_count": 89,
   "metadata": {},
   "outputs": [],
   "source": [
    "#getDividends(jj_ticker)"
   ]
  },
  {
   "cell_type": "code",
   "execution_count": 92,
   "metadata": {},
   "outputs": [],
   "source": [
    "#getDividends(micro_ticker)"
   ]
  },
  {
   "cell_type": "markdown",
   "metadata": {},
   "source": [
    "# Alpha Vantage Accounting Data"
   ]
  },
  {
   "cell_type": "code",
   "execution_count": null,
   "metadata": {},
   "outputs": [],
   "source": [
    "#BalanceSheetFromAlphaVantage(stock_ticker=micro_ticker)\n",
    "#GetEarningsFromAlphaVantage(stock_ticker= micro_ticker)"
   ]
  },
  {
   "cell_type": "code",
   "execution_count": 77,
   "metadata": {
    "scrolled": true
   },
   "outputs": [
    {
     "name": "stdout",
     "output_type": "stream",
     "text": [
      " Quarterly Earnings data saved to data_files\\JNJquarterlyBalSheet.csv\n",
      " Quarterly Earnings data saved to data_files\\JNJquarterlyEarnings.csv\n"
     ]
    }
   ],
   "source": [
    "#BalanceSheetFromAlphaVantage(stock_ticker=jj_ticker)\n",
    "#GetEarningsFromAlphaVantage(stock_ticker= jj_ticker)"
   ]
  },
  {
   "cell_type": "markdown",
   "metadata": {},
   "source": [
    "# FROM CSVs Create Collated Data Frame\n",
    "\n",
    "Features to Extract:\n",
    "\n",
    "    - reported Earnings Per Share\n",
    "    - Total Assets\n",
    "    - Accruals \n",
    "    - Equity Ratio \n",
    "    - Cash Dividends Paid Since last Quarter\n",
    "    - VIX Lagged By By several steps out\n",
    "        - Can achieve some granularity this way despite looking to make quarterly predictions for earnings\n",
    "    - S&P Lagged for several steps \n",
    "        - Can provide information on how it has moved over the last several weeks not just quarter to quarter snapshots "
   ]
  },
  {
   "cell_type": "code",
   "execution_count": 9,
   "metadata": {},
   "outputs": [
    {
     "data": {
      "text/html": [
       "<div>\n",
       "<style scoped>\n",
       "    .dataframe tbody tr th:only-of-type {\n",
       "        vertical-align: middle;\n",
       "    }\n",
       "\n",
       "    .dataframe tbody tr th {\n",
       "        vertical-align: top;\n",
       "    }\n",
       "\n",
       "    .dataframe thead th {\n",
       "        text-align: right;\n",
       "    }\n",
       "</style>\n",
       "<table border=\"1\" class=\"dataframe\">\n",
       "  <thead>\n",
       "    <tr style=\"text-align: right;\">\n",
       "      <th></th>\n",
       "      <th>Daily_Return_percent_SP</th>\n",
       "      <th>Daily_Return_percent_VIX</th>\n",
       "      <th>Dividends</th>\n",
       "      <th>Volume</th>\n",
       "      <th>Daily_Return_percent</th>\n",
       "      <th>Estimated EPS</th>\n",
       "      <th>Reported EPS</th>\n",
       "      <th>totalAssets</th>\n",
       "      <th>Equity Ratio</th>\n",
       "    </tr>\n",
       "    <tr>\n",
       "      <th>Date</th>\n",
       "      <th></th>\n",
       "      <th></th>\n",
       "      <th></th>\n",
       "      <th></th>\n",
       "      <th></th>\n",
       "      <th></th>\n",
       "      <th></th>\n",
       "      <th></th>\n",
       "      <th></th>\n",
       "    </tr>\n",
       "  </thead>\n",
       "  <tbody>\n",
       "    <tr>\n",
       "      <th>1990-01-02</th>\n",
       "      <td>0.017799</td>\n",
       "      <td>0.0</td>\n",
       "      <td>NaN</td>\n",
       "      <td>NaN</td>\n",
       "      <td>NaN</td>\n",
       "      <td>NaN</td>\n",
       "      <td>NaN</td>\n",
       "      <td>NaN</td>\n",
       "      <td>NaN</td>\n",
       "    </tr>\n",
       "    <tr>\n",
       "      <th>1990-01-03</th>\n",
       "      <td>-0.002586</td>\n",
       "      <td>0.0</td>\n",
       "      <td>NaN</td>\n",
       "      <td>NaN</td>\n",
       "      <td>NaN</td>\n",
       "      <td>NaN</td>\n",
       "      <td>NaN</td>\n",
       "      <td>NaN</td>\n",
       "      <td>NaN</td>\n",
       "    </tr>\n",
       "    <tr>\n",
       "      <th>1990-01-04</th>\n",
       "      <td>-0.008613</td>\n",
       "      <td>0.0</td>\n",
       "      <td>NaN</td>\n",
       "      <td>NaN</td>\n",
       "      <td>NaN</td>\n",
       "      <td>NaN</td>\n",
       "      <td>NaN</td>\n",
       "      <td>NaN</td>\n",
       "      <td>NaN</td>\n",
       "    </tr>\n",
       "    <tr>\n",
       "      <th>1990-01-05</th>\n",
       "      <td>-0.009756</td>\n",
       "      <td>0.0</td>\n",
       "      <td>NaN</td>\n",
       "      <td>NaN</td>\n",
       "      <td>NaN</td>\n",
       "      <td>NaN</td>\n",
       "      <td>NaN</td>\n",
       "      <td>NaN</td>\n",
       "      <td>NaN</td>\n",
       "    </tr>\n",
       "    <tr>\n",
       "      <th>1990-01-08</th>\n",
       "      <td>0.004514</td>\n",
       "      <td>0.0</td>\n",
       "      <td>NaN</td>\n",
       "      <td>NaN</td>\n",
       "      <td>NaN</td>\n",
       "      <td>NaN</td>\n",
       "      <td>NaN</td>\n",
       "      <td>NaN</td>\n",
       "      <td>NaN</td>\n",
       "    </tr>\n",
       "  </tbody>\n",
       "</table>\n",
       "</div>"
      ],
      "text/plain": [
       "            Daily_Return_percent_SP  Daily_Return_percent_VIX  Dividends  \\\n",
       "Date                                                                       \n",
       "1990-01-02                 0.017799                       0.0        NaN   \n",
       "1990-01-03                -0.002586                       0.0        NaN   \n",
       "1990-01-04                -0.008613                       0.0        NaN   \n",
       "1990-01-05                -0.009756                       0.0        NaN   \n",
       "1990-01-08                 0.004514                       0.0        NaN   \n",
       "\n",
       "            Volume  Daily_Return_percent  Estimated EPS  Reported EPS  \\\n",
       "Date                                                                    \n",
       "1990-01-02     NaN                   NaN            NaN           NaN   \n",
       "1990-01-03     NaN                   NaN            NaN           NaN   \n",
       "1990-01-04     NaN                   NaN            NaN           NaN   \n",
       "1990-01-05     NaN                   NaN            NaN           NaN   \n",
       "1990-01-08     NaN                   NaN            NaN           NaN   \n",
       "\n",
       "            totalAssets  Equity Ratio  \n",
       "Date                                   \n",
       "1990-01-02          NaN           NaN  \n",
       "1990-01-03          NaN           NaN  \n",
       "1990-01-04          NaN           NaN  \n",
       "1990-01-05          NaN           NaN  \n",
       "1990-01-08          NaN           NaN  "
      ]
     },
     "execution_count": 9,
     "metadata": {},
     "output_type": "execute_result"
    }
   ],
   "source": [
    "Market_Features_to_drop = ['Volume','High','Low','Adj Close']\n",
    "Balance_sheet_features_to_keep = ['totalAssets','totalShareholderEquity']\n",
    "\n",
    "# Get Price Data\n",
    "SP500_raw_df = pd.read_csv(sp500_csv, index_col = 'Date')\n",
    "VIX_raw_df = pd.read_csv(vix_csv, index_col = 'Date')\n",
    "JJ_raw_price_df = pd.read_csv(jj_csv, index_col = 'Date')\n",
    "\n",
    "# Get Quarterly Data\n",
    "JJ_Earnings_df = pd.read_csv(jj_earnings_csv)\n",
    "JJ_Earnings_df['Date'] = pd.to_datetime(JJ_Earnings_df['Fiscal Date'])\n",
    "JJ_Earnings_df.drop(columns = ['Fiscal Date'], inplace = True)\n",
    "JJ_Earnings_df.set_index('Date', inplace = True)\n",
    "JJ_Earnings_df =  JJ_Earnings_df.iloc[::-1]\n",
    "\n",
    "JJ_BalSht_df = pd.read_csv(jj_balSht_csv)\n",
    "JJ_BalSht_df['Date'] = pd.to_datetime(JJ_BalSht_df['fiscalDateEnding'])\n",
    "JJ_BalSht_df.drop(columns = ['fiscalDateEnding'], inplace = True)\n",
    "JJ_BalSht_df.set_index('Date', inplace = True)\n",
    "JJ_BalSht_df =  JJ_BalSht_df.iloc[::-1]\n",
    "\n",
    "# get Dividend Data\n",
    "JJ_dividend_df = pd.read_csv(jj_dividend_csv)\n",
    "JJ_dividend_df['Date'] = JJ_dividend_df['Date'].str.split().str[0]\n",
    "JJ_dividend_df.set_index('Date', inplace = True)\n",
    "\n",
    "# drop market feature form S&P and VIX\n",
    "SP500_raw_df.drop(columns= Market_Features_to_drop, inplace= True)\n",
    "VIX_raw_df.drop(columns=Market_Features_to_drop, inplace= True)\n",
    "\n",
    "# drop high and low\n",
    "JJ_raw_price_df.drop(columns=['High','Adj Close', 'Low'], inplace=True)\n",
    "\n",
    "# Calculate daily return\n",
    "SP500_raw_df['Daily_Return_dollars'] = SP500_raw_df['Close'] - SP500_raw_df['Open']\n",
    "VIX_raw_df['Daily_Return_dollars'] = VIX_raw_df['Close'] - VIX_raw_df['Open']\n",
    "\n",
    "SP500_raw_df['Daily_Return_percent'] = SP500_raw_df['Daily_Return_dollars']/SP500_raw_df['Open']\n",
    "VIX_raw_df['Daily_Return_percent'] = VIX_raw_df['Daily_Return_dollars']/VIX_raw_df['Open']\n",
    "\n",
    "JJ_raw_price_df['Daily_Return_dollars'] = JJ_raw_price_df['Close'] - JJ_raw_price_df['Open']\n",
    "JJ_raw_price_df['Daily_Return_percent'] = JJ_raw_price_df['Daily_Return_dollars']/JJ_raw_price_df['Open']\n",
    "\n",
    "# drop open and close\n",
    "JJ_raw_price_df.drop(columns=['Open','Close','Daily_Return_dollars'], inplace = True)\n",
    "SP500_raw_df.drop(columns=['Open','Close','Daily_Return_dollars'], inplace = True)\n",
    "VIX_raw_df.drop(columns=['Open','Close','Daily_Return_dollars'], inplace = True)\n",
    "\n",
    "# Balance Sheet Features\n",
    "JJ_Bal_Sheet_reduced_df = JJ_BalSht_df.loc[:,Balance_sheet_features_to_keep]\n",
    "JJ_Bal_Sheet_reduced_df['Equity Ratio'] = JJ_Bal_Sheet_reduced_df['totalShareholderEquity'] /JJ_Bal_Sheet_reduced_df['totalAssets']\n",
    "JJ_Bal_Sheet_reduced_df.drop(columns=['totalShareholderEquity'], inplace = True)\n",
    "\n",
    "# JJ merge\n",
    "JJ_market_df = JJ_dividend_df.merge(JJ_raw_price_df, left_index=True, right_index=True)\n",
    "JJ_market_df.index = pd.to_datetime(JJ_market_df.index)\n",
    "JJ_earnbal_df = JJ_Earnings_df.merge(JJ_Bal_Sheet_reduced_df, left_index = True, right_index = True)\n",
    "JJ_merge_df = JJ_market_df.merge(JJ_earnbal_df,how = 'outer', left_index= True, right_index= True)\n",
    "\n",
    "# Merge Raw Data\n",
    "market_df = SP500_raw_df.merge(VIX_raw_df, left_index=True, right_index=True,suffixes=('_SP','_VIX'))\n",
    "market_df.index = pd.to_datetime(market_df.index)\n",
    "\n",
    "merged_df = market_df.merge(JJ_merge_df, how = 'outer', left_index= True, right_index= True)\n",
    "# Display Data Frame Head\n",
    "merged_df.head()"
   ]
  },
  {
   "cell_type": "markdown",
   "metadata": {},
   "source": [
    "# Summary of the Final Features/ Target and train test split"
   ]
  },
  {
   "cell_type": "markdown",
   "metadata": {},
   "source": [
    "# RNN (Franco)\n",
    "\n",
    "## Why this model for this problem\n",
    "\n",
    "* Recurrent nerual networks are specifically designed to handle sequential data, ideal for time-series forecasting. gated neural networks like the LSTM offer nuanced pattern recognition and adapt to macroeconomic trends and cycles over time."
   ]
  },
  {
   "cell_type": "markdown",
   "metadata": {},
   "source": [
    "## Model Architecture\n",
    "\n",
    "Our RNN will utilize a Long Short Term Memory Model, as justified by its advantages for time series."
   ]
  },
  {
   "cell_type": "code",
   "execution_count": 10,
   "metadata": {},
   "outputs": [],
   "source": [
    "from sklearn.preprocessing import StandardScaler\n",
    "\n",
    "batch_size = 64\n",
    "n_steps = 4\n",
    "n_features = merged_df.shape[1]\n",
    "\n",
    "# `merged_df` needs numeric types no missing values\n",
    "data = merged_df.values\n",
    "\n",
    "# Normalize features\n",
    "scaler = StandardScaler()\n",
    "data_scaled = scaler.fit_transform(data)\n",
    "\n",
    "# Reshape data to fit the RNN input shape\n",
    "def create_sequences(data, n_steps):\n",
    "    X, y = [], []\n",
    "    for i in range(n_steps, len(data)):\n",
    "        X.append(data[i-n_steps:i, :])\n",
    "        y.append(data[i, 0])  \n",
    "    return np.array(X), np.array(y)\n",
    "\n",
    "X, y = create_sequences(data_scaled, n_steps)\n",
    "\n",
    "# Split the dataset\n",
    "train_size = int(0.8 * len(X))\n",
    "X_train, X_test = X[:train_size], X[train_size:]\n",
    "y_train, y_test = y[:train_size], y[train_size:]\n"
   ]
  },
  {
   "cell_type": "code",
   "execution_count": 16,
   "metadata": {},
   "outputs": [
    {
     "name": "stderr",
     "output_type": "stream",
     "text": [
      "C:\\Users\\franc\\AppData\\Local\\Packages\\PythonSoftwareFoundation.Python.3.11_qbz5n2kfra8p0\\LocalCache\\local-packages\\Python311\\site-packages\\keras\\src\\layers\\rnn\\rnn.py:204: UserWarning: Do not pass an `input_shape`/`input_dim` argument to a layer. When using Sequential models, prefer using an `Input(shape)` object as the first layer in the model instead.\n",
      "  super().__init__(**kwargs)\n"
     ]
    }
   ],
   "source": [
    "import tensorflow as tf\n",
    "from tensorflow.keras.models import Sequential\n",
    "from tensorflow.keras.layers import LSTM, Dense, Dropout\n",
    "\n",
    "# Model configuration\n",
    "n_steps = 50  # number of timesteps you choose based on data\n",
    "n_features = merged_df.shape[1]  # number of features in your data\n",
    "\n",
    "# Define the RNN model\n",
    "model = Sequential([\n",
    "    LSTM(50, activation='tanh', input_shape=(n_steps, n_features), return_sequences=True),\n",
    "    Dropout(0.2),\n",
    "    LSTM(50, activation='tanh'),\n",
    "    Dropout(0.2),\n",
    "    Dense(1)\n",
    "])"
   ]
  },
  {
   "cell_type": "code",
   "execution_count": 17,
   "metadata": {},
   "outputs": [],
   "source": [
    "# Compile the model using SGD\n",
    "sgd_optimizer = tf.keras.optimizers.SGD(learning_rate=0.01, momentum=0.9)\n",
    "model.compile(optimizer=sgd_optimizer, loss='mean_squared_error')\n"
   ]
  },
  {
   "cell_type": "code",
   "execution_count": 18,
   "metadata": {},
   "outputs": [],
   "source": [
    "from sklearn.preprocessing import StandardScaler\n",
    "scaler = StandardScaler()\n",
    "data_scaled = scaler.fit_transform(merged_df.values)  # Assuming merged_df is your complete dataset\n",
    "\n",
    "def create_sequences(data, n_steps):\n",
    "    X, y = [], []\n",
    "    for i in range(n_steps, len(data)):\n",
    "        X.append(data[i-n_steps:i, :])\n",
    "        y.append(data[i, 0])  # Assuming the first column is the target variable\n",
    "    return np.array(X), np.array(y)\n",
    "\n",
    "X, y = create_sequences(data_scaled, n_steps)\n",
    "\n",
    "# Split the data into training and test sets\n",
    "train_size = int(0.8 * len(X))\n",
    "X_train, X_test = X[:train_size], X[train_size:]\n",
    "y_train, y_test = y[:train_size], y[train_size:]\n"
   ]
  },
  {
   "cell_type": "code",
   "execution_count": 20,
   "metadata": {},
   "outputs": [
    {
     "name": "stdout",
     "output_type": "stream",
     "text": [
      "Epoch 1/5\n",
      "\u001b[1m173/173\u001b[0m \u001b[32m━━━━━━━━━━━━━━━━━━━━\u001b[0m\u001b[37m\u001b[0m \u001b[1m3s\u001b[0m 15ms/step - loss: nan - val_loss: nan\n",
      "Epoch 2/5\n",
      "\u001b[1m173/173\u001b[0m \u001b[32m━━━━━━━━━━━━━━━━━━━━\u001b[0m\u001b[37m\u001b[0m \u001b[1m3s\u001b[0m 15ms/step - loss: nan - val_loss: nan\n",
      "Epoch 3/5\n",
      "\u001b[1m173/173\u001b[0m \u001b[32m━━━━━━━━━━━━━━━━━━━━\u001b[0m\u001b[37m\u001b[0m \u001b[1m3s\u001b[0m 15ms/step - loss: nan - val_loss: nan\n",
      "Epoch 4/5\n",
      "\u001b[1m173/173\u001b[0m \u001b[32m━━━━━━━━━━━━━━━━━━━━\u001b[0m\u001b[37m\u001b[0m \u001b[1m3s\u001b[0m 15ms/step - loss: nan - val_loss: nan\n",
      "Epoch 5/5\n",
      "\u001b[1m173/173\u001b[0m \u001b[32m━━━━━━━━━━━━━━━━━━━━\u001b[0m\u001b[37m\u001b[0m \u001b[1m3s\u001b[0m 15ms/step - loss: nan - val_loss: nan\n"
     ]
    }
   ],
   "source": [
    "history = model.fit(X_train, y_train, epochs=5, batch_size=32, verbose=1, validation_split=0.2)\n"
   ]
  },
  {
   "cell_type": "code",
   "execution_count": 21,
   "metadata": {},
   "outputs": [
    {
     "name": "stdout",
     "output_type": "stream",
     "text": [
      "\u001b[1m54/54\u001b[0m \u001b[32m━━━━━━━━━━━━━━━━━━━━\u001b[0m\u001b[37m\u001b[0m \u001b[1m0s\u001b[0m 4ms/step - loss: nan\n",
      "Test Loss: nan\n"
     ]
    }
   ],
   "source": [
    "# Evaluate the model\n",
    "test_loss = model.evaluate(X_test, y_test)\n",
    "print(f'Test Loss: {test_loss}')"
   ]
  },
  {
   "cell_type": "code",
   "execution_count": 33,
   "metadata": {},
   "outputs": [
    {
     "name": "stdout",
     "output_type": "stream",
     "text": [
      "\u001b[1m54/54\u001b[0m \u001b[32m━━━━━━━━━━━━━━━━━━━━\u001b[0m\u001b[37m\u001b[0m \u001b[1m0s\u001b[0m 4ms/step\n"
     ]
    },
    {
     "data": {
      "image/png": "[encoded data removed]",
      "text/plain": [
       "<Figure size 1000x600 with 1 Axes>"
      ]
     },
     "metadata": {},
     "output_type": "display_data"
    }
   ],
   "source": [
    "import matplotlib.pyplot as plt\n",
    "\n",
    "# Predicting\n",
    "predicted_values = model.predict(X_test)\n",
    "plt.figure(figsize=(10, 6))\n",
    "plt.plot(y_test, label='True Values')\n",
    "plt.plot(predicted_values, label='Predicted Values')\n",
    "plt.title('Comparison of Actual and Predicted Values')\n",
    "plt.legend()\n",
    "plt.show()"
   ]
  },
  {
   "cell_type": "code",
   "execution_count": 28,
   "metadata": {},
   "outputs": [
    {
     "name": "stderr",
     "output_type": "stream",
     "text": [
      "C:\\Users\\franc\\AppData\\Local\\Packages\\PythonSoftwareFoundation.Python.3.11_qbz5n2kfra8p0\\LocalCache\\local-packages\\Python311\\site-packages\\keras\\src\\layers\\rnn\\rnn.py:204: UserWarning: Do not pass an `input_shape`/`input_dim` argument to a layer. When using Sequential models, prefer using an `Input(shape)` object as the first layer in the model instead.\n",
      "  super().__init__(**kwargs)\n"
     ]
    },
    {
     "data": {
      "text/html": [
       "<pre style=\"white-space:pre;overflow-x:auto;line-height:normal;font-family:Menlo,'DejaVu Sans Mono',consolas,'Courier New',monospace\"><span style=\"font-weight: bold\">Model: \"sequential_2\"</span>\n",
       "</pre>\n"
      ],
      "text/plain": [
       "\u001b[1mModel: \"sequential_2\"\u001b[0m\n"
      ]
     },
     "metadata": {},
     "output_type": "display_data"
    },
    {
     "data": {
      "text/html": [
       "<pre style=\"white-space:pre;overflow-x:auto;line-height:normal;font-family:Menlo,'DejaVu Sans Mono',consolas,'Courier New',monospace\">┏━━━━━━━━━━━━━━━━━━━━━━━━━━━━━━━━━┳━━━━━━━━━━━━━━━━━━━━━━━━┳━━━━━━━━━━━━━━━┓\n",
       "┃<span style=\"font-weight: bold\"> Layer (type)                    </span>┃<span style=\"font-weight: bold\"> Output Shape           </span>┃<span style=\"font-weight: bold\">       Param # </span>┃\n",
       "┡━━━━━━━━━━━━━━━━━━━━━━━━━━━━━━━━━╇━━━━━━━━━━━━━━━━━━━━━━━━╇━━━━━━━━━━━━━━━┩\n",
       "│ lstm_4 (<span style=\"color: #0087ff; text-decoration-color: #0087ff\">LSTM</span>)                   │ (<span style=\"color: #00d7ff; text-decoration-color: #00d7ff\">None</span>, <span style=\"color: #00af00; text-decoration-color: #00af00\">50</span>, <span style=\"color: #00af00; text-decoration-color: #00af00\">50</span>)         │        <span style=\"color: #00af00; text-decoration-color: #00af00\">12,000</span> │\n",
       "├─────────────────────────────────┼────────────────────────┼───────────────┤\n",
       "│ dropout_4 (<span style=\"color: #0087ff; text-decoration-color: #0087ff\">Dropout</span>)             │ (<span style=\"color: #00d7ff; text-decoration-color: #00d7ff\">None</span>, <span style=\"color: #00af00; text-decoration-color: #00af00\">50</span>, <span style=\"color: #00af00; text-decoration-color: #00af00\">50</span>)         │             <span style=\"color: #00af00; text-decoration-color: #00af00\">0</span> │\n",
       "├─────────────────────────────────┼────────────────────────┼───────────────┤\n",
       "│ lstm_5 (<span style=\"color: #0087ff; text-decoration-color: #0087ff\">LSTM</span>)                   │ (<span style=\"color: #00d7ff; text-decoration-color: #00d7ff\">None</span>, <span style=\"color: #00af00; text-decoration-color: #00af00\">50</span>)             │        <span style=\"color: #00af00; text-decoration-color: #00af00\">20,200</span> │\n",
       "├─────────────────────────────────┼────────────────────────┼───────────────┤\n",
       "│ dropout_5 (<span style=\"color: #0087ff; text-decoration-color: #0087ff\">Dropout</span>)             │ (<span style=\"color: #00d7ff; text-decoration-color: #00d7ff\">None</span>, <span style=\"color: #00af00; text-decoration-color: #00af00\">50</span>)             │             <span style=\"color: #00af00; text-decoration-color: #00af00\">0</span> │\n",
       "├─────────────────────────────────┼────────────────────────┼───────────────┤\n",
       "│ dense_2 (<span style=\"color: #0087ff; text-decoration-color: #0087ff\">Dense</span>)                 │ (<span style=\"color: #00d7ff; text-decoration-color: #00d7ff\">None</span>, <span style=\"color: #00af00; text-decoration-color: #00af00\">1</span>)              │            <span style=\"color: #00af00; text-decoration-color: #00af00\">51</span> │\n",
       "└─────────────────────────────────┴────────────────────────┴───────────────┘\n",
       "</pre>\n"
      ],
      "text/plain": [
       "┏━━━━━━━━━━━━━━━━━━━━━━━━━━━━━━━━━┳━━━━━━━━━━━━━━━━━━━━━━━━┳━━━━━━━━━━━━━━━┓\n",
       "┃\u001b[1m \u001b[0m\u001b[1mLayer (type)                   \u001b[0m\u001b[1m \u001b[0m┃\u001b[1m \u001b[0m\u001b[1mOutput Shape          \u001b[0m\u001b[1m \u001b[0m┃\u001b[1m \u001b[0m\u001b[1m      Param #\u001b[0m\u001b[1m \u001b[0m┃\n",
       "┡━━━━━━━━━━━━━━━━━━━━━━━━━━━━━━━━━╇━━━━━━━━━━━━━━━━━━━━━━━━╇━━━━━━━━━━━━━━━┩\n",
       "│ lstm_4 (\u001b[38;5;33mLSTM\u001b[0m)                   │ (\u001b[38;5;45mNone\u001b[0m, \u001b[38;5;34m50\u001b[0m, \u001b[38;5;34m50\u001b[0m)         │        \u001b[38;5;34m12,000\u001b[0m │\n",
       "├─────────────────────────────────┼────────────────────────┼───────────────┤\n",
       "│ dropout_4 (\u001b[38;5;33mDropout\u001b[0m)             │ (\u001b[38;5;45mNone\u001b[0m, \u001b[38;5;34m50\u001b[0m, \u001b[38;5;34m50\u001b[0m)         │             \u001b[38;5;34m0\u001b[0m │\n",
       "├─────────────────────────────────┼────────────────────────┼───────────────┤\n",
       "│ lstm_5 (\u001b[38;5;33mLSTM\u001b[0m)                   │ (\u001b[38;5;45mNone\u001b[0m, \u001b[38;5;34m50\u001b[0m)             │        \u001b[38;5;34m20,200\u001b[0m │\n",
       "├─────────────────────────────────┼────────────────────────┼───────────────┤\n",
       "│ dropout_5 (\u001b[38;5;33mDropout\u001b[0m)             │ (\u001b[38;5;45mNone\u001b[0m, \u001b[38;5;34m50\u001b[0m)             │             \u001b[38;5;34m0\u001b[0m │\n",
       "├─────────────────────────────────┼────────────────────────┼───────────────┤\n",
       "│ dense_2 (\u001b[38;5;33mDense\u001b[0m)                 │ (\u001b[38;5;45mNone\u001b[0m, \u001b[38;5;34m1\u001b[0m)              │            \u001b[38;5;34m51\u001b[0m │\n",
       "└─────────────────────────────────┴────────────────────────┴───────────────┘\n"
      ]
     },
     "metadata": {},
     "output_type": "display_data"
    },
    {
     "data": {
      "text/html": [
       "<pre style=\"white-space:pre;overflow-x:auto;line-height:normal;font-family:Menlo,'DejaVu Sans Mono',consolas,'Courier New',monospace\"><span style=\"font-weight: bold\"> Total params: </span><span style=\"color: #00af00; text-decoration-color: #00af00\">32,251</span> (125.98 KB)\n",
       "</pre>\n"
      ],
      "text/plain": [
       "\u001b[1m Total params: \u001b[0m\u001b[38;5;34m32,251\u001b[0m (125.98 KB)\n"
      ]
     },
     "metadata": {},
     "output_type": "display_data"
    },
    {
     "data": {
      "text/html": [
       "<pre style=\"white-space:pre;overflow-x:auto;line-height:normal;font-family:Menlo,'DejaVu Sans Mono',consolas,'Courier New',monospace\"><span style=\"font-weight: bold\"> Trainable params: </span><span style=\"color: #00af00; text-decoration-color: #00af00\">32,251</span> (125.98 KB)\n",
       "</pre>\n"
      ],
      "text/plain": [
       "\u001b[1m Trainable params: \u001b[0m\u001b[38;5;34m32,251\u001b[0m (125.98 KB)\n"
      ]
     },
     "metadata": {},
     "output_type": "display_data"
    },
    {
     "data": {
      "text/html": [
       "<pre style=\"white-space:pre;overflow-x:auto;line-height:normal;font-family:Menlo,'DejaVu Sans Mono',consolas,'Courier New',monospace\"><span style=\"font-weight: bold\"> Non-trainable params: </span><span style=\"color: #00af00; text-decoration-color: #00af00\">0</span> (0.00 B)\n",
       "</pre>\n"
      ],
      "text/plain": [
       "\u001b[1m Non-trainable params: \u001b[0m\u001b[38;5;34m0\u001b[0m (0.00 B)\n"
      ]
     },
     "metadata": {},
     "output_type": "display_data"
    }
   ],
   "source": [
    "import tensorflow as tf\n",
    "from tensorflow.keras.models import Sequential\n",
    "from tensorflow.keras.layers import LSTM, Dense, Dropout\n",
    "\n",
    "# Model configuration - these need to be adjusted based on your dataset\n",
    "n_steps = 50  # This should match the number of timesteps you decided to use in your sequences\n",
    "n_features = merged_df.shape[1]  # Number of features in your dataset\n",
    "\n",
    "# Define the RNN model\n",
    "model = Sequential([\n",
    "    LSTM(50, activation='tanh', input_shape=(n_steps, n_features), return_sequences=True),\n",
    "    Dropout(0.2),\n",
    "    LSTM(50, activation='tanh'),\n",
    "    Dropout(0.2),\n",
    "    Dense(1)  # Output layer - assumes a single output per sequence\n",
    "])\n",
    "\n",
    "# Display model summary to verify its structure\n",
    "model.summary()\n"
   ]
  },
  {
   "cell_type": "code",
   "execution_count": 29,
   "metadata": {},
   "outputs": [],
   "source": [
    "# Compile the model using SGD optimizer\n",
    "sgd_optimizer = tf.keras.optimizers.SGD(learning_rate=0.01, momentum=0.9)\n",
    "model.compile(optimizer=sgd_optimizer, loss='mean_squared_error')\n"
   ]
  },
  {
   "cell_type": "code",
   "execution_count": 32,
   "metadata": {},
   "outputs": [
    {
     "name": "stdout",
     "output_type": "stream",
     "text": [
      "Epoch 1/40\n",
      "\u001b[1m173/173\u001b[0m \u001b[32m━━━━━━━━━━━━━━━━━━━━\u001b[0m\u001b[37m\u001b[0m \u001b[1m3s\u001b[0m 15ms/step - loss: 1.1576 - val_loss: 0.4789\n",
      "Epoch 2/40\n",
      "\u001b[1m173/173\u001b[0m \u001b[32m━━━━━━━━━━━━━━━━━━━━\u001b[0m\u001b[37m\u001b[0m \u001b[1m3s\u001b[0m 15ms/step - loss: 1.1813 - val_loss: 0.4773\n",
      "Epoch 3/40\n",
      "\u001b[1m173/173\u001b[0m \u001b[32m━━━━━━━━━━━━━━━━━━━━\u001b[0m\u001b[37m\u001b[0m \u001b[1m3s\u001b[0m 15ms/step - loss: 1.1143 - val_loss: 0.4818\n",
      "Epoch 4/40\n",
      "\u001b[1m173/173\u001b[0m \u001b[32m━━━━━━━━━━━━━━━━━━━━\u001b[0m\u001b[37m\u001b[0m \u001b[1m3s\u001b[0m 15ms/step - loss: 1.1821 - val_loss: 0.4781\n",
      "Epoch 5/40\n",
      "\u001b[1m173/173\u001b[0m \u001b[32m━━━━━━━━━━━━━━━━━━━━\u001b[0m\u001b[37m\u001b[0m \u001b[1m3s\u001b[0m 16ms/step - loss: 1.1402 - val_loss: 0.4807\n",
      "Epoch 6/40\n",
      "\u001b[1m173/173\u001b[0m \u001b[32m━━━━━━━━━━━━━━━━━━━━\u001b[0m\u001b[37m\u001b[0m \u001b[1m3s\u001b[0m 14ms/step - loss: 1.1693 - val_loss: 0.4791\n",
      "Epoch 7/40\n",
      "\u001b[1m173/173\u001b[0m \u001b[32m━━━━━━━━━━━━━━━━━━━━\u001b[0m\u001b[37m\u001b[0m \u001b[1m3s\u001b[0m 15ms/step - loss: 1.2050 - val_loss: 0.4777\n",
      "Epoch 8/40\n",
      "\u001b[1m173/173\u001b[0m \u001b[32m━━━━━━━━━━━━━━━━━━━━\u001b[0m\u001b[37m\u001b[0m \u001b[1m3s\u001b[0m 15ms/step - loss: 1.1937 - val_loss: 0.4773\n",
      "Epoch 9/40\n",
      "\u001b[1m173/173\u001b[0m \u001b[32m━━━━━━━━━━━━━━━━━━━━\u001b[0m\u001b[37m\u001b[0m \u001b[1m3s\u001b[0m 15ms/step - loss: 1.1945 - val_loss: 0.4782\n",
      "Epoch 10/40\n",
      "\u001b[1m173/173\u001b[0m \u001b[32m━━━━━━━━━━━━━━━━━━━━\u001b[0m\u001b[37m\u001b[0m \u001b[1m3s\u001b[0m 15ms/step - loss: 1.2149 - val_loss: 0.4876\n",
      "Epoch 11/40\n",
      "\u001b[1m173/173\u001b[0m \u001b[32m━━━━━━━━━━━━━━━━━━━━\u001b[0m\u001b[37m\u001b[0m \u001b[1m3s\u001b[0m 15ms/step - loss: 1.1899 - val_loss: 0.4783\n",
      "Epoch 12/40\n",
      "\u001b[1m173/173\u001b[0m \u001b[32m━━━━━━━━━━━━━━━━━━━━\u001b[0m\u001b[37m\u001b[0m \u001b[1m3s\u001b[0m 16ms/step - loss: 1.2398 - val_loss: 0.4912\n",
      "Epoch 13/40\n",
      "\u001b[1m173/173\u001b[0m \u001b[32m━━━━━━━━━━━━━━━━━━━━\u001b[0m\u001b[37m\u001b[0m \u001b[1m3s\u001b[0m 15ms/step - loss: 1.2301 - val_loss: 0.4809\n",
      "Epoch 14/40\n",
      "\u001b[1m173/173\u001b[0m \u001b[32m━━━━━━━━━━━━━━━━━━━━\u001b[0m\u001b[37m\u001b[0m \u001b[1m3s\u001b[0m 15ms/step - loss: 1.1903 - val_loss: 0.4840\n",
      "Epoch 15/40\n",
      "\u001b[1m173/173\u001b[0m \u001b[32m━━━━━━━━━━━━━━━━━━━━\u001b[0m\u001b[37m\u001b[0m \u001b[1m3s\u001b[0m 15ms/step - loss: 1.2437 - val_loss: 0.4781\n",
      "Epoch 16/40\n",
      "\u001b[1m173/173\u001b[0m \u001b[32m━━━━━━━━━━━━━━━━━━━━\u001b[0m\u001b[37m\u001b[0m \u001b[1m3s\u001b[0m 15ms/step - loss: 1.1773 - val_loss: 0.4815\n",
      "Epoch 17/40\n",
      "\u001b[1m173/173\u001b[0m \u001b[32m━━━━━━━━━━━━━━━━━━━━\u001b[0m\u001b[37m\u001b[0m \u001b[1m3s\u001b[0m 15ms/step - loss: 1.1452 - val_loss: 0.4854\n",
      "Epoch 18/40\n",
      "\u001b[1m173/173\u001b[0m \u001b[32m━━━━━━━━━━━━━━━━━━━━\u001b[0m\u001b[37m\u001b[0m \u001b[1m3s\u001b[0m 15ms/step - loss: 1.1761 - val_loss: 0.4793\n",
      "Epoch 19/40\n",
      "\u001b[1m173/173\u001b[0m \u001b[32m━━━━━━━━━━━━━━━━━━━━\u001b[0m\u001b[37m\u001b[0m \u001b[1m3s\u001b[0m 15ms/step - loss: 1.2161 - val_loss: 0.4835\n",
      "Epoch 20/40\n",
      "\u001b[1m173/173\u001b[0m \u001b[32m━━━━━━━━━━━━━━━━━━━━\u001b[0m\u001b[37m\u001b[0m \u001b[1m3s\u001b[0m 15ms/step - loss: 1.1667 - val_loss: 0.4860\n",
      "Epoch 21/40\n",
      "\u001b[1m173/173\u001b[0m \u001b[32m━━━━━━━━━━━━━━━━━━━━\u001b[0m\u001b[37m\u001b[0m \u001b[1m3s\u001b[0m 15ms/step - loss: 1.1517 - val_loss: 0.4802\n",
      "Epoch 22/40\n",
      "\u001b[1m173/173\u001b[0m \u001b[32m━━━━━━━━━━━━━━━━━━━━\u001b[0m\u001b[37m\u001b[0m \u001b[1m3s\u001b[0m 15ms/step - loss: 1.1823 - val_loss: 0.4822\n",
      "Epoch 23/40\n",
      "\u001b[1m173/173\u001b[0m \u001b[32m━━━━━━━━━━━━━━━━━━━━\u001b[0m\u001b[37m\u001b[0m \u001b[1m3s\u001b[0m 15ms/step - loss: 1.2125 - val_loss: 0.4934\n",
      "Epoch 24/40\n",
      "\u001b[1m173/173\u001b[0m \u001b[32m━━━━━━━━━━━━━━━━━━━━\u001b[0m\u001b[37m\u001b[0m \u001b[1m3s\u001b[0m 15ms/step - loss: 1.1834 - val_loss: 0.4847\n",
      "Epoch 25/40\n",
      "\u001b[1m173/173\u001b[0m \u001b[32m━━━━━━━━━━━━━━━━━━━━\u001b[0m\u001b[37m\u001b[0m \u001b[1m3s\u001b[0m 15ms/step - loss: 1.2598 - val_loss: 0.5066\n",
      "Epoch 26/40\n",
      "\u001b[1m173/173\u001b[0m \u001b[32m━━━━━━━━━━━━━━━━━━━━\u001b[0m\u001b[37m\u001b[0m \u001b[1m3s\u001b[0m 15ms/step - loss: 1.1373 - val_loss: 0.4890\n",
      "Epoch 27/40\n",
      "\u001b[1m173/173\u001b[0m \u001b[32m━━━━━━━━━━━━━━━━━━━━\u001b[0m\u001b[37m\u001b[0m \u001b[1m3s\u001b[0m 15ms/step - loss: 1.1777 - val_loss: 0.4974\n",
      "Epoch 28/40\n",
      "\u001b[1m173/173\u001b[0m \u001b[32m━━━━━━━━━━━━━━━━━━━━\u001b[0m\u001b[37m\u001b[0m \u001b[1m3s\u001b[0m 15ms/step - loss: 1.1707 - val_loss: 0.4873\n",
      "Epoch 29/40\n",
      "\u001b[1m173/173\u001b[0m \u001b[32m━━━━━━━━━━━━━━━━━━━━\u001b[0m\u001b[37m\u001b[0m \u001b[1m3s\u001b[0m 15ms/step - loss: 1.1789 - val_loss: 0.5024\n",
      "Epoch 30/40\n",
      "\u001b[1m173/173\u001b[0m \u001b[32m━━━━━━━━━━━━━━━━━━━━\u001b[0m\u001b[37m\u001b[0m \u001b[1m3s\u001b[0m 15ms/step - loss: 1.2347 - val_loss: 0.5076\n",
      "Epoch 31/40\n",
      "\u001b[1m173/173\u001b[0m \u001b[32m━━━━━━━━━━━━━━━━━━━━\u001b[0m\u001b[37m\u001b[0m \u001b[1m3s\u001b[0m 15ms/step - loss: 1.1258 - val_loss: 0.5147\n",
      "Epoch 32/40\n",
      "\u001b[1m173/173\u001b[0m \u001b[32m━━━━━━━━━━━━━━━━━━━━\u001b[0m\u001b[37m\u001b[0m \u001b[1m3s\u001b[0m 15ms/step - loss: 1.1410 - val_loss: 0.5308\n",
      "Epoch 33/40\n",
      "\u001b[1m173/173\u001b[0m \u001b[32m━━━━━━━━━━━━━━━━━━━━\u001b[0m\u001b[37m\u001b[0m \u001b[1m3s\u001b[0m 15ms/step - loss: 1.1434 - val_loss: 0.5213\n",
      "Epoch 34/40\n",
      "\u001b[1m173/173\u001b[0m \u001b[32m━━━━━━━━━━━━━━━━━━━━\u001b[0m\u001b[37m\u001b[0m \u001b[1m3s\u001b[0m 15ms/step - loss: 1.1985 - val_loss: 0.5190\n",
      "Epoch 35/40\n",
      "\u001b[1m173/173\u001b[0m \u001b[32m━━━━━━━━━━━━━━━━━━━━\u001b[0m\u001b[37m\u001b[0m \u001b[1m3s\u001b[0m 15ms/step - loss: 1.1731 - val_loss: 0.5557\n",
      "Epoch 36/40\n",
      "\u001b[1m173/173\u001b[0m \u001b[32m━━━━━━━━━━━━━━━━━━━━\u001b[0m\u001b[37m\u001b[0m \u001b[1m3s\u001b[0m 15ms/step - loss: 1.1898 - val_loss: 0.5415\n",
      "Epoch 37/40\n",
      "\u001b[1m173/173\u001b[0m \u001b[32m━━━━━━━━━━━━━━━━━━━━\u001b[0m\u001b[37m\u001b[0m \u001b[1m3s\u001b[0m 15ms/step - loss: 1.1699 - val_loss: 0.6416\n",
      "Epoch 38/40\n",
      "\u001b[1m173/173\u001b[0m \u001b[32m━━━━━━━━━━━━━━━━━━━━\u001b[0m\u001b[37m\u001b[0m \u001b[1m3s\u001b[0m 15ms/step - loss: 1.1684 - val_loss: 0.6042\n",
      "Epoch 39/40\n",
      "\u001b[1m173/173\u001b[0m \u001b[32m━━━━━━━━━━━━━━━━━━━━\u001b[0m\u001b[37m\u001b[0m \u001b[1m3s\u001b[0m 15ms/step - loss: 1.1238 - val_loss: 0.6184\n",
      "Epoch 40/40\n",
      "\u001b[1m173/173\u001b[0m \u001b[32m━━━━━━━━━━━━━━━━━━━━\u001b[0m\u001b[37m\u001b[0m \u001b[1m3s\u001b[0m 15ms/step - loss: 1.1451 - val_loss: 0.6136\n"
     ]
    }
   ],
   "source": [
    "# Assuming X_train and y_train are already defined and properly shaped\n",
    "history = model.fit(X_train, y_train, epochs=40, batch_size=32, verbose=1, validation_split=0.2)"
   ]
  },
  {
   "cell_type": "markdown",
   "metadata": {},
   "source": [
    "## Model Specific Preprocessing "
   ]
  },
  {
   "cell_type": "markdown",
   "metadata": {},
   "source": [
    "## Model Specific Tuning"
   ]
  },
  {
   "cell_type": "markdown",
   "metadata": {},
   "source": [
    "## Model Evaluation"
   ]
  },
  {
   "cell_type": "markdown",
   "metadata": {},
   "source": [
    "## Fitted Model and Results\n",
    "    - Report on hyper parameters\n",
    "    - Report on fit quality\n",
    "    - Ideas on improvement if the model was continued to be"
   ]
  },
  {
   "cell_type": "markdown",
   "metadata": {},
   "source": [
    "## RNN results (Franco)\n"
   ]
  },
  {
   "cell_type": "markdown",
   "metadata": {},
   "source": [
    "# XGBoost (Hank)\n",
    "## Why this model for this problem\n",
    "## Model Architecture\n",
    "## Model Specific Preprocessing \n",
    "## Model Specific Tuning\n",
    "## Model Evaluation"
   ]
  },
  {
   "cell_type": "markdown",
   "metadata": {},
   "source": [
    "## Fitted Model and Results\n",
    "    - Report on hyper parameters\n",
    "    - Report on fit quality\n",
    "    - Ideas on improvement if the model was continued to be"
   ]
  },
  {
   "cell_type": "markdown",
   "metadata": {},
   "source": [
    "# Random Forest (Bhavesh)\n",
    "## Why this model for this problem\n",
    "## Model Architecture\n",
    "## Model Specific Preprocessing \n",
    "## Model Specific Tuning\n",
    "## Model Evaluation"
   ]
  },
  {
   "cell_type": "markdown",
   "metadata": {},
   "source": [
    "## Fitted Model and Results\n",
    "    - Report on hyper parameters\n",
    "    - Report on fit quality\n",
    "    - Ideas on improvement if the model was continued to be"
   ]
  },
  {
   "cell_type": "markdown",
   "metadata": {},
   "source": [
    "# Kmeans Regimes + Markov Chain (Kevin)\n",
    "## Why this model for this problem\n",
    "## Model Architecture\n",
    "## Model Specific Preprocessing \n",
    "## Model Specific Tuning\n",
    "## Model Evaluation"
   ]
  },
  {
   "cell_type": "markdown",
   "metadata": {},
   "source": [
    "## Fitted Model and Results\n",
    "    - Report on hyper parameters\n",
    "    - Report on fit quality\n",
    "    - Ideas on improvement if the model was continued to be"
   ]
  },
  {
   "cell_type": "code",
   "execution_count": null,
   "metadata": {},
   "outputs": [],
   "source": []
  }
 ],
 "metadata": {
  "kernelspec": {
   "display_name": "Python 3 (ipykernel)",
   "language": "python",
   "name": "python3"
  },
  "language_info": {
   "codemirror_mode": {
    "name": "ipython",
    "version": 3
   },
   "file_extension": ".py",
   "mimetype": "text/x-python",
   "name": "python",
   "nbconvert_exporter": "python",
   "pygments_lexer": "ipython3",
   "version": "3.11.9"
  }
 },
 "nbformat": 4,
 "nbformat_minor": 4
}
