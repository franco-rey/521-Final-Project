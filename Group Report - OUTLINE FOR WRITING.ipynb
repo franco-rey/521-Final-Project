{
 "cells": [
  {
   "cell_type": "markdown",
   "metadata": {},
   "source": [
    "# Machine Learning 521 Final Report\n",
    "## Predicting Quarterly Earnings per Share with Time Series Data\n",
    "#### RNN by Franco Rey\n",
    "#### Gradient Boosted Regressor Trees by Hank Beck\n",
    "#### Random Forest Regression by Bhavesh\n",
    "#### Kmean Regime Clustering and Markov Chain by Kevin"
   ]
  },
  {
   "cell_type": "markdown",
   "metadata": {},
   "source": [
    "# Introduction\n",
    "    - What is the problem?\n",
    "    - What are traditional methods for forecasting returns?\n",
    "    - What is the benefit of machine learning to this problem\n",
    "    - What models did we choose to explore"
   ]
  },
  {
   "cell_type": "markdown",
   "metadata": {},
   "source": [
    "\n",
    "# Data\n",
    "\n",
    "## Target\n",
    "    - Reported EPS\n",
    "    \n",
    "## Features\n",
    "    \n",
    "## Data Sources\n",
    "    - Yahoo finance\n",
    "    - Alpha Vantage\n",
    "    \n",
    "## Things that needed to be accounted for\n",
    "    - look ahead bias\n",
    "    - Information available when predictions are to be made\n",
    "    - Stationarity \n",
    "    - survivorship Bias\n",
    "    \n",
    "## Pros of the data set\n",
    "\n",
    "## Cons of dataset\n",
    "\n",
    "## Ways the dataset could be theorectically improved if more data available\n",
    "    - longer time period\n",
    "        "
   ]
  },
  {
   "cell_type": "markdown",
   "metadata": {},
   "source": [
    "# Data Fetching and Cleaning\n",
    "I will work here before merging with main so we have a backup in case someone messes up a merge with their independent branch"
   ]
  },
  {
   "cell_type": "code",
   "execution_count": 1,
   "metadata": {},
   "outputs": [],
   "source": [
    "# import modules\n",
    "import pandas as pd\n",
    "import pandas_datareader as pdr\n",
    "import requests\n",
    "import os\n",
    "from dotenv import load_dotenv\n",
    "import csv\n",
    "import numpy as np\n",
    "\n",
    "# Modules for fetching data\n",
    "import yfinance as yf"
   ]
  },
  {
   "cell_type": "code",
   "execution_count": 2,
   "metadata": {},
   "outputs": [],
   "source": [
    "load_dotenv()\n",
    "AV_api_key = os.getenv(\"ALPHA_VANTAGE_API_KEY\")"
   ]
  },
  {
   "cell_type": "markdown",
   "metadata": {},
   "source": [
    "## Helper functions"
   ]
  },
  {
   "cell_type": "markdown",
   "metadata": {},
   "source": [
    "### Data retrieval and cleanup helper functions"
   ]
  },
  {
   "cell_type": "code",
   "execution_count": 3,
   "metadata": {},
   "outputs": [],
   "source": [
    "\n",
    "def DeleteEmptyCSVs(CSVToCheck):\n",
    "    # Function to delete any csvs that were created by an attempted data retrieval\n",
    "    # but are empty of data\n",
    "    if os.path.isfile(CSVToCheck):\n",
    "        # Count the number of lines in the file\n",
    "        with open(CSVToCheck, 'r') as file:\n",
    "            reader = csv.reader(file)\n",
    "            line_count = sum(1 for row in reader)\n",
    "        \n",
    "        print(f\"The file {CSVToCheck} has {line_count} lines.\")\n",
    "\n",
    "        # Check if the line count is less 3 (header and empty line)\n",
    "        if line_count < 3:\n",
    "            print(f\"{CSVToCheck} seems empty. Deleting the file.\")\n",
    "            os.remove(CSVToCheck)\n",
    "        else:\n",
    "            print(f\"{CSVToCheck} seems to have data.\")\n",
    "    else:\n",
    "        print(f\"{CSVToCheck} does not exist.\")"
   ]
  },
  {
   "cell_type": "code",
   "execution_count": 4,
   "metadata": {},
   "outputs": [],
   "source": [
    "def getYahoo(tckr, tckr_csv):\n",
    "    \n",
    "    if not os.path.isfile(tckr_csv):\n",
    "        print(\"Retrieving \"+tckr+\" Data from Yahoo...\")\n",
    "        try:\n",
    "            tckr_data = yf.download(tckr, start=START_DATE_yahoo, end=END_DATE_yahoo)\n",
    "            print(\"saving data to csv\")\n",
    "            tckr_data.to_csv(tckr_csv)\n",
    "        except Exception as e:\n",
    "            print(f\"Failed to retrieve data: {e}\")\n",
    "    else:\n",
    "        print(tckr+\" data already saved in csv\")\n",
    "\n"
   ]
  },
  {
   "cell_type": "code",
   "execution_count": 5,
   "metadata": {},
   "outputs": [],
   "source": [
    "def getDividends(tckr):\n",
    "    ticker = yf.Ticker(tckr)\n",
    "    dividends_series = ticker.dividends\n",
    "    csvFile = '.\\data_files\\\\'\n",
    "    csvFile = csvFile + tckr + 'dividends.csv'\n",
    "    dividends_series.to_csv(csvFile)"
   ]
  },
  {
   "cell_type": "code",
   "execution_count": 6,
   "metadata": {},
   "outputs": [],
   "source": [
    "def GetEarningsFromAlphaVantage(stock_ticker, data_folder = 'data_files'):\n",
    "    # Request from API\n",
    "    url = f'https://www.alphavantage.co/query?function=EARNINGS&symbol={stock_ticker}&apikey={AV_api_key}'\n",
    "    response = requests.get(url)\n",
    "    data = response.json()\n",
    "    quarterly_file =  stock_ticker + 'quarterlyEarnings.csv'\n",
    "    #annual_file =  stock_ticker + 'annualEarnings.csv'\n",
    "    quarterly_csv = os.path.join(data_folder, quarterly_file)\n",
    "    #annual_csv = os.path.join(data_folder, annual_file)\n",
    "    # Parse the response to get EPS data and save it as a CSV file\n",
    "    quarterly_earnings = data['quarterlyEarnings']\n",
    "    #annual_earnings = data['annualEarnings']\n",
    "    if not os.path.isfile(quarterly_csv):\n",
    "        with open(quarterly_csv, mode='w', newline='') as file:\n",
    "            writer = csv.writer(file)\n",
    "            writer.writerow(['Fiscal Date','Estimated EPS', 'Reported EPS'])  # Write header row\n",
    "            for earnings_data in quarterly_earnings:\n",
    "                fiscal_date = earnings_data['fiscalDateEnding']\n",
    "                estimated_eps = earnings_data['estimatedEPS']\n",
    "                reported_eps = earnings_data['reportedEPS']\n",
    "                writer.writerow([fiscal_date, estimated_eps, reported_eps])\n",
    "    else:\n",
    "        print(\"Quarterly Earnings CSV already present\")\n",
    "    # Report save\n",
    "        \n",
    "    print(f\" Quarterly Earnings data saved to {quarterly_csv}\")\n",
    "    \n",
    "    "
   ]
  },
  {
   "cell_type": "code",
   "execution_count": 7,
   "metadata": {},
   "outputs": [],
   "source": [
    "def BalanceSheetFromAlphaVantage(stock_ticker, data_folder = 'data_files'):\n",
    "    # Request from API\n",
    "    url = 'https://www.alphavantage.co/query?function=BALANCE_SHEET&symbol=IBM&apikey=demo'\n",
    "    response = requests.get(url)\n",
    "    data = response.json()\n",
    "    quarterly_file =  stock_ticker + 'quarterlyBalSheet.csv'\n",
    "    #annual_file =  stock_ticker + 'annualEarnings.csv'\n",
    "    quarterly_csv = os.path.join(data_folder, quarterly_file)\n",
    "    #annual_csv = os.path.join(data_folder, annual_file)\n",
    "    # Parse the response to get EPS data and save it as a CSV file\n",
    "    quarterly_reports = data['quarterlyReports']\n",
    "    #annual_earnings = data['annualEarnings']\n",
    "    if not os.path.isfile(quarterly_csv):\n",
    "        with open(quarterly_csv, mode='w', newline='') as file:\n",
    "            writer = csv.writer(file)\n",
    "            balance_sheet_items = list(quarterly_reports[0].keys())\n",
    "            writer.writerow(balance_sheet_items)  # Write header row\n",
    "            for report in quarterly_reports:\n",
    "                curr_row = []\n",
    "                for item in balance_sheet_items:\n",
    "                    curr_row.append(report[item])\n",
    "                writer.writerow(curr_row)\n",
    "    else:\n",
    "        print(\"Quarterly Earnings CSV already present\")\n",
    "    # Report save\n",
    "        \n",
    "    print(f\" Quarterly Earnings data saved to {quarterly_csv}\")\n",
    "    \n",
    "    "
   ]
  },
  {
   "cell_type": "markdown",
   "metadata": {},
   "source": [
    "## Fetching Initial Data"
   ]
  },
  {
   "cell_type": "markdown",
   "metadata": {},
   "source": [
    "### Sourced from yahoo"
   ]
  },
  {
   "cell_type": "code",
   "execution_count": 8,
   "metadata": {},
   "outputs": [],
   "source": [
    "START_DATE_yahoo =\"1990-01-01\"\n",
    "END_DATE_yahoo = \"2024-05-30\"\n",
    "\n",
    "# Larger Market trends \n",
    "\n",
    "# S&P 500\n",
    "sp500_ticker = '^GSPC'\n",
    "sp500_csv = '.\\data_files\\sp500_RawData.csv'\n",
    "START_DATE_sp500 = START_DATE_yahoo\n",
    "END_DATE_sp500 = END_DATE_yahoo\n",
    "\n",
    "# CBOE Volatility Index (VIX)\n",
    "vix_ticker = '^VIX'\n",
    "vix_csv = '.\\data_files\\VIX_RawData.csv'\n",
    "START_DATE_vix = START_DATE_yahoo\n",
    "END_DATE_vix = END_DATE_yahoo\n",
    "\n",
    "# Large Cap Stocks\n",
    "\n",
    "# Microsoft (MSFT)\n",
    "micro_ticker = 'MSFT'\n",
    "micro_csv = '.\\data_files\\MSFT_RawData.csv'\n",
    "micro_earnings_csv = '.\\data_files\\MSFTquarterlyEarnings.csv'\n",
    "micro_balSht_csv = '.\\data_files\\MSFTquarterlyBalSheet.csv'\n",
    "START_DATE_msft = START_DATE_yahoo\n",
    "END_DATE_msft = END_DATE_yahoo\n",
    "\n",
    "# General Electric (GE)\n",
    "general_elec_ticker = 'GE'\n",
    "ge_csv = '.\\data_files\\GE_RawData.csv'\n",
    "START_DATE_ge = START_DATE_yahoo\n",
    "END_DATE_ge = END_DATE_yahoo\n",
    "\n",
    "# Johnson and Johnson (JNJ)\n",
    "jj_ticker = 'JNJ'\n",
    "jj_csv = '.\\data_files\\JNJ_RawData.csv'\n",
    "jj_earnings_csv = '.\\data_files\\JNJquarterlyEarnings.csv'\n",
    "jj_balSht_csv = '.\\data_files\\JNJquarterlyBalSheet.csv'\n",
    "jj_dividend_csv = '.\\data_files\\JNJdividends.csv'\n",
    "START_DATE_jj = START_DATE_yahoo\n",
    "END_DATE_jj = END_DATE_yahoo\n",
    "\n",
    "# Coca Cola (KO)\n",
    "cc_ticker = 'KO'\n",
    "cc_csv = '.\\data_files\\KO_RawData.csv'\n",
    "START_DATE_cc = START_DATE_yahoo\n",
    "END_DATE_cc = END_DATE_yahoo\n"
   ]
  },
  {
   "cell_type": "markdown",
   "metadata": {},
   "source": [
    "## S&P 500 (representative of of larger market trends)"
   ]
  },
  {
   "cell_type": "code",
   "execution_count": 152,
   "metadata": {},
   "outputs": [
    {
     "name": "stdout",
     "output_type": "stream",
     "text": [
      "^GSPC data already saved in csv\n"
     ]
    }
   ],
   "source": [
    "#getYahoo(sp500_ticker, sp500_csv)"
   ]
  },
  {
   "cell_type": "markdown",
   "metadata": {},
   "source": [
    "## VIX (overall market volatility)"
   ]
  },
  {
   "cell_type": "code",
   "execution_count": 144,
   "metadata": {},
   "outputs": [
    {
     "name": "stdout",
     "output_type": "stream",
     "text": [
      "Retrieving ^VIX Data from Yahoo...\n"
     ]
    },
    {
     "name": "stderr",
     "output_type": "stream",
     "text": [
      "[*********************100%%**********************]  1 of 1 completed"
     ]
    },
    {
     "name": "stdout",
     "output_type": "stream",
     "text": [
      "saving data to csv\n"
     ]
    },
    {
     "name": "stderr",
     "output_type": "stream",
     "text": [
      "\n"
     ]
    }
   ],
   "source": [
    "#getYahoo(vix_ticker,vix_csv)"
   ]
  },
  {
   "cell_type": "markdown",
   "metadata": {},
   "source": [
    "## Johnson and Johnson Historical Stock Price"
   ]
  },
  {
   "cell_type": "code",
   "execution_count": 145,
   "metadata": {},
   "outputs": [
    {
     "name": "stdout",
     "output_type": "stream",
     "text": [
      "Retrieving JNJ Data from Yahoo...\n"
     ]
    },
    {
     "name": "stderr",
     "output_type": "stream",
     "text": [
      "[*********************100%%**********************]  1 of 1 completed"
     ]
    },
    {
     "name": "stdout",
     "output_type": "stream",
     "text": [
      "saving data to csv\n"
     ]
    },
    {
     "name": "stderr",
     "output_type": "stream",
     "text": [
      "\n"
     ]
    }
   ],
   "source": [
    "#getYahoo(jj_ticker, jj_csv)"
   ]
  },
  {
   "cell_type": "markdown",
   "metadata": {},
   "source": [
    "## Microsoft Historical Stock Price"
   ]
  },
  {
   "cell_type": "code",
   "execution_count": 146,
   "metadata": {},
   "outputs": [
    {
     "name": "stdout",
     "output_type": "stream",
     "text": [
      "Retrieving MSFT Data from Yahoo...\n"
     ]
    },
    {
     "name": "stderr",
     "output_type": "stream",
     "text": [
      "[*********************100%%**********************]  1 of 1 completed"
     ]
    },
    {
     "name": "stdout",
     "output_type": "stream",
     "text": [
      "saving data to csv\n"
     ]
    },
    {
     "name": "stderr",
     "output_type": "stream",
     "text": [
      "\n"
     ]
    }
   ],
   "source": [
    "#getYahoo(micro_ticker,micro_csv)"
   ]
  },
  {
   "cell_type": "markdown",
   "metadata": {},
   "source": [
    "## Dividend data"
   ]
  },
  {
   "cell_type": "code",
   "execution_count": 89,
   "metadata": {},
   "outputs": [],
   "source": [
    "#getDividends(jj_ticker)"
   ]
  },
  {
   "cell_type": "code",
   "execution_count": 92,
   "metadata": {},
   "outputs": [],
   "source": [
    "#getDividends(micro_ticker)"
   ]
  },
  {
   "cell_type": "markdown",
   "metadata": {},
   "source": [
    "# Alpha Vantage Accounting Data"
   ]
  },
  {
   "cell_type": "code",
   "execution_count": null,
   "metadata": {},
   "outputs": [],
   "source": [
    "#BalanceSheetFromAlphaVantage(stock_ticker=micro_ticker)\n",
    "#GetEarningsFromAlphaVantage(stock_ticker= micro_ticker)"
   ]
  },
  {
   "cell_type": "code",
   "execution_count": 77,
   "metadata": {
    "scrolled": true
   },
   "outputs": [
    {
     "name": "stdout",
     "output_type": "stream",
     "text": [
      " Quarterly Earnings data saved to data_files\\JNJquarterlyBalSheet.csv\n",
      " Quarterly Earnings data saved to data_files\\JNJquarterlyEarnings.csv\n"
     ]
    }
   ],
   "source": [
    "#BalanceSheetFromAlphaVantage(stock_ticker=jj_ticker)\n",
    "#GetEarningsFromAlphaVantage(stock_ticker= jj_ticker)"
   ]
  },
  {
   "cell_type": "markdown",
   "metadata": {},
   "source": [
    "# FROM CSVs Create Collated Data Frame\n",
    "\n",
    "Features to Extract:\n",
    "\n",
    "    - reported Earnings Per Share\n",
    "    - Total Assets\n",
    "    - Accruals \n",
    "    - Equity Ratio \n",
    "    - Cash Dividends Paid Since last Quarter\n",
    "    - VIX Lagged By By several steps out\n",
    "        - Can achieve some granularity this way despite looking to make quarterly predictions for earnings\n",
    "    - S&P Lagged for several steps \n",
    "        - Can provide information on how it has moved over the last several weeks not just quarter to quarter snapshots "
   ]
  },
  {
   "cell_type": "code",
   "execution_count": 9,
   "metadata": {},
   "outputs": [
    {
     "data": {
      "text/html": [
       "<div>\n",
       "<style scoped>\n",
       "    .dataframe tbody tr th:only-of-type {\n",
       "        vertical-align: middle;\n",
       "    }\n",
       "\n",
       "    .dataframe tbody tr th {\n",
       "        vertical-align: top;\n",
       "    }\n",
       "\n",
       "    .dataframe thead th {\n",
       "        text-align: right;\n",
       "    }\n",
       "</style>\n",
       "<table border=\"1\" class=\"dataframe\">\n",
       "  <thead>\n",
       "    <tr style=\"text-align: right;\">\n",
       "      <th></th>\n",
       "      <th>Daily_Return_percent_SP</th>\n",
       "      <th>Daily_Return_percent_VIX</th>\n",
       "      <th>Dividends</th>\n",
       "      <th>Volume</th>\n",
       "      <th>Daily_Return_percent</th>\n",
       "      <th>Estimated EPS</th>\n",
       "      <th>Reported EPS</th>\n",
       "      <th>totalAssets</th>\n",
       "      <th>Equity Ratio</th>\n",
       "    </tr>\n",
       "    <tr>\n",
       "      <th>Date</th>\n",
       "      <th></th>\n",
       "      <th></th>\n",
       "      <th></th>\n",
       "      <th></th>\n",
       "      <th></th>\n",
       "      <th></th>\n",
       "      <th></th>\n",
       "      <th></th>\n",
       "      <th></th>\n",
       "    </tr>\n",
       "  </thead>\n",
       "  <tbody>\n",
       "    <tr>\n",
       "      <th>1990-01-02</th>\n",
       "      <td>0.017799</td>\n",
       "      <td>0.0</td>\n",
       "      <td>NaN</td>\n",
       "      <td>NaN</td>\n",
       "      <td>NaN</td>\n",
       "      <td>NaN</td>\n",
       "      <td>NaN</td>\n",
       "      <td>NaN</td>\n",
       "      <td>NaN</td>\n",
       "    </tr>\n",
       "    <tr>\n",
       "      <th>1990-01-03</th>\n",
       "      <td>-0.002586</td>\n",
       "      <td>0.0</td>\n",
       "      <td>NaN</td>\n",
       "      <td>NaN</td>\n",
       "      <td>NaN</td>\n",
       "      <td>NaN</td>\n",
       "      <td>NaN</td>\n",
       "      <td>NaN</td>\n",
       "      <td>NaN</td>\n",
       "    </tr>\n",
       "    <tr>\n",
       "      <th>1990-01-04</th>\n",
       "      <td>-0.008613</td>\n",
       "      <td>0.0</td>\n",
       "      <td>NaN</td>\n",
       "      <td>NaN</td>\n",
       "      <td>NaN</td>\n",
       "      <td>NaN</td>\n",
       "      <td>NaN</td>\n",
       "      <td>NaN</td>\n",
       "      <td>NaN</td>\n",
       "    </tr>\n",
       "    <tr>\n",
       "      <th>1990-01-05</th>\n",
       "      <td>-0.009756</td>\n",
       "      <td>0.0</td>\n",
       "      <td>NaN</td>\n",
       "      <td>NaN</td>\n",
       "      <td>NaN</td>\n",
       "      <td>NaN</td>\n",
       "      <td>NaN</td>\n",
       "      <td>NaN</td>\n",
       "      <td>NaN</td>\n",
       "    </tr>\n",
       "    <tr>\n",
       "      <th>1990-01-08</th>\n",
       "      <td>0.004514</td>\n",
       "      <td>0.0</td>\n",
       "      <td>NaN</td>\n",
       "      <td>NaN</td>\n",
       "      <td>NaN</td>\n",
       "      <td>NaN</td>\n",
       "      <td>NaN</td>\n",
       "      <td>NaN</td>\n",
       "      <td>NaN</td>\n",
       "    </tr>\n",
       "  </tbody>\n",
       "</table>\n",
       "</div>"
      ],
      "text/plain": [
       "            Daily_Return_percent_SP  Daily_Return_percent_VIX  Dividends  \\\n",
       "Date                                                                       \n",
       "1990-01-02                 0.017799                       0.0        NaN   \n",
       "1990-01-03                -0.002586                       0.0        NaN   \n",
       "1990-01-04                -0.008613                       0.0        NaN   \n",
       "1990-01-05                -0.009756                       0.0        NaN   \n",
       "1990-01-08                 0.004514                       0.0        NaN   \n",
       "\n",
       "            Volume  Daily_Return_percent  Estimated EPS  Reported EPS  \\\n",
       "Date                                                                    \n",
       "1990-01-02     NaN                   NaN            NaN           NaN   \n",
       "1990-01-03     NaN                   NaN            NaN           NaN   \n",
       "1990-01-04     NaN                   NaN            NaN           NaN   \n",
       "1990-01-05     NaN                   NaN            NaN           NaN   \n",
       "1990-01-08     NaN                   NaN            NaN           NaN   \n",
       "\n",
       "            totalAssets  Equity Ratio  \n",
       "Date                                   \n",
       "1990-01-02          NaN           NaN  \n",
       "1990-01-03          NaN           NaN  \n",
       "1990-01-04          NaN           NaN  \n",
       "1990-01-05          NaN           NaN  \n",
       "1990-01-08          NaN           NaN  "
      ]
     },
     "execution_count": 9,
     "metadata": {},
     "output_type": "execute_result"
    }
   ],
   "source": [
    "Market_Features_to_drop = ['Volume','High','Low','Adj Close']\n",
    "Balance_sheet_features_to_keep = ['totalAssets','totalShareholderEquity']\n",
    "\n",
    "# Get Price Data\n",
    "SP500_raw_df = pd.read_csv(sp500_csv, index_col = 'Date')\n",
    "VIX_raw_df = pd.read_csv(vix_csv, index_col = 'Date')\n",
    "JJ_raw_price_df = pd.read_csv(jj_csv, index_col = 'Date')\n",
    "\n",
    "# Get Quarterly Data\n",
    "JJ_Earnings_df = pd.read_csv(jj_earnings_csv)\n",
    "JJ_Earnings_df['Date'] = pd.to_datetime(JJ_Earnings_df['Fiscal Date'])\n",
    "JJ_Earnings_df.drop(columns = ['Fiscal Date'], inplace = True)\n",
    "JJ_Earnings_df.set_index('Date', inplace = True)\n",
    "JJ_Earnings_df =  JJ_Earnings_df.iloc[::-1]\n",
    "\n",
    "JJ_BalSht_df = pd.read_csv(jj_balSht_csv)\n",
    "JJ_BalSht_df['Date'] = pd.to_datetime(JJ_BalSht_df['fiscalDateEnding'])\n",
    "JJ_BalSht_df.drop(columns = ['fiscalDateEnding'], inplace = True)\n",
    "JJ_BalSht_df.set_index('Date', inplace = True)\n",
    "JJ_BalSht_df =  JJ_BalSht_df.iloc[::-1]\n",
    "\n",
    "# get Dividend Data\n",
    "JJ_dividend_df = pd.read_csv(jj_dividend_csv)\n",
    "JJ_dividend_df['Date'] = JJ_dividend_df['Date'].str.split().str[0]\n",
    "JJ_dividend_df.set_index('Date', inplace = True)\n",
    "\n",
    "# drop market feature form S&P and VIX\n",
    "SP500_raw_df.drop(columns= Market_Features_to_drop, inplace= True)\n",
    "VIX_raw_df.drop(columns=Market_Features_to_drop, inplace= True)\n",
    "\n",
    "# drop high and low\n",
    "JJ_raw_price_df.drop(columns=['High','Adj Close', 'Low'], inplace=True)\n",
    "\n",
    "# Calculate daily return\n",
    "SP500_raw_df['Daily_Return_dollars'] = SP500_raw_df['Close'] - SP500_raw_df['Open']\n",
    "VIX_raw_df['Daily_Return_dollars'] = VIX_raw_df['Close'] - VIX_raw_df['Open']\n",
    "\n",
    "SP500_raw_df['Daily_Return_percent'] = SP500_raw_df['Daily_Return_dollars']/SP500_raw_df['Open']\n",
    "VIX_raw_df['Daily_Return_percent'] = VIX_raw_df['Daily_Return_dollars']/VIX_raw_df['Open']\n",
    "\n",
    "JJ_raw_price_df['Daily_Return_dollars'] = JJ_raw_price_df['Close'] - JJ_raw_price_df['Open']\n",
    "JJ_raw_price_df['Daily_Return_percent'] = JJ_raw_price_df['Daily_Return_dollars']/JJ_raw_price_df['Open']\n",
    "\n",
    "# drop open and close\n",
    "JJ_raw_price_df.drop(columns=['Open','Close','Daily_Return_dollars'], inplace = True)\n",
    "SP500_raw_df.drop(columns=['Open','Close','Daily_Return_dollars'], inplace = True)\n",
    "VIX_raw_df.drop(columns=['Open','Close','Daily_Return_dollars'], inplace = True)\n",
    "\n",
    "# Balance Sheet Features\n",
    "JJ_Bal_Sheet_reduced_df = JJ_BalSht_df.loc[:,Balance_sheet_features_to_keep]\n",
    "JJ_Bal_Sheet_reduced_df['Equity Ratio'] = JJ_Bal_Sheet_reduced_df['totalShareholderEquity'] /JJ_Bal_Sheet_reduced_df['totalAssets']\n",
    "JJ_Bal_Sheet_reduced_df.drop(columns=['totalShareholderEquity'], inplace = True)\n",
    "\n",
    "# JJ merge\n",
    "JJ_market_df = JJ_dividend_df.merge(JJ_raw_price_df, left_index=True, right_index=True)\n",
    "JJ_market_df.index = pd.to_datetime(JJ_market_df.index)\n",
    "JJ_earnbal_df = JJ_Earnings_df.merge(JJ_Bal_Sheet_reduced_df, left_index = True, right_index = True)\n",
    "JJ_merge_df = JJ_market_df.merge(JJ_earnbal_df,how = 'outer', left_index= True, right_index= True)\n",
    "\n",
    "# Merge Raw Data\n",
    "market_df = SP500_raw_df.merge(VIX_raw_df, left_index=True, right_index=True,suffixes=('_SP','_VIX'))\n",
    "market_df.index = pd.to_datetime(market_df.index)\n",
    "\n",
    "merged_df = market_df.merge(JJ_merge_df, how = 'outer', left_index= True, right_index= True)\n",
    "# Display Data Frame Head\n",
    "merged_df.head()"
   ]
  },
  {
   "cell_type": "markdown",
   "metadata": {},
   "source": [
    "# Summary of the Final Features/ Target and train test split"
   ]
  },
  {
   "cell_type": "markdown",
   "metadata": {},
   "source": [
    "# RNN (Franco)\n",
    "## Why this model for this problem\n",
<<<<<<< Updated upstream
    "## Model Architecture\n",
    "## Model Specific Preprocessing \n",
    "## Model Specific Tuning\n",
=======
    "\n",
    "* Recurrent nerual networks are specifically designed to handle sequential data, ideal for time-series forecasting. gated neural networks like the LSTM offer nuanced pattern recognition and adapt to macroeconomic trends and cycles over time."
   ]
  },
  {
   "cell_type": "markdown",
   "metadata": {},
   "source": [
    "## Model Architecture\n",
    "\n",
    "Our RNN will utilize a Long Short Term Memory Model, as justified by its advantages for time series."
   ]
  },
  {
   "cell_type": "code",
   "execution_count": 10,
   "metadata": {},
   "outputs": [],
   "source": [
    "from sklearn.preprocessing import StandardScaler\n",
    "\n",
    "n_steps = 4\n",
    "\n",
    "# `merged_df` needs numeric types no missing values\n",
    "data = merged_df.values\n",
    "\n",
    "# Normalize features\n",
    "scaler = StandardScaler()\n",
    "data_scaled = scaler.fit_transform(data)\n",
    "\n",
    "# Reshape data to fit the RNN input shape\n",
    "def create_sequences(data, n_steps):\n",
    "    X, y = [], []\n",
    "    for i in range(n_steps, len(data)):\n",
    "        X.append(data[i-n_steps:i, :])\n",
    "        y.append(data[i, 0])  \n",
    "    return np.array(X), np.array(y)\n",
    "\n",
    "X, y = create_sequences(data_scaled, n_steps)\n",
    "\n",
    "# Split the dataset\n",
    "train_size = int(0.8 * len(X))\n",
    "X_train, X_test = X[:train_size], X[train_size:]\n",
    "y_train, y_test = y[:train_size], y[train_size:]\n"
   ]
  },
  {
   "cell_type": "code",
   "execution_count": 35,
   "metadata": {},
   "outputs": [],
   "source": [
    "import tensorflow as tf\n",
    "from tensorflow.keras.models import Sequential\n",
    "from tensorflow.keras.layers import LSTM, Dense, Dropout"
   ]
  },
  {
   "cell_type": "code",
   "execution_count": 31,
   "metadata": {},
   "outputs": [
    {
     "ename": "NameError",
     "evalue": "name 'Sequential' is not defined",
     "output_type": "error",
     "traceback": [
      "\u001b[1;31m---------------------------------------------------------------------------\u001b[0m",
      "\u001b[1;31mNameError\u001b[0m                                 Traceback (most recent call last)",
      "Cell \u001b[1;32mIn[31], line 4\u001b[0m\n\u001b[0;32m      1\u001b[0m \u001b[38;5;28;01mfrom\u001b[39;00m \u001b[38;5;21;01mtensorflow\u001b[39;00m\u001b[38;5;21;01m.\u001b[39;00m\u001b[38;5;21;01mkeras\u001b[39;00m\u001b[38;5;21;01m.\u001b[39;00m\u001b[38;5;21;01moptimizers\u001b[39;00m \u001b[38;5;28;01mimport\u001b[39;00m Adam\n\u001b[0;32m      3\u001b[0m \u001b[38;5;66;03m# Define model\u001b[39;00m\n\u001b[1;32m----> 4\u001b[0m model \u001b[38;5;241m=\u001b[39m \u001b[43mSequential\u001b[49m([\n\u001b[0;32m      5\u001b[0m     LSTM(\u001b[38;5;241m50\u001b[39m, activation\u001b[38;5;241m=\u001b[39m\u001b[38;5;124m'\u001b[39m\u001b[38;5;124mtanh\u001b[39m\u001b[38;5;124m'\u001b[39m, input_shape\u001b[38;5;241m=\u001b[39m(n_steps, n_features), return_sequences\u001b[38;5;241m=\u001b[39m\u001b[38;5;28;01mTrue\u001b[39;00m),\n\u001b[0;32m      6\u001b[0m     Dropout(\u001b[38;5;241m0.2\u001b[39m),\n\u001b[0;32m      7\u001b[0m     LSTM(\u001b[38;5;241m50\u001b[39m, activation\u001b[38;5;241m=\u001b[39m\u001b[38;5;124m'\u001b[39m\u001b[38;5;124mtanh\u001b[39m\u001b[38;5;124m'\u001b[39m),\n\u001b[0;32m      8\u001b[0m     Dropout(\u001b[38;5;241m0.2\u001b[39m),\n\u001b[0;32m      9\u001b[0m     Dense(\u001b[38;5;241m1\u001b[39m)\n\u001b[0;32m     10\u001b[0m ])\n\u001b[0;32m     12\u001b[0m optimizer \u001b[38;5;241m=\u001b[39m Adam(learning_rate\u001b[38;5;241m=\u001b[39m\u001b[38;5;241m0.001\u001b[39m)  \u001b[38;5;66;03m# Reduced learning rate\u001b[39;00m\n\u001b[0;32m     13\u001b[0m model\u001b[38;5;241m.\u001b[39mcompile(optimizer\u001b[38;5;241m=\u001b[39moptimizer, loss\u001b[38;5;241m=\u001b[39m\u001b[38;5;124m'\u001b[39m\u001b[38;5;124mmean_squared_error\u001b[39m\u001b[38;5;124m'\u001b[39m)\n",
      "\u001b[1;31mNameError\u001b[0m: name 'Sequential' is not defined"
     ]
    }
   ],
   "source": [
    "\n",
    "\n",
    "# Define model\n",
    "model = Sequential([\n",
    "    LSTM(50, activation='tanh', input_shape=(n_steps, n_features), return_sequences=True),\n",
    "    Dropout(0.2),\n",
    "    LSTM(50, activation='tanh'),\n",
    "    Dropout(0.2),\n",
    "    Dense(1)\n",
    "])\n",
    "\n",
    "optimizer = Adam(learning_rate=0.001)  # Reduced learning rate\n",
    "model.compile(optimizer=optimizer, loss='mean_squared_error')\n",
    "\n",
    "# Train model\n",
    "model.fit(X_train, y_train, batch_size=batch_size, epochs=5, verbose=1, validation_split=0.2)\n"
   ]
  },
  {
   "cell_type": "code",
   "execution_count": 22,
   "metadata": {},
   "outputs": [
    {
     "name": "stdout",
     "output_type": "stream",
     "text": [
      "\u001b[1m55/55\u001b[0m \u001b[32m━━━━━━━━━━━━━━━━━━━━\u001b[0m\u001b[37m\u001b[0m \u001b[1m0s\u001b[0m 1ms/step - loss: nan\n",
      "Test Loss: nan\n"
     ]
    }
   ],
   "source": [
    "# Evaluate the model\n",
    "test_loss = model.evaluate(X_test, y_test)\n",
    "print(f'Test Loss: {test_loss}')\n"
   ]
  },
  {
   "cell_type": "code",
   "execution_count": 23,
   "metadata": {},
   "outputs": [
    {
     "name": "stdout",
     "output_type": "stream",
     "text": [
      "\u001b[1m55/55\u001b[0m \u001b[32m━━━━━━━━━━━━━━━━━━━━\u001b[0m\u001b[37m\u001b[0m \u001b[1m0s\u001b[0m 4ms/step\n"
     ]
    }
   ],
   "source": [
    "# Making predictions\n",
    "predicted_values = model.predict(X_test)\n"
   ]
  },
  {
   "cell_type": "code",
   "execution_count": 24,
   "metadata": {},
   "outputs": [
    {
     "name": "stdout",
     "output_type": "stream",
     "text": [
      "\u001b[1m55/55\u001b[0m \u001b[32m━━━━━━━━━━━━━━━━━━━━\u001b[0m\u001b[37m\u001b[0m \u001b[1m0s\u001b[0m 834us/step\n"
     ]
    },
    {
     "data": {
      "image/png": "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",
      "text/plain": [
       "<Figure size 1000x600 with 1 Axes>"
      ]
     },
     "metadata": {},
     "output_type": "display_data"
    }
   ],
   "source": [
    "import matplotlib.pyplot as plt\n",
    "\n",
    "# Predicting\n",
    "predicted_values = model.predict(X_test)\n",
    "plt.figure(figsize=(10, 6))\n",
    "plt.plot(y_test, label='True Values')\n",
    "plt.plot(predicted_values, label='Predicted Values')\n",
    "plt.title('Comparison of Actual and Predicted Values')\n",
    "plt.legend()\n",
    "plt.show()\n"
   ]
  },
  {
   "cell_type": "markdown",
   "metadata": {},
   "source": [
    "## Model Specific Preprocessing "
   ]
  },
  {
   "cell_type": "markdown",
   "metadata": {},
   "source": [
    "## Model Specific Tuning"
   ]
  },
  {
   "cell_type": "markdown",
   "metadata": {},
   "source": [
>>>>>>> Stashed changes
    "## Model Evaluation"
   ]
  },
  {
   "cell_type": "markdown",
   "metadata": {},
   "source": [
    "## Fitted Model and Results\n",
    "    - Report on hyper parameters\n",
    "    - Report on fit quality\n",
    "    - Ideas on improvement if the model was continued to be"
   ]
  },
  {
   "cell_type": "markdown",
   "metadata": {},
   "source": [
    "## RNN results (Franco)\n"
   ]
  },
  {
   "cell_type": "markdown",
   "metadata": {},
   "source": [
    "# XGBoost (Hank)\n",
    "## Why this model for this problem\n",
    "## Model Architecture\n",
    "## Model Specific Preprocessing \n",
    "## Model Specific Tuning\n",
    "## Model Evaluation"
   ]
  },
  {
   "cell_type": "markdown",
   "metadata": {},
   "source": [
    "## Fitted Model and Results\n",
    "    - Report on hyper parameters\n",
    "    - Report on fit quality\n",
    "    - Ideas on improvement if the model was continued to be"
   ]
  },
  {
   "cell_type": "markdown",
   "metadata": {},
   "source": [
    "# Random Forest (Bhavesh)\n",
    "## Why this model for this problem\n",
    "## Model Architecture\n",
    "## Model Specific Preprocessing \n",
    "## Model Specific Tuning\n",
    "## Model Evaluation"
   ]
  },
  {
   "cell_type": "markdown",
   "metadata": {},
   "source": [
    "## Fitted Model and Results\n",
    "    - Report on hyper parameters\n",
    "    - Report on fit quality\n",
    "    - Ideas on improvement if the model was continued to be"
   ]
  },
  {
   "cell_type": "markdown",
   "metadata": {},
   "source": [
    "# Kmeans Regimes + Markov Chain (Kevin)\n",
    "## Why this model for this problem\n",
    "## Model Architecture\n",
    "## Model Specific Preprocessing \n",
    "## Model Specific Tuning\n",
    "## Model Evaluation"
   ]
  },
  {
   "cell_type": "markdown",
   "metadata": {},
   "source": [
    "## Fitted Model and Results\n",
    "    - Report on hyper parameters\n",
    "    - Report on fit quality\n",
    "    - Ideas on improvement if the model was continued to be"
   ]
  },
  {
   "cell_type": "code",
   "execution_count": null,
   "metadata": {},
   "outputs": [],
   "source": []
  }
 ],
 "metadata": {
  "kernelspec": {
   "display_name": "Python 3 (ipykernel)",
   "language": "python",
   "name": "python3"
  },
  "language_info": {
   "codemirror_mode": {
    "name": "ipython",
    "version": 3
   },
   "file_extension": ".py",
   "mimetype": "text/x-python",
   "name": "python",
   "nbconvert_exporter": "python",
   "pygments_lexer": "ipython3",
   "version": "3.11.9"
  }
 },
 "nbformat": 4,
 "nbformat_minor": 4
}
